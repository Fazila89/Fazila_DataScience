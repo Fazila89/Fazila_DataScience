{
 "cells": [
  {
   "cell_type": "markdown",
   "id": "0266c1b7",
   "metadata": {},
   "source": [
    "### Import Standard Libraries"
   ]
  },
  {
   "cell_type": "code",
   "execution_count": 1,
   "id": "30288b7c",
   "metadata": {},
   "outputs": [],
   "source": [
    "# Import Necessary Modules\n",
    "import numpy as np\n",
    "import pandas as pd\n",
    "import matplotlib.pyplot as plt\n",
    "import seaborn as sns\n",
    "\n",
    "import warnings\n",
    "warnings.filterwarnings('ignore')"
   ]
  },
  {
   "cell_type": "code",
   "execution_count": 2,
   "id": "dbea3140",
   "metadata": {},
   "outputs": [],
   "source": [
    "# Load the dataset\n",
    "data=pd.read_csv('DrugNew.csv')"
   ]
  },
  {
   "cell_type": "code",
   "execution_count": 3,
   "id": "93cff8d6",
   "metadata": {},
   "outputs": [
    {
     "data": {
      "text/html": [
       "<div>\n",
       "<style scoped>\n",
       "    .dataframe tbody tr th:only-of-type {\n",
       "        vertical-align: middle;\n",
       "    }\n",
       "\n",
       "    .dataframe tbody tr th {\n",
       "        vertical-align: top;\n",
       "    }\n",
       "\n",
       "    .dataframe thead th {\n",
       "        text-align: right;\n",
       "    }\n",
       "</style>\n",
       "<table border=\"1\" class=\"dataframe\">\n",
       "  <thead>\n",
       "    <tr style=\"text-align: right;\">\n",
       "      <th></th>\n",
       "      <th>Age</th>\n",
       "      <th>Condition</th>\n",
       "      <th>Date</th>\n",
       "      <th>Drug</th>\n",
       "      <th>DrugId</th>\n",
       "      <th>EaseofUse</th>\n",
       "      <th>Effectiveness</th>\n",
       "      <th>Reviews</th>\n",
       "      <th>Satisfaction</th>\n",
       "      <th>Sex</th>\n",
       "      <th>Sides</th>\n",
       "      <th>UsefulCount</th>\n",
       "    </tr>\n",
       "  </thead>\n",
       "  <tbody>\n",
       "    <tr>\n",
       "      <th>0</th>\n",
       "      <td>75 or over</td>\n",
       "      <td>Stuffy Nose</td>\n",
       "      <td>9/21/2014</td>\n",
       "      <td>25dph-7.5peh</td>\n",
       "      <td>146724</td>\n",
       "      <td>5</td>\n",
       "      <td>5</td>\n",
       "      <td>I'm a retired physician and of all the meds I ...</td>\n",
       "      <td>5</td>\n",
       "      <td>Male</td>\n",
       "      <td>Drowsiness,  dizziness ,  dry mouth /nose/thro...</td>\n",
       "      <td>0</td>\n",
       "    </tr>\n",
       "    <tr>\n",
       "      <th>1</th>\n",
       "      <td>25-34</td>\n",
       "      <td>Cold Symptoms</td>\n",
       "      <td>1/13/2011</td>\n",
       "      <td>25dph-7.5peh</td>\n",
       "      <td>146724</td>\n",
       "      <td>5</td>\n",
       "      <td>5</td>\n",
       "      <td>cleared me right up even with my throat hurtin...</td>\n",
       "      <td>5</td>\n",
       "      <td>Female</td>\n",
       "      <td>Drowsiness,  dizziness ,  dry mouth /nose/thro...</td>\n",
       "      <td>1</td>\n",
       "    </tr>\n",
       "    <tr>\n",
       "      <th>2</th>\n",
       "      <td>65-74</td>\n",
       "      <td>Other</td>\n",
       "      <td>7/16/2012</td>\n",
       "      <td>warfarin (bulk) 100 % powder</td>\n",
       "      <td>144731</td>\n",
       "      <td>2</td>\n",
       "      <td>3</td>\n",
       "      <td>why did my PTINR go from a normal of 2.5 to ov...</td>\n",
       "      <td>3</td>\n",
       "      <td>Female</td>\n",
       "      <td></td>\n",
       "      <td>0</td>\n",
       "    </tr>\n",
       "    <tr>\n",
       "      <th>3</th>\n",
       "      <td>75 or over</td>\n",
       "      <td>Other</td>\n",
       "      <td>9/23/2010</td>\n",
       "      <td>warfarin (bulk) 100 % powder</td>\n",
       "      <td>144731</td>\n",
       "      <td>2</td>\n",
       "      <td>2</td>\n",
       "      <td>FALLING AND DON'T REALISE IT</td>\n",
       "      <td>1</td>\n",
       "      <td>Female</td>\n",
       "      <td></td>\n",
       "      <td>0</td>\n",
       "    </tr>\n",
       "    <tr>\n",
       "      <th>4</th>\n",
       "      <td>35-44</td>\n",
       "      <td>Other</td>\n",
       "      <td>1/6/2009</td>\n",
       "      <td>warfarin (bulk) 100 % powder</td>\n",
       "      <td>144731</td>\n",
       "      <td>1</td>\n",
       "      <td>1</td>\n",
       "      <td>My grandfather was prescribed this medication ...</td>\n",
       "      <td>1</td>\n",
       "      <td>Male</td>\n",
       "      <td></td>\n",
       "      <td>1</td>\n",
       "    </tr>\n",
       "    <tr>\n",
       "      <th>...</th>\n",
       "      <td>...</td>\n",
       "      <td>...</td>\n",
       "      <td>...</td>\n",
       "      <td>...</td>\n",
       "      <td>...</td>\n",
       "      <td>...</td>\n",
       "      <td>...</td>\n",
       "      <td>...</td>\n",
       "      <td>...</td>\n",
       "      <td>...</td>\n",
       "      <td>...</td>\n",
       "      <td>...</td>\n",
       "    </tr>\n",
       "    <tr>\n",
       "      <th>362801</th>\n",
       "      <td>55-64</td>\n",
       "      <td>Stop Smoking</td>\n",
       "      <td>11/14/2008</td>\n",
       "      <td>chantix</td>\n",
       "      <td>144470</td>\n",
       "      <td>5</td>\n",
       "      <td>5</td>\n",
       "      <td>I took the whole 12 weeks.I could have stopped...</td>\n",
       "      <td>5</td>\n",
       "      <td>Female</td>\n",
       "      <td>Nausea ,  headache ,  vomiting , drowsiness, g...</td>\n",
       "      <td>2</td>\n",
       "    </tr>\n",
       "    <tr>\n",
       "      <th>362802</th>\n",
       "      <td></td>\n",
       "      <td>Other</td>\n",
       "      <td>11/14/2008</td>\n",
       "      <td>chantix</td>\n",
       "      <td>144470</td>\n",
       "      <td>2</td>\n",
       "      <td>3</td>\n",
       "      <td>My dad strated taking Chantix about 1 month ag...</td>\n",
       "      <td>1</td>\n",
       "      <td></td>\n",
       "      <td>Nausea ,  headache ,  vomiting , drowsiness, g...</td>\n",
       "      <td>16</td>\n",
       "    </tr>\n",
       "    <tr>\n",
       "      <th>362803</th>\n",
       "      <td>25-34</td>\n",
       "      <td>Stop Smoking</td>\n",
       "      <td>11/13/2008</td>\n",
       "      <td>chantix</td>\n",
       "      <td>144470</td>\n",
       "      <td>2</td>\n",
       "      <td>4</td>\n",
       "      <td>As long as I was on chantix, I didn't smoke.  ...</td>\n",
       "      <td>2</td>\n",
       "      <td>Female</td>\n",
       "      <td>Nausea ,  headache ,  vomiting , drowsiness, g...</td>\n",
       "      <td>3</td>\n",
       "    </tr>\n",
       "    <tr>\n",
       "      <th>362804</th>\n",
       "      <td>55-64</td>\n",
       "      <td>Stop Smoking</td>\n",
       "      <td>11/13/2008</td>\n",
       "      <td>chantix</td>\n",
       "      <td>144470</td>\n",
       "      <td>5</td>\n",
       "      <td>5</td>\n",
       "      <td>Started this medication Oct 5th 2008. Haven't ...</td>\n",
       "      <td>5</td>\n",
       "      <td>Male</td>\n",
       "      <td>Nausea ,  headache ,  vomiting , drowsiness, g...</td>\n",
       "      <td>1</td>\n",
       "    </tr>\n",
       "    <tr>\n",
       "      <th>362805</th>\n",
       "      <td>45-54</td>\n",
       "      <td>Stop Smoking</td>\n",
       "      <td>11/12/2008</td>\n",
       "      <td>chantix</td>\n",
       "      <td>144470</td>\n",
       "      <td>4</td>\n",
       "      <td>5</td>\n",
       "      <td>One year ago, I tried Chantix and had to stop ...</td>\n",
       "      <td>5</td>\n",
       "      <td>Female</td>\n",
       "      <td>Nausea ,  headache ,  vomiting , drowsiness, g...</td>\n",
       "      <td>3</td>\n",
       "    </tr>\n",
       "  </tbody>\n",
       "</table>\n",
       "<p>362806 rows × 12 columns</p>\n",
       "</div>"
      ],
      "text/plain": [
       "               Age      Condition        Date                          Drug  \\\n",
       "0       75 or over    Stuffy Nose   9/21/2014                  25dph-7.5peh   \n",
       "1            25-34  Cold Symptoms   1/13/2011                  25dph-7.5peh   \n",
       "2            65-74          Other   7/16/2012  warfarin (bulk) 100 % powder   \n",
       "3       75 or over          Other   9/23/2010  warfarin (bulk) 100 % powder   \n",
       "4            35-44          Other    1/6/2009  warfarin (bulk) 100 % powder   \n",
       "...            ...            ...         ...                           ...   \n",
       "362801       55-64   Stop Smoking  11/14/2008                       chantix   \n",
       "362802                      Other  11/14/2008                       chantix   \n",
       "362803       25-34   Stop Smoking  11/13/2008                       chantix   \n",
       "362804       55-64   Stop Smoking  11/13/2008                       chantix   \n",
       "362805       45-54   Stop Smoking  11/12/2008                       chantix   \n",
       "\n",
       "        DrugId  EaseofUse  Effectiveness  \\\n",
       "0       146724          5              5   \n",
       "1       146724          5              5   \n",
       "2       144731          2              3   \n",
       "3       144731          2              2   \n",
       "4       144731          1              1   \n",
       "...        ...        ...            ...   \n",
       "362801  144470          5              5   \n",
       "362802  144470          2              3   \n",
       "362803  144470          2              4   \n",
       "362804  144470          5              5   \n",
       "362805  144470          4              5   \n",
       "\n",
       "                                                  Reviews  Satisfaction  \\\n",
       "0       I'm a retired physician and of all the meds I ...             5   \n",
       "1       cleared me right up even with my throat hurtin...             5   \n",
       "2       why did my PTINR go from a normal of 2.5 to ov...             3   \n",
       "3                            FALLING AND DON'T REALISE IT             1   \n",
       "4       My grandfather was prescribed this medication ...             1   \n",
       "...                                                   ...           ...   \n",
       "362801  I took the whole 12 weeks.I could have stopped...             5   \n",
       "362802  My dad strated taking Chantix about 1 month ag...             1   \n",
       "362803  As long as I was on chantix, I didn't smoke.  ...             2   \n",
       "362804  Started this medication Oct 5th 2008. Haven't ...             5   \n",
       "362805  One year ago, I tried Chantix and had to stop ...             5   \n",
       "\n",
       "           Sex                                              Sides  UsefulCount  \n",
       "0         Male  Drowsiness,  dizziness ,  dry mouth /nose/thro...            0  \n",
       "1       Female  Drowsiness,  dizziness ,  dry mouth /nose/thro...            1  \n",
       "2       Female                                                               0  \n",
       "3       Female                                                               0  \n",
       "4         Male                                                               1  \n",
       "...        ...                                                ...          ...  \n",
       "362801  Female  Nausea ,  headache ,  vomiting , drowsiness, g...            2  \n",
       "362802          Nausea ,  headache ,  vomiting , drowsiness, g...           16  \n",
       "362803  Female  Nausea ,  headache ,  vomiting , drowsiness, g...            3  \n",
       "362804    Male  Nausea ,  headache ,  vomiting , drowsiness, g...            1  \n",
       "362805  Female  Nausea ,  headache ,  vomiting , drowsiness, g...            3  \n",
       "\n",
       "[362806 rows x 12 columns]"
      ]
     },
     "execution_count": 3,
     "metadata": {},
     "output_type": "execute_result"
    }
   ],
   "source": [
    "data"
   ]
  },
  {
   "cell_type": "code",
   "execution_count": 4,
   "id": "f16db6f3",
   "metadata": {},
   "outputs": [
    {
     "name": "stdout",
     "output_type": "stream",
     "text": [
      "Requirement already satisfied: Faker in c:\\users\\formy\\anaconda3\\lib\\site-packages (18.11.2)\n",
      "Requirement already satisfied: python-dateutil>=2.4 in c:\\users\\formy\\anaconda3\\lib\\site-packages (from Faker) (2.8.2)\n",
      "Requirement already satisfied: six>=1.5 in c:\\users\\formy\\anaconda3\\lib\\site-packages (from python-dateutil>=2.4->Faker) (1.16.0)\n",
      "Note: you may need to restart the kernel to use updated packages.\n"
     ]
    }
   ],
   "source": [
    "pip install Faker"
   ]
  },
  {
   "cell_type": "markdown",
   "id": "3bdcfd0e",
   "metadata": {},
   "source": [
    "### Creating name and race columns with Faker"
   ]
  },
  {
   "cell_type": "code",
   "execution_count": 4,
   "id": "380dd936",
   "metadata": {},
   "outputs": [],
   "source": [
    "from faker import Faker\n",
    "import random\n",
    "fake = Faker()\n",
    "for index, row in data.iterrows():\n",
    "    name = fake.name()\n",
    "    race = random.choice(['Caucasian', 'African-American', 'Asian', 'Hispanic'])\n",
    "    \n",
    "    # Assign the generated name and race to the corresponding columns\n",
    "    data.at[index, 'name'] = name\n",
    "    data.at[index, 'race'] = race"
   ]
  },
  {
   "cell_type": "code",
   "execution_count": 5,
   "id": "f3147335",
   "metadata": {},
   "outputs": [
    {
     "data": {
      "text/html": [
       "<div>\n",
       "<style scoped>\n",
       "    .dataframe tbody tr th:only-of-type {\n",
       "        vertical-align: middle;\n",
       "    }\n",
       "\n",
       "    .dataframe tbody tr th {\n",
       "        vertical-align: top;\n",
       "    }\n",
       "\n",
       "    .dataframe thead th {\n",
       "        text-align: right;\n",
       "    }\n",
       "</style>\n",
       "<table border=\"1\" class=\"dataframe\">\n",
       "  <thead>\n",
       "    <tr style=\"text-align: right;\">\n",
       "      <th></th>\n",
       "      <th>Age</th>\n",
       "      <th>Condition</th>\n",
       "      <th>Date</th>\n",
       "      <th>Drug</th>\n",
       "      <th>DrugId</th>\n",
       "      <th>EaseofUse</th>\n",
       "      <th>Effectiveness</th>\n",
       "      <th>Reviews</th>\n",
       "      <th>Satisfaction</th>\n",
       "      <th>Sex</th>\n",
       "      <th>Sides</th>\n",
       "      <th>UsefulCount</th>\n",
       "      <th>name</th>\n",
       "      <th>race</th>\n",
       "    </tr>\n",
       "  </thead>\n",
       "  <tbody>\n",
       "    <tr>\n",
       "      <th>0</th>\n",
       "      <td>75 or over</td>\n",
       "      <td>Stuffy Nose</td>\n",
       "      <td>9/21/2014</td>\n",
       "      <td>25dph-7.5peh</td>\n",
       "      <td>146724</td>\n",
       "      <td>5</td>\n",
       "      <td>5</td>\n",
       "      <td>I'm a retired physician and of all the meds I ...</td>\n",
       "      <td>5</td>\n",
       "      <td>Male</td>\n",
       "      <td>Drowsiness,  dizziness ,  dry mouth /nose/thro...</td>\n",
       "      <td>0</td>\n",
       "      <td>David Pace</td>\n",
       "      <td>African-American</td>\n",
       "    </tr>\n",
       "    <tr>\n",
       "      <th>1</th>\n",
       "      <td>25-34</td>\n",
       "      <td>Cold Symptoms</td>\n",
       "      <td>1/13/2011</td>\n",
       "      <td>25dph-7.5peh</td>\n",
       "      <td>146724</td>\n",
       "      <td>5</td>\n",
       "      <td>5</td>\n",
       "      <td>cleared me right up even with my throat hurtin...</td>\n",
       "      <td>5</td>\n",
       "      <td>Female</td>\n",
       "      <td>Drowsiness,  dizziness ,  dry mouth /nose/thro...</td>\n",
       "      <td>1</td>\n",
       "      <td>Kurt Pierce</td>\n",
       "      <td>Asian</td>\n",
       "    </tr>\n",
       "    <tr>\n",
       "      <th>2</th>\n",
       "      <td>65-74</td>\n",
       "      <td>Other</td>\n",
       "      <td>7/16/2012</td>\n",
       "      <td>warfarin (bulk) 100 % powder</td>\n",
       "      <td>144731</td>\n",
       "      <td>2</td>\n",
       "      <td>3</td>\n",
       "      <td>why did my PTINR go from a normal of 2.5 to ov...</td>\n",
       "      <td>3</td>\n",
       "      <td>Female</td>\n",
       "      <td></td>\n",
       "      <td>0</td>\n",
       "      <td>Drew Aguirre</td>\n",
       "      <td>African-American</td>\n",
       "    </tr>\n",
       "    <tr>\n",
       "      <th>3</th>\n",
       "      <td>75 or over</td>\n",
       "      <td>Other</td>\n",
       "      <td>9/23/2010</td>\n",
       "      <td>warfarin (bulk) 100 % powder</td>\n",
       "      <td>144731</td>\n",
       "      <td>2</td>\n",
       "      <td>2</td>\n",
       "      <td>FALLING AND DON'T REALISE IT</td>\n",
       "      <td>1</td>\n",
       "      <td>Female</td>\n",
       "      <td></td>\n",
       "      <td>0</td>\n",
       "      <td>Amy Richards</td>\n",
       "      <td>Asian</td>\n",
       "    </tr>\n",
       "    <tr>\n",
       "      <th>4</th>\n",
       "      <td>35-44</td>\n",
       "      <td>Other</td>\n",
       "      <td>1/6/2009</td>\n",
       "      <td>warfarin (bulk) 100 % powder</td>\n",
       "      <td>144731</td>\n",
       "      <td>1</td>\n",
       "      <td>1</td>\n",
       "      <td>My grandfather was prescribed this medication ...</td>\n",
       "      <td>1</td>\n",
       "      <td>Male</td>\n",
       "      <td></td>\n",
       "      <td>1</td>\n",
       "      <td>Rebecca Morales</td>\n",
       "      <td>Caucasian</td>\n",
       "    </tr>\n",
       "    <tr>\n",
       "      <th>...</th>\n",
       "      <td>...</td>\n",
       "      <td>...</td>\n",
       "      <td>...</td>\n",
       "      <td>...</td>\n",
       "      <td>...</td>\n",
       "      <td>...</td>\n",
       "      <td>...</td>\n",
       "      <td>...</td>\n",
       "      <td>...</td>\n",
       "      <td>...</td>\n",
       "      <td>...</td>\n",
       "      <td>...</td>\n",
       "      <td>...</td>\n",
       "      <td>...</td>\n",
       "    </tr>\n",
       "    <tr>\n",
       "      <th>362801</th>\n",
       "      <td>55-64</td>\n",
       "      <td>Stop Smoking</td>\n",
       "      <td>11/14/2008</td>\n",
       "      <td>chantix</td>\n",
       "      <td>144470</td>\n",
       "      <td>5</td>\n",
       "      <td>5</td>\n",
       "      <td>I took the whole 12 weeks.I could have stopped...</td>\n",
       "      <td>5</td>\n",
       "      <td>Female</td>\n",
       "      <td>Nausea ,  headache ,  vomiting , drowsiness, g...</td>\n",
       "      <td>2</td>\n",
       "      <td>Grace Perry</td>\n",
       "      <td>African-American</td>\n",
       "    </tr>\n",
       "    <tr>\n",
       "      <th>362802</th>\n",
       "      <td></td>\n",
       "      <td>Other</td>\n",
       "      <td>11/14/2008</td>\n",
       "      <td>chantix</td>\n",
       "      <td>144470</td>\n",
       "      <td>2</td>\n",
       "      <td>3</td>\n",
       "      <td>My dad strated taking Chantix about 1 month ag...</td>\n",
       "      <td>1</td>\n",
       "      <td></td>\n",
       "      <td>Nausea ,  headache ,  vomiting , drowsiness, g...</td>\n",
       "      <td>16</td>\n",
       "      <td>Nicole Salazar</td>\n",
       "      <td>Caucasian</td>\n",
       "    </tr>\n",
       "    <tr>\n",
       "      <th>362803</th>\n",
       "      <td>25-34</td>\n",
       "      <td>Stop Smoking</td>\n",
       "      <td>11/13/2008</td>\n",
       "      <td>chantix</td>\n",
       "      <td>144470</td>\n",
       "      <td>2</td>\n",
       "      <td>4</td>\n",
       "      <td>As long as I was on chantix, I didn't smoke.  ...</td>\n",
       "      <td>2</td>\n",
       "      <td>Female</td>\n",
       "      <td>Nausea ,  headache ,  vomiting , drowsiness, g...</td>\n",
       "      <td>3</td>\n",
       "      <td>Derek Garcia</td>\n",
       "      <td>Hispanic</td>\n",
       "    </tr>\n",
       "    <tr>\n",
       "      <th>362804</th>\n",
       "      <td>55-64</td>\n",
       "      <td>Stop Smoking</td>\n",
       "      <td>11/13/2008</td>\n",
       "      <td>chantix</td>\n",
       "      <td>144470</td>\n",
       "      <td>5</td>\n",
       "      <td>5</td>\n",
       "      <td>Started this medication Oct 5th 2008. Haven't ...</td>\n",
       "      <td>5</td>\n",
       "      <td>Male</td>\n",
       "      <td>Nausea ,  headache ,  vomiting , drowsiness, g...</td>\n",
       "      <td>1</td>\n",
       "      <td>Cory Wright</td>\n",
       "      <td>Asian</td>\n",
       "    </tr>\n",
       "    <tr>\n",
       "      <th>362805</th>\n",
       "      <td>45-54</td>\n",
       "      <td>Stop Smoking</td>\n",
       "      <td>11/12/2008</td>\n",
       "      <td>chantix</td>\n",
       "      <td>144470</td>\n",
       "      <td>4</td>\n",
       "      <td>5</td>\n",
       "      <td>One year ago, I tried Chantix and had to stop ...</td>\n",
       "      <td>5</td>\n",
       "      <td>Female</td>\n",
       "      <td>Nausea ,  headache ,  vomiting , drowsiness, g...</td>\n",
       "      <td>3</td>\n",
       "      <td>Gary Hamilton</td>\n",
       "      <td>African-American</td>\n",
       "    </tr>\n",
       "  </tbody>\n",
       "</table>\n",
       "<p>362806 rows × 14 columns</p>\n",
       "</div>"
      ],
      "text/plain": [
       "               Age      Condition        Date                          Drug  \\\n",
       "0       75 or over    Stuffy Nose   9/21/2014                  25dph-7.5peh   \n",
       "1            25-34  Cold Symptoms   1/13/2011                  25dph-7.5peh   \n",
       "2            65-74          Other   7/16/2012  warfarin (bulk) 100 % powder   \n",
       "3       75 or over          Other   9/23/2010  warfarin (bulk) 100 % powder   \n",
       "4            35-44          Other    1/6/2009  warfarin (bulk) 100 % powder   \n",
       "...            ...            ...         ...                           ...   \n",
       "362801       55-64   Stop Smoking  11/14/2008                       chantix   \n",
       "362802                      Other  11/14/2008                       chantix   \n",
       "362803       25-34   Stop Smoking  11/13/2008                       chantix   \n",
       "362804       55-64   Stop Smoking  11/13/2008                       chantix   \n",
       "362805       45-54   Stop Smoking  11/12/2008                       chantix   \n",
       "\n",
       "        DrugId  EaseofUse  Effectiveness  \\\n",
       "0       146724          5              5   \n",
       "1       146724          5              5   \n",
       "2       144731          2              3   \n",
       "3       144731          2              2   \n",
       "4       144731          1              1   \n",
       "...        ...        ...            ...   \n",
       "362801  144470          5              5   \n",
       "362802  144470          2              3   \n",
       "362803  144470          2              4   \n",
       "362804  144470          5              5   \n",
       "362805  144470          4              5   \n",
       "\n",
       "                                                  Reviews  Satisfaction  \\\n",
       "0       I'm a retired physician and of all the meds I ...             5   \n",
       "1       cleared me right up even with my throat hurtin...             5   \n",
       "2       why did my PTINR go from a normal of 2.5 to ov...             3   \n",
       "3                            FALLING AND DON'T REALISE IT             1   \n",
       "4       My grandfather was prescribed this medication ...             1   \n",
       "...                                                   ...           ...   \n",
       "362801  I took the whole 12 weeks.I could have stopped...             5   \n",
       "362802  My dad strated taking Chantix about 1 month ag...             1   \n",
       "362803  As long as I was on chantix, I didn't smoke.  ...             2   \n",
       "362804  Started this medication Oct 5th 2008. Haven't ...             5   \n",
       "362805  One year ago, I tried Chantix and had to stop ...             5   \n",
       "\n",
       "           Sex                                              Sides  \\\n",
       "0         Male  Drowsiness,  dizziness ,  dry mouth /nose/thro...   \n",
       "1       Female  Drowsiness,  dizziness ,  dry mouth /nose/thro...   \n",
       "2       Female                                                      \n",
       "3       Female                                                      \n",
       "4         Male                                                      \n",
       "...        ...                                                ...   \n",
       "362801  Female  Nausea ,  headache ,  vomiting , drowsiness, g...   \n",
       "362802          Nausea ,  headache ,  vomiting , drowsiness, g...   \n",
       "362803  Female  Nausea ,  headache ,  vomiting , drowsiness, g...   \n",
       "362804    Male  Nausea ,  headache ,  vomiting , drowsiness, g...   \n",
       "362805  Female  Nausea ,  headache ,  vomiting , drowsiness, g...   \n",
       "\n",
       "        UsefulCount             name              race  \n",
       "0                 0       David Pace  African-American  \n",
       "1                 1      Kurt Pierce             Asian  \n",
       "2                 0     Drew Aguirre  African-American  \n",
       "3                 0     Amy Richards             Asian  \n",
       "4                 1  Rebecca Morales         Caucasian  \n",
       "...             ...              ...               ...  \n",
       "362801            2      Grace Perry  African-American  \n",
       "362802           16   Nicole Salazar         Caucasian  \n",
       "362803            3     Derek Garcia          Hispanic  \n",
       "362804            1      Cory Wright             Asian  \n",
       "362805            3    Gary Hamilton  African-American  \n",
       "\n",
       "[362806 rows x 14 columns]"
      ]
     },
     "execution_count": 5,
     "metadata": {},
     "output_type": "execute_result"
    }
   ],
   "source": [
    "data"
   ]
  },
  {
   "cell_type": "markdown",
   "id": "0489e942",
   "metadata": {},
   "source": [
    "### Creating 400000 rows with faker"
   ]
  },
  {
   "cell_type": "code",
   "execution_count": 6,
   "id": "714d3b6b",
   "metadata": {},
   "outputs": [],
   "source": [
    "target_rows = 400000\n",
    "num_generated_rows = target_rows - len(data)\n",
    "additional_rows = []\n",
    "for _ in range(num_generated_rows):\n",
    "    Age = random.randint(18, 80)  # Generate random age\n",
    "    Condition = fake.word()  # Generate fake condition\n",
    "    Date = fake.date()  # Generate fake date\n",
    "    Drug = fake.word()  # Generate fake drug\n",
    "    DrugId = fake.random_number(digits=5)  # Generate fake drug ID\n",
    "    EaseofUse = random.randint(1, 5)  # Generate ease of use rating\n",
    "    Effectiveness = random.randint(1, 5)  # Generate effectiveness rating\n",
    "    Satisfaction = random.randint(1, 5)  # Generate satisfaction rating\n",
    "    Sex = random.choice(['Male', 'Female'])  # Generate random sex\n",
    "    Sides = fake.text()  # Generate fake side effects\n",
    "    UsefulCount = random.randint(0, 100)  # Generate useful count\n",
    "    name = fake.name()  # Generate fake name\n",
    "    race = random.choice(['Caucasian', 'African-American', 'Asian', 'Hispanic', 'Other'])  # Generate random race\n",
    "\n",
    "    # Append the generated data to the additional_rows list\n",
    "    additional_rows.append([Age, Condition, Date, Drug, DrugId, EaseofUse,\n",
    "       Effectiveness, Satisfaction, Sex, Sides, UsefulCount,name, race])\n",
    "   "
   ]
  },
  {
   "cell_type": "code",
   "execution_count": 7,
   "id": "4bf395c2",
   "metadata": {},
   "outputs": [],
   "source": [
    "#Create a new DataFrame with the additional rows and concatenate it with the original dataset\n",
    "additional_df = pd.DataFrame(additional_rows, columns=['Age', 'Condition', 'Date', 'Drug', 'DrugId', 'EaseofUse', 'Effectiveness', 'Satisfaction', 'Sex', 'Sides', 'UsefulCount', 'name', 'race'])\n",
    "data = pd.concat([data, additional_df], ignore_index=True)"
   ]
  },
  {
   "cell_type": "code",
   "execution_count": 8,
   "id": "a308fe61",
   "metadata": {},
   "outputs": [
    {
     "data": {
      "text/html": [
       "<div>\n",
       "<style scoped>\n",
       "    .dataframe tbody tr th:only-of-type {\n",
       "        vertical-align: middle;\n",
       "    }\n",
       "\n",
       "    .dataframe tbody tr th {\n",
       "        vertical-align: top;\n",
       "    }\n",
       "\n",
       "    .dataframe thead th {\n",
       "        text-align: right;\n",
       "    }\n",
       "</style>\n",
       "<table border=\"1\" class=\"dataframe\">\n",
       "  <thead>\n",
       "    <tr style=\"text-align: right;\">\n",
       "      <th></th>\n",
       "      <th>Age</th>\n",
       "      <th>Condition</th>\n",
       "      <th>Date</th>\n",
       "      <th>Drug</th>\n",
       "      <th>DrugId</th>\n",
       "      <th>EaseofUse</th>\n",
       "      <th>Effectiveness</th>\n",
       "      <th>Reviews</th>\n",
       "      <th>Satisfaction</th>\n",
       "      <th>Sex</th>\n",
       "      <th>Sides</th>\n",
       "      <th>UsefulCount</th>\n",
       "      <th>name</th>\n",
       "      <th>race</th>\n",
       "    </tr>\n",
       "  </thead>\n",
       "  <tbody>\n",
       "    <tr>\n",
       "      <th>0</th>\n",
       "      <td>75 or over</td>\n",
       "      <td>Stuffy Nose</td>\n",
       "      <td>9/21/2014</td>\n",
       "      <td>25dph-7.5peh</td>\n",
       "      <td>146724</td>\n",
       "      <td>5</td>\n",
       "      <td>5</td>\n",
       "      <td>I'm a retired physician and of all the meds I ...</td>\n",
       "      <td>5</td>\n",
       "      <td>Male</td>\n",
       "      <td>Drowsiness,  dizziness ,  dry mouth /nose/thro...</td>\n",
       "      <td>0</td>\n",
       "      <td>David Pace</td>\n",
       "      <td>African-American</td>\n",
       "    </tr>\n",
       "    <tr>\n",
       "      <th>1</th>\n",
       "      <td>25-34</td>\n",
       "      <td>Cold Symptoms</td>\n",
       "      <td>1/13/2011</td>\n",
       "      <td>25dph-7.5peh</td>\n",
       "      <td>146724</td>\n",
       "      <td>5</td>\n",
       "      <td>5</td>\n",
       "      <td>cleared me right up even with my throat hurtin...</td>\n",
       "      <td>5</td>\n",
       "      <td>Female</td>\n",
       "      <td>Drowsiness,  dizziness ,  dry mouth /nose/thro...</td>\n",
       "      <td>1</td>\n",
       "      <td>Kurt Pierce</td>\n",
       "      <td>Asian</td>\n",
       "    </tr>\n",
       "    <tr>\n",
       "      <th>2</th>\n",
       "      <td>65-74</td>\n",
       "      <td>Other</td>\n",
       "      <td>7/16/2012</td>\n",
       "      <td>warfarin (bulk) 100 % powder</td>\n",
       "      <td>144731</td>\n",
       "      <td>2</td>\n",
       "      <td>3</td>\n",
       "      <td>why did my PTINR go from a normal of 2.5 to ov...</td>\n",
       "      <td>3</td>\n",
       "      <td>Female</td>\n",
       "      <td></td>\n",
       "      <td>0</td>\n",
       "      <td>Drew Aguirre</td>\n",
       "      <td>African-American</td>\n",
       "    </tr>\n",
       "    <tr>\n",
       "      <th>3</th>\n",
       "      <td>75 or over</td>\n",
       "      <td>Other</td>\n",
       "      <td>9/23/2010</td>\n",
       "      <td>warfarin (bulk) 100 % powder</td>\n",
       "      <td>144731</td>\n",
       "      <td>2</td>\n",
       "      <td>2</td>\n",
       "      <td>FALLING AND DON'T REALISE IT</td>\n",
       "      <td>1</td>\n",
       "      <td>Female</td>\n",
       "      <td></td>\n",
       "      <td>0</td>\n",
       "      <td>Amy Richards</td>\n",
       "      <td>Asian</td>\n",
       "    </tr>\n",
       "    <tr>\n",
       "      <th>4</th>\n",
       "      <td>35-44</td>\n",
       "      <td>Other</td>\n",
       "      <td>1/6/2009</td>\n",
       "      <td>warfarin (bulk) 100 % powder</td>\n",
       "      <td>144731</td>\n",
       "      <td>1</td>\n",
       "      <td>1</td>\n",
       "      <td>My grandfather was prescribed this medication ...</td>\n",
       "      <td>1</td>\n",
       "      <td>Male</td>\n",
       "      <td></td>\n",
       "      <td>1</td>\n",
       "      <td>Rebecca Morales</td>\n",
       "      <td>Caucasian</td>\n",
       "    </tr>\n",
       "  </tbody>\n",
       "</table>\n",
       "</div>"
      ],
      "text/plain": [
       "          Age      Condition       Date                          Drug  DrugId  \\\n",
       "0  75 or over    Stuffy Nose  9/21/2014                  25dph-7.5peh  146724   \n",
       "1       25-34  Cold Symptoms  1/13/2011                  25dph-7.5peh  146724   \n",
       "2       65-74          Other  7/16/2012  warfarin (bulk) 100 % powder  144731   \n",
       "3  75 or over          Other  9/23/2010  warfarin (bulk) 100 % powder  144731   \n",
       "4       35-44          Other   1/6/2009  warfarin (bulk) 100 % powder  144731   \n",
       "\n",
       "   EaseofUse  Effectiveness  \\\n",
       "0          5              5   \n",
       "1          5              5   \n",
       "2          2              3   \n",
       "3          2              2   \n",
       "4          1              1   \n",
       "\n",
       "                                             Reviews  Satisfaction     Sex  \\\n",
       "0  I'm a retired physician and of all the meds I ...             5    Male   \n",
       "1  cleared me right up even with my throat hurtin...             5  Female   \n",
       "2  why did my PTINR go from a normal of 2.5 to ov...             3  Female   \n",
       "3                       FALLING AND DON'T REALISE IT             1  Female   \n",
       "4  My grandfather was prescribed this medication ...             1    Male   \n",
       "\n",
       "                                               Sides  UsefulCount  \\\n",
       "0  Drowsiness,  dizziness ,  dry mouth /nose/thro...            0   \n",
       "1  Drowsiness,  dizziness ,  dry mouth /nose/thro...            1   \n",
       "2                                                               0   \n",
       "3                                                               0   \n",
       "4                                                               1   \n",
       "\n",
       "              name              race  \n",
       "0       David Pace  African-American  \n",
       "1      Kurt Pierce             Asian  \n",
       "2     Drew Aguirre  African-American  \n",
       "3     Amy Richards             Asian  \n",
       "4  Rebecca Morales         Caucasian  "
      ]
     },
     "execution_count": 8,
     "metadata": {},
     "output_type": "execute_result"
    }
   ],
   "source": [
    "data.head(5)"
   ]
  },
  {
   "cell_type": "markdown",
   "id": "1a96e665",
   "metadata": {},
   "source": [
    "# Exploratory Data Analysis"
   ]
  },
  {
   "cell_type": "code",
   "execution_count": 9,
   "id": "101d5d69",
   "metadata": {},
   "outputs": [
    {
     "data": {
      "text/plain": [
       "(400000, 14)"
      ]
     },
     "execution_count": 9,
     "metadata": {},
     "output_type": "execute_result"
    }
   ],
   "source": [
    "data.shape"
   ]
  },
  {
   "cell_type": "code",
   "execution_count": 10,
   "id": "5e139f36",
   "metadata": {},
   "outputs": [
    {
     "name": "stdout",
     "output_type": "stream",
     "text": [
      "<class 'pandas.core.frame.DataFrame'>\n",
      "RangeIndex: 400000 entries, 0 to 399999\n",
      "Data columns (total 14 columns):\n",
      " #   Column         Non-Null Count   Dtype \n",
      "---  ------         --------------   ----- \n",
      " 0   Age            400000 non-null  object\n",
      " 1   Condition      400000 non-null  object\n",
      " 2   Date           400000 non-null  object\n",
      " 3   Drug           400000 non-null  object\n",
      " 4   DrugId         400000 non-null  int64 \n",
      " 5   EaseofUse      400000 non-null  int64 \n",
      " 6   Effectiveness  400000 non-null  int64 \n",
      " 7   Reviews        362769 non-null  object\n",
      " 8   Satisfaction   400000 non-null  int64 \n",
      " 9   Sex            400000 non-null  object\n",
      " 10  Sides          400000 non-null  object\n",
      " 11  UsefulCount    400000 non-null  int64 \n",
      " 12  name           400000 non-null  object\n",
      " 13  race           400000 non-null  object\n",
      "dtypes: int64(5), object(9)\n",
      "memory usage: 42.7+ MB\n"
     ]
    }
   ],
   "source": [
    "data.info()"
   ]
  },
  {
   "cell_type": "code",
   "execution_count": 11,
   "id": "89f633fa",
   "metadata": {},
   "outputs": [
    {
     "data": {
      "text/plain": [
       "Age                  0\n",
       "Condition            0\n",
       "Date                 0\n",
       "Drug                 0\n",
       "DrugId               0\n",
       "EaseofUse            0\n",
       "Effectiveness        0\n",
       "Reviews          37231\n",
       "Satisfaction         0\n",
       "Sex                  0\n",
       "Sides                0\n",
       "UsefulCount          0\n",
       "name                 0\n",
       "race                 0\n",
       "dtype: int64"
      ]
     },
     "execution_count": 11,
     "metadata": {},
     "output_type": "execute_result"
    }
   ],
   "source": [
    "data.isna().sum()"
   ]
  },
  {
   "cell_type": "code",
   "execution_count": 12,
   "id": "5d57a762",
   "metadata": {},
   "outputs": [
    {
     "data": {
      "text/plain": [
       "75"
      ]
     },
     "execution_count": 12,
     "metadata": {},
     "output_type": "execute_result"
    }
   ],
   "source": [
    "data['Age'].nunique()"
   ]
  },
  {
   "cell_type": "code",
   "execution_count": 13,
   "id": "4bab1b65",
   "metadata": {},
   "outputs": [
    {
     "data": {
      "text/plain": [
       "2777"
      ]
     },
     "execution_count": 13,
     "metadata": {},
     "output_type": "execute_result"
    }
   ],
   "source": [
    "data['Condition'].nunique()"
   ]
  },
  {
   "cell_type": "code",
   "execution_count": 14,
   "id": "72f61ef7",
   "metadata": {},
   "outputs": [
    {
     "data": {
      "text/plain": [
       "8063"
      ]
     },
     "execution_count": 14,
     "metadata": {},
     "output_type": "execute_result"
    }
   ],
   "source": [
    "data['Drug'].nunique()"
   ]
  },
  {
   "cell_type": "code",
   "execution_count": 15,
   "id": "0c3967e2",
   "metadata": {},
   "outputs": [
    {
     "data": {
      "text/plain": [
       "7"
      ]
     },
     "execution_count": 15,
     "metadata": {},
     "output_type": "execute_result"
    }
   ],
   "source": [
    "data['EaseofUse'].nunique()"
   ]
  },
  {
   "cell_type": "code",
   "execution_count": 16,
   "id": "de23d0b2",
   "metadata": {},
   "outputs": [
    {
     "data": {
      "text/plain": [
       "7"
      ]
     },
     "execution_count": 16,
     "metadata": {},
     "output_type": "execute_result"
    }
   ],
   "source": [
    "data['Effectiveness'].nunique()"
   ]
  },
  {
   "cell_type": "code",
   "execution_count": 17,
   "id": "8717668f",
   "metadata": {},
   "outputs": [
    {
     "data": {
      "text/plain": [
       "250167"
      ]
     },
     "execution_count": 17,
     "metadata": {},
     "output_type": "execute_result"
    }
   ],
   "source": [
    "data['Reviews'].nunique()"
   ]
  },
  {
   "cell_type": "code",
   "execution_count": 18,
   "id": "3a548e71",
   "metadata": {},
   "outputs": [
    {
     "data": {
      "text/plain": [
       "7"
      ]
     },
     "execution_count": 18,
     "metadata": {},
     "output_type": "execute_result"
    }
   ],
   "source": [
    "data['Satisfaction'].nunique()"
   ]
  },
  {
   "cell_type": "code",
   "execution_count": 19,
   "id": "c1140545",
   "metadata": {},
   "outputs": [
    {
     "data": {
      "text/plain": [
       "3"
      ]
     },
     "execution_count": 19,
     "metadata": {},
     "output_type": "execute_result"
    }
   ],
   "source": [
    "data['Sex'].nunique()"
   ]
  },
  {
   "cell_type": "code",
   "execution_count": 20,
   "id": "f1c733dd",
   "metadata": {},
   "outputs": [
    {
     "data": {
      "text/plain": [
       "38845"
      ]
     },
     "execution_count": 20,
     "metadata": {},
     "output_type": "execute_result"
    }
   ],
   "source": [
    "data['Sides'].nunique()"
   ]
  },
  {
   "cell_type": "code",
   "execution_count": 21,
   "id": "1174eab4",
   "metadata": {},
   "outputs": [
    {
     "data": {
      "text/plain": [
       "5"
      ]
     },
     "execution_count": 21,
     "metadata": {},
     "output_type": "execute_result"
    }
   ],
   "source": [
    "data['race'].nunique()"
   ]
  },
  {
   "cell_type": "code",
   "execution_count": 22,
   "id": "4b1917c9",
   "metadata": {},
   "outputs": [],
   "source": [
    "# Here Review column has more than half of the values as unique , we can ignore this column\n",
    "data.drop(\"Reviews\",axis=1,inplace=True) "
   ]
  },
  {
   "cell_type": "code",
   "execution_count": 23,
   "id": "51e70bd5",
   "metadata": {},
   "outputs": [
    {
     "data": {
      "text/html": [
       "<div>\n",
       "<style scoped>\n",
       "    .dataframe tbody tr th:only-of-type {\n",
       "        vertical-align: middle;\n",
       "    }\n",
       "\n",
       "    .dataframe tbody tr th {\n",
       "        vertical-align: top;\n",
       "    }\n",
       "\n",
       "    .dataframe thead th {\n",
       "        text-align: right;\n",
       "    }\n",
       "</style>\n",
       "<table border=\"1\" class=\"dataframe\">\n",
       "  <thead>\n",
       "    <tr style=\"text-align: right;\">\n",
       "      <th></th>\n",
       "      <th>Age</th>\n",
       "      <th>Condition</th>\n",
       "      <th>Date</th>\n",
       "      <th>Drug</th>\n",
       "      <th>DrugId</th>\n",
       "      <th>EaseofUse</th>\n",
       "      <th>Effectiveness</th>\n",
       "      <th>Satisfaction</th>\n",
       "      <th>Sex</th>\n",
       "      <th>Sides</th>\n",
       "      <th>UsefulCount</th>\n",
       "      <th>name</th>\n",
       "      <th>race</th>\n",
       "    </tr>\n",
       "  </thead>\n",
       "  <tbody>\n",
       "    <tr>\n",
       "      <th>0</th>\n",
       "      <td>75 or over</td>\n",
       "      <td>Stuffy Nose</td>\n",
       "      <td>9/21/2014</td>\n",
       "      <td>25dph-7.5peh</td>\n",
       "      <td>146724</td>\n",
       "      <td>5</td>\n",
       "      <td>5</td>\n",
       "      <td>5</td>\n",
       "      <td>Male</td>\n",
       "      <td>Drowsiness,  dizziness ,  dry mouth /nose/thro...</td>\n",
       "      <td>0</td>\n",
       "      <td>David Pace</td>\n",
       "      <td>African-American</td>\n",
       "    </tr>\n",
       "    <tr>\n",
       "      <th>1</th>\n",
       "      <td>25-34</td>\n",
       "      <td>Cold Symptoms</td>\n",
       "      <td>1/13/2011</td>\n",
       "      <td>25dph-7.5peh</td>\n",
       "      <td>146724</td>\n",
       "      <td>5</td>\n",
       "      <td>5</td>\n",
       "      <td>5</td>\n",
       "      <td>Female</td>\n",
       "      <td>Drowsiness,  dizziness ,  dry mouth /nose/thro...</td>\n",
       "      <td>1</td>\n",
       "      <td>Kurt Pierce</td>\n",
       "      <td>Asian</td>\n",
       "    </tr>\n",
       "    <tr>\n",
       "      <th>2</th>\n",
       "      <td>65-74</td>\n",
       "      <td>Other</td>\n",
       "      <td>7/16/2012</td>\n",
       "      <td>warfarin (bulk) 100 % powder</td>\n",
       "      <td>144731</td>\n",
       "      <td>2</td>\n",
       "      <td>3</td>\n",
       "      <td>3</td>\n",
       "      <td>Female</td>\n",
       "      <td></td>\n",
       "      <td>0</td>\n",
       "      <td>Drew Aguirre</td>\n",
       "      <td>African-American</td>\n",
       "    </tr>\n",
       "    <tr>\n",
       "      <th>3</th>\n",
       "      <td>75 or over</td>\n",
       "      <td>Other</td>\n",
       "      <td>9/23/2010</td>\n",
       "      <td>warfarin (bulk) 100 % powder</td>\n",
       "      <td>144731</td>\n",
       "      <td>2</td>\n",
       "      <td>2</td>\n",
       "      <td>1</td>\n",
       "      <td>Female</td>\n",
       "      <td></td>\n",
       "      <td>0</td>\n",
       "      <td>Amy Richards</td>\n",
       "      <td>Asian</td>\n",
       "    </tr>\n",
       "    <tr>\n",
       "      <th>4</th>\n",
       "      <td>35-44</td>\n",
       "      <td>Other</td>\n",
       "      <td>1/6/2009</td>\n",
       "      <td>warfarin (bulk) 100 % powder</td>\n",
       "      <td>144731</td>\n",
       "      <td>1</td>\n",
       "      <td>1</td>\n",
       "      <td>1</td>\n",
       "      <td>Male</td>\n",
       "      <td></td>\n",
       "      <td>1</td>\n",
       "      <td>Rebecca Morales</td>\n",
       "      <td>Caucasian</td>\n",
       "    </tr>\n",
       "    <tr>\n",
       "      <th>...</th>\n",
       "      <td>...</td>\n",
       "      <td>...</td>\n",
       "      <td>...</td>\n",
       "      <td>...</td>\n",
       "      <td>...</td>\n",
       "      <td>...</td>\n",
       "      <td>...</td>\n",
       "      <td>...</td>\n",
       "      <td>...</td>\n",
       "      <td>...</td>\n",
       "      <td>...</td>\n",
       "      <td>...</td>\n",
       "      <td>...</td>\n",
       "    </tr>\n",
       "    <tr>\n",
       "      <th>399995</th>\n",
       "      <td>20</td>\n",
       "      <td>property</td>\n",
       "      <td>2004-08-13</td>\n",
       "      <td>manager</td>\n",
       "      <td>80408</td>\n",
       "      <td>4</td>\n",
       "      <td>1</td>\n",
       "      <td>1</td>\n",
       "      <td>Male</td>\n",
       "      <td>Late free physical. Few piece operation door P...</td>\n",
       "      <td>92</td>\n",
       "      <td>David Dominguez</td>\n",
       "      <td>Asian</td>\n",
       "    </tr>\n",
       "    <tr>\n",
       "      <th>399996</th>\n",
       "      <td>21</td>\n",
       "      <td>remain</td>\n",
       "      <td>1983-10-21</td>\n",
       "      <td>city</td>\n",
       "      <td>42266</td>\n",
       "      <td>1</td>\n",
       "      <td>4</td>\n",
       "      <td>4</td>\n",
       "      <td>Female</td>\n",
       "      <td>Head anyone school full budget or. Apply towar...</td>\n",
       "      <td>58</td>\n",
       "      <td>Amanda Marquez</td>\n",
       "      <td>Asian</td>\n",
       "    </tr>\n",
       "    <tr>\n",
       "      <th>399997</th>\n",
       "      <td>31</td>\n",
       "      <td>up</td>\n",
       "      <td>1987-06-02</td>\n",
       "      <td>door</td>\n",
       "      <td>56792</td>\n",
       "      <td>2</td>\n",
       "      <td>1</td>\n",
       "      <td>4</td>\n",
       "      <td>Male</td>\n",
       "      <td>Late different cultural owner. Film general ca...</td>\n",
       "      <td>100</td>\n",
       "      <td>Frank Chan</td>\n",
       "      <td>Hispanic</td>\n",
       "    </tr>\n",
       "    <tr>\n",
       "      <th>399998</th>\n",
       "      <td>51</td>\n",
       "      <td>religious</td>\n",
       "      <td>2020-05-10</td>\n",
       "      <td>once</td>\n",
       "      <td>65730</td>\n",
       "      <td>2</td>\n",
       "      <td>1</td>\n",
       "      <td>1</td>\n",
       "      <td>Male</td>\n",
       "      <td>Heart might stock among. Author wall dream fin...</td>\n",
       "      <td>62</td>\n",
       "      <td>Patrick Wheeler</td>\n",
       "      <td>Hispanic</td>\n",
       "    </tr>\n",
       "    <tr>\n",
       "      <th>399999</th>\n",
       "      <td>74</td>\n",
       "      <td>before</td>\n",
       "      <td>1972-11-02</td>\n",
       "      <td>arrive</td>\n",
       "      <td>15797</td>\n",
       "      <td>1</td>\n",
       "      <td>4</td>\n",
       "      <td>4</td>\n",
       "      <td>Female</td>\n",
       "      <td>Article responsibility appear while property a...</td>\n",
       "      <td>9</td>\n",
       "      <td>Johnny Hernandez</td>\n",
       "      <td>Caucasian</td>\n",
       "    </tr>\n",
       "  </tbody>\n",
       "</table>\n",
       "<p>400000 rows × 13 columns</p>\n",
       "</div>"
      ],
      "text/plain": [
       "               Age      Condition        Date                          Drug  \\\n",
       "0       75 or over    Stuffy Nose   9/21/2014                  25dph-7.5peh   \n",
       "1            25-34  Cold Symptoms   1/13/2011                  25dph-7.5peh   \n",
       "2            65-74          Other   7/16/2012  warfarin (bulk) 100 % powder   \n",
       "3       75 or over          Other   9/23/2010  warfarin (bulk) 100 % powder   \n",
       "4            35-44          Other    1/6/2009  warfarin (bulk) 100 % powder   \n",
       "...            ...            ...         ...                           ...   \n",
       "399995          20       property  2004-08-13                       manager   \n",
       "399996          21         remain  1983-10-21                          city   \n",
       "399997          31             up  1987-06-02                          door   \n",
       "399998          51      religious  2020-05-10                          once   \n",
       "399999          74         before  1972-11-02                        arrive   \n",
       "\n",
       "        DrugId  EaseofUse  Effectiveness  Satisfaction     Sex  \\\n",
       "0       146724          5              5             5    Male   \n",
       "1       146724          5              5             5  Female   \n",
       "2       144731          2              3             3  Female   \n",
       "3       144731          2              2             1  Female   \n",
       "4       144731          1              1             1    Male   \n",
       "...        ...        ...            ...           ...     ...   \n",
       "399995   80408          4              1             1    Male   \n",
       "399996   42266          1              4             4  Female   \n",
       "399997   56792          2              1             4    Male   \n",
       "399998   65730          2              1             1    Male   \n",
       "399999   15797          1              4             4  Female   \n",
       "\n",
       "                                                    Sides  UsefulCount  \\\n",
       "0       Drowsiness,  dizziness ,  dry mouth /nose/thro...            0   \n",
       "1       Drowsiness,  dizziness ,  dry mouth /nose/thro...            1   \n",
       "2                                                                    0   \n",
       "3                                                                    0   \n",
       "4                                                                    1   \n",
       "...                                                   ...          ...   \n",
       "399995  Late free physical. Few piece operation door P...           92   \n",
       "399996  Head anyone school full budget or. Apply towar...           58   \n",
       "399997  Late different cultural owner. Film general ca...          100   \n",
       "399998  Heart might stock among. Author wall dream fin...           62   \n",
       "399999  Article responsibility appear while property a...            9   \n",
       "\n",
       "                    name              race  \n",
       "0             David Pace  African-American  \n",
       "1            Kurt Pierce             Asian  \n",
       "2           Drew Aguirre  African-American  \n",
       "3           Amy Richards             Asian  \n",
       "4        Rebecca Morales         Caucasian  \n",
       "...                  ...               ...  \n",
       "399995   David Dominguez             Asian  \n",
       "399996    Amanda Marquez             Asian  \n",
       "399997        Frank Chan          Hispanic  \n",
       "399998   Patrick Wheeler          Hispanic  \n",
       "399999  Johnny Hernandez         Caucasian  \n",
       "\n",
       "[400000 rows x 13 columns]"
      ]
     },
     "execution_count": 23,
     "metadata": {},
     "output_type": "execute_result"
    }
   ],
   "source": [
    "data"
   ]
  },
  {
   "cell_type": "code",
   "execution_count": 24,
   "id": "5c4fe628",
   "metadata": {},
   "outputs": [
    {
     "data": {
      "text/plain": [
       "45-54    80043\n",
       "55-64    75136\n",
       "35-44    55011\n",
       "25-34    49718\n",
       "65-74    41216\n",
       "         ...  \n",
       "62         560\n",
       "71         557\n",
       "34         548\n",
       "68         533\n",
       "0-2        497\n",
       "Name: Age, Length: 75, dtype: int64"
      ]
     },
     "execution_count": 24,
     "metadata": {},
     "output_type": "execute_result"
    }
   ],
   "source": [
    "data['Age'].value_counts()"
   ]
  },
  {
   "cell_type": "code",
   "execution_count": 25,
   "id": "933de6ab",
   "metadata": {},
   "outputs": [
    {
     "data": {
      "text/plain": [
       "Other                                                  49765\n",
       "Pain                                                   25232\n",
       "High Blood Pressure                                    23275\n",
       "Depression                                             14509\n",
       "Birth Control                                          12253\n",
       "                                                       ...  \n",
       "Pneumonia caused by Acinetobacter Bacteria                 1\n",
       "Bacterial Meningitis                                       1\n",
       "Pneumonia Acquired from Being Treated In a Hospital        1\n",
       "Benign Tumor of the Larynx - Papilloma                     1\n",
       "Solid Tumor                                                1\n",
       "Name: Condition, Length: 2777, dtype: int64"
      ]
     },
     "execution_count": 25,
     "metadata": {},
     "output_type": "execute_result"
    }
   ],
   "source": [
    "data['Condition'].value_counts()"
   ]
  },
  {
   "cell_type": "code",
   "execution_count": 26,
   "id": "10a87b71",
   "metadata": {},
   "outputs": [
    {
     "data": {
      "text/plain": [
       "cymbalta                                     4648\n",
       "lisinopril                                   4269\n",
       "lisinopril solution                          4269\n",
       "lexapro                                      4134\n",
       "hydrocodone-acetaminophen                    3944\n",
       "                                             ... \n",
       "beta carotene                                   1\n",
       "besifloxacin drops, suspension                  1\n",
       "beractant in 0.9 %sod.chloride suspension       1\n",
       "bepotastine besilate drops                      1\n",
       "b complex with c#10-folic acid liquid           1\n",
       "Name: Drug, Length: 8063, dtype: int64"
      ]
     },
     "execution_count": 26,
     "metadata": {},
     "output_type": "execute_result"
    }
   ],
   "source": [
    "data['Drug'].value_counts()"
   ]
  },
  {
   "cell_type": "code",
   "execution_count": 27,
   "id": "11ac39c9",
   "metadata": {},
   "outputs": [
    {
     "data": {
      "text/plain": [
       "Female    256748\n",
       "Male      116715\n",
       "           26537\n",
       "Name: Sex, dtype: int64"
      ]
     },
     "execution_count": 27,
     "metadata": {},
     "output_type": "execute_result"
    }
   ],
   "source": [
    "data['Sex'].value_counts()"
   ]
  },
  {
   "cell_type": "code",
   "execution_count": 28,
   "id": "f9046662",
   "metadata": {},
   "outputs": [
    {
     "data": {
      "text/plain": [
       "                                                                                                                                                                                                            17460\n",
       "Nausea ,  vomiting ,  constipation ,  lightheadedness ,  dizziness , or drowsiness may occur.                                                                                                               15563\n",
       "Nausea ,  vomiting ,  headache ,  bloating ,  breast  tenderness, swelling of the  ankles /feet (fluid retention), or  weight  change may occur.                                                            12116\n",
       "Dizziness ,  lightheadedness , tiredness, or  headache  may occur as your body adjusts to the  medication . Dry  cough  may also occur.                                                                      9162\n",
       "Drowsiness,  dizziness , loss of coordination, tiredness, blurred/ double vision , unusual  eye  movements, or shaking (tremor) may occur.                                                                   7790\n",
       "                                                                                                                                                                                                            ...  \n",
       "Little brother over. Billion research born ok sort.\\nOil money shoulder environment unit. Worker early subject sister official. System manage mention.\\nHead several source. Many heart everyone mother.        1\n",
       "Begin rich sure consider fire important.\\nHospital piece avoid force fight although. Institution course also that study history decade. Manager Mr gun if figure despite.                                       1\n",
       "Particularly most hour clear although wide role. Paper continue participant.\\nFinish great assume stuff whatever. Teacher pretty south attorney rate message.                                                   1\n",
       "Candidate each still surface. Modern wide live gun idea join. Finally event energy hot.\\nMission would personal option history. Able operation training anything. Eat me final firm be American.                1\n",
       "Article responsibility appear while property around attention. Charge gas girl report. And increase student item treatment commercial energy media.                                                             1\n",
       "Name: Sides, Length: 38845, dtype: int64"
      ]
     },
     "execution_count": 28,
     "metadata": {},
     "output_type": "execute_result"
    }
   ],
   "source": [
    "data['Sides'].value_counts()"
   ]
  },
  {
   "cell_type": "code",
   "execution_count": 29,
   "id": "a81d4f33",
   "metadata": {},
   "outputs": [
    {
     "data": {
      "text/plain": [
       "African-American    99041\n",
       "Caucasian           98130\n",
       "Hispanic            97763\n",
       "Asian               97662\n",
       "Other                7404\n",
       "Name: race, dtype: int64"
      ]
     },
     "execution_count": 29,
     "metadata": {},
     "output_type": "execute_result"
    }
   ],
   "source": [
    "data['race'].value_counts()"
   ]
  },
  {
   "cell_type": "code",
   "execution_count": 30,
   "id": "01dac19e",
   "metadata": {},
   "outputs": [
    {
     "data": {
      "text/plain": [
       "Index(['Age', 'Condition', 'Date', 'Drug', 'DrugId', 'EaseofUse',\n",
       "       'Effectiveness', 'Satisfaction', 'Sex', 'Sides', 'UsefulCount', 'name',\n",
       "       'race'],\n",
       "      dtype='object')"
      ]
     },
     "execution_count": 30,
     "metadata": {},
     "output_type": "execute_result"
    }
   ],
   "source": [
    "data.columns"
   ]
  },
  {
   "cell_type": "code",
   "execution_count": 31,
   "id": "bdf883a1",
   "metadata": {},
   "outputs": [
    {
     "data": {
      "text/plain": [
       "Age              object\n",
       "Condition        object\n",
       "Date             object\n",
       "Drug             object\n",
       "DrugId            int64\n",
       "EaseofUse         int64\n",
       "Effectiveness     int64\n",
       "Satisfaction      int64\n",
       "Sex              object\n",
       "Sides            object\n",
       "UsefulCount       int64\n",
       "name             object\n",
       "race             object\n",
       "dtype: object"
      ]
     },
     "execution_count": 31,
     "metadata": {},
     "output_type": "execute_result"
    }
   ],
   "source": [
    "data.dtypes"
   ]
  },
  {
   "cell_type": "code",
   "execution_count": 32,
   "id": "8266e02e",
   "metadata": {},
   "outputs": [
    {
     "data": {
      "text/html": [
       "<div>\n",
       "<style scoped>\n",
       "    .dataframe tbody tr th:only-of-type {\n",
       "        vertical-align: middle;\n",
       "    }\n",
       "\n",
       "    .dataframe tbody tr th {\n",
       "        vertical-align: top;\n",
       "    }\n",
       "\n",
       "    .dataframe thead th {\n",
       "        text-align: right;\n",
       "    }\n",
       "</style>\n",
       "<table border=\"1\" class=\"dataframe\">\n",
       "  <thead>\n",
       "    <tr style=\"text-align: right;\">\n",
       "      <th></th>\n",
       "      <th>DrugId</th>\n",
       "      <th>EaseofUse</th>\n",
       "      <th>Effectiveness</th>\n",
       "      <th>Satisfaction</th>\n",
       "      <th>UsefulCount</th>\n",
       "    </tr>\n",
       "  </thead>\n",
       "  <tbody>\n",
       "    <tr>\n",
       "      <th>count</th>\n",
       "      <td>400000.000000</td>\n",
       "      <td>400000.000000</td>\n",
       "      <td>400000.000000</td>\n",
       "      <td>400000.000000</td>\n",
       "      <td>400000.00000</td>\n",
       "    </tr>\n",
       "    <tr>\n",
       "      <th>mean</th>\n",
       "      <td>38125.900275</td>\n",
       "      <td>3.924457</td>\n",
       "      <td>3.482292</td>\n",
       "      <td>3.123635</td>\n",
       "      <td>10.77591</td>\n",
       "    </tr>\n",
       "    <tr>\n",
       "      <th>std</th>\n",
       "      <td>51034.946008</td>\n",
       "      <td>1.359960</td>\n",
       "      <td>1.460740</td>\n",
       "      <td>1.594055</td>\n",
       "      <td>17.79935</td>\n",
       "    </tr>\n",
       "    <tr>\n",
       "      <th>min</th>\n",
       "      <td>1.000000</td>\n",
       "      <td>1.000000</td>\n",
       "      <td>1.000000</td>\n",
       "      <td>1.000000</td>\n",
       "      <td>0.00000</td>\n",
       "    </tr>\n",
       "    <tr>\n",
       "      <th>25%</th>\n",
       "      <td>5173.000000</td>\n",
       "      <td>3.000000</td>\n",
       "      <td>2.000000</td>\n",
       "      <td>1.000000</td>\n",
       "      <td>1.00000</td>\n",
       "    </tr>\n",
       "    <tr>\n",
       "      <th>50%</th>\n",
       "      <td>11188.000000</td>\n",
       "      <td>5.000000</td>\n",
       "      <td>4.000000</td>\n",
       "      <td>3.000000</td>\n",
       "      <td>4.00000</td>\n",
       "    </tr>\n",
       "    <tr>\n",
       "      <th>75%</th>\n",
       "      <td>63990.000000</td>\n",
       "      <td>5.000000</td>\n",
       "      <td>5.000000</td>\n",
       "      <td>5.000000</td>\n",
       "      <td>12.00000</td>\n",
       "    </tr>\n",
       "    <tr>\n",
       "      <th>max</th>\n",
       "      <td>178546.000000</td>\n",
       "      <td>10.000000</td>\n",
       "      <td>10.000000</td>\n",
       "      <td>10.000000</td>\n",
       "      <td>255.00000</td>\n",
       "    </tr>\n",
       "  </tbody>\n",
       "</table>\n",
       "</div>"
      ],
      "text/plain": [
       "              DrugId      EaseofUse  Effectiveness   Satisfaction  \\\n",
       "count  400000.000000  400000.000000  400000.000000  400000.000000   \n",
       "mean    38125.900275       3.924457       3.482292       3.123635   \n",
       "std     51034.946008       1.359960       1.460740       1.594055   \n",
       "min         1.000000       1.000000       1.000000       1.000000   \n",
       "25%      5173.000000       3.000000       2.000000       1.000000   \n",
       "50%     11188.000000       5.000000       4.000000       3.000000   \n",
       "75%     63990.000000       5.000000       5.000000       5.000000   \n",
       "max    178546.000000      10.000000      10.000000      10.000000   \n",
       "\n",
       "        UsefulCount  \n",
       "count  400000.00000  \n",
       "mean       10.77591  \n",
       "std        17.79935  \n",
       "min         0.00000  \n",
       "25%         1.00000  \n",
       "50%         4.00000  \n",
       "75%        12.00000  \n",
       "max       255.00000  "
      ]
     },
     "execution_count": 32,
     "metadata": {},
     "output_type": "execute_result"
    }
   ],
   "source": [
    "#Descriptive statistics\n",
    "data.describe()"
   ]
  },
  {
   "cell_type": "code",
   "execution_count": 33,
   "id": "e835b1e2",
   "metadata": {},
   "outputs": [
    {
     "data": {
      "text/html": [
       "<div>\n",
       "<style scoped>\n",
       "    .dataframe tbody tr th:only-of-type {\n",
       "        vertical-align: middle;\n",
       "    }\n",
       "\n",
       "    .dataframe tbody tr th {\n",
       "        vertical-align: top;\n",
       "    }\n",
       "\n",
       "    .dataframe thead th {\n",
       "        text-align: right;\n",
       "    }\n",
       "</style>\n",
       "<table border=\"1\" class=\"dataframe\">\n",
       "  <thead>\n",
       "    <tr style=\"text-align: right;\">\n",
       "      <th></th>\n",
       "      <th>count</th>\n",
       "      <th>unique</th>\n",
       "      <th>top</th>\n",
       "      <th>freq</th>\n",
       "    </tr>\n",
       "  </thead>\n",
       "  <tbody>\n",
       "    <tr>\n",
       "      <th>Age</th>\n",
       "      <td>400000</td>\n",
       "      <td>75</td>\n",
       "      <td>45-54</td>\n",
       "      <td>80043</td>\n",
       "    </tr>\n",
       "    <tr>\n",
       "      <th>Condition</th>\n",
       "      <td>400000</td>\n",
       "      <td>2777</td>\n",
       "      <td>Other</td>\n",
       "      <td>49765</td>\n",
       "    </tr>\n",
       "    <tr>\n",
       "      <th>Date</th>\n",
       "      <td>400000</td>\n",
       "      <td>21161</td>\n",
       "      <td>10/29/2007</td>\n",
       "      <td>404</td>\n",
       "    </tr>\n",
       "    <tr>\n",
       "      <th>Drug</th>\n",
       "      <td>400000</td>\n",
       "      <td>8063</td>\n",
       "      <td>cymbalta</td>\n",
       "      <td>4648</td>\n",
       "    </tr>\n",
       "    <tr>\n",
       "      <th>Sex</th>\n",
       "      <td>400000</td>\n",
       "      <td>3</td>\n",
       "      <td>Female</td>\n",
       "      <td>256748</td>\n",
       "    </tr>\n",
       "    <tr>\n",
       "      <th>Sides</th>\n",
       "      <td>400000</td>\n",
       "      <td>38845</td>\n",
       "      <td></td>\n",
       "      <td>17460</td>\n",
       "    </tr>\n",
       "    <tr>\n",
       "      <th>name</th>\n",
       "      <td>400000</td>\n",
       "      <td>192543</td>\n",
       "      <td>Michael Smith</td>\n",
       "      <td>192</td>\n",
       "    </tr>\n",
       "    <tr>\n",
       "      <th>race</th>\n",
       "      <td>400000</td>\n",
       "      <td>5</td>\n",
       "      <td>African-American</td>\n",
       "      <td>99041</td>\n",
       "    </tr>\n",
       "  </tbody>\n",
       "</table>\n",
       "</div>"
      ],
      "text/plain": [
       "            count  unique               top    freq\n",
       "Age        400000      75             45-54   80043\n",
       "Condition  400000    2777             Other   49765\n",
       "Date       400000   21161        10/29/2007     404\n",
       "Drug       400000    8063          cymbalta    4648\n",
       "Sex        400000       3            Female  256748\n",
       "Sides      400000   38845                     17460\n",
       "name       400000  192543     Michael Smith     192\n",
       "race       400000       5  African-American   99041"
      ]
     },
     "execution_count": 33,
     "metadata": {},
     "output_type": "execute_result"
    }
   ],
   "source": [
    "#Summary statistics for object data type\n",
    "data.describe(include='object').T"
   ]
  },
  {
   "cell_type": "code",
   "execution_count": 34,
   "id": "533cbfc0",
   "metadata": {},
   "outputs": [
    {
     "data": {
      "text/plain": [
       "0    cymbalta\n",
       "Name: Drug, dtype: object"
      ]
     },
     "execution_count": 34,
     "metadata": {},
     "output_type": "execute_result"
    }
   ],
   "source": [
    "data.Drug.mode()\n",
    "#cymbalta is the most occuring drug"
   ]
  },
  {
   "cell_type": "markdown",
   "id": "35084870",
   "metadata": {},
   "source": [
    "### Selection of drug: Since drug named cymbalta with DrugId 91491  has most occurances it is selected in building a classification model to determine side effects"
   ]
  },
  {
   "cell_type": "code",
   "execution_count": 35,
   "id": "7131bd32",
   "metadata": {},
   "outputs": [
    {
     "data": {
      "text/html": [
       "<div>\n",
       "<style scoped>\n",
       "    .dataframe tbody tr th:only-of-type {\n",
       "        vertical-align: middle;\n",
       "    }\n",
       "\n",
       "    .dataframe tbody tr th {\n",
       "        vertical-align: top;\n",
       "    }\n",
       "\n",
       "    .dataframe thead th {\n",
       "        text-align: right;\n",
       "    }\n",
       "</style>\n",
       "<table border=\"1\" class=\"dataframe\">\n",
       "  <thead>\n",
       "    <tr style=\"text-align: right;\">\n",
       "      <th></th>\n",
       "      <th>Age</th>\n",
       "      <th>Condition</th>\n",
       "      <th>Date</th>\n",
       "      <th>Drug</th>\n",
       "      <th>DrugId</th>\n",
       "      <th>EaseofUse</th>\n",
       "      <th>Effectiveness</th>\n",
       "      <th>Satisfaction</th>\n",
       "      <th>Sex</th>\n",
       "      <th>Sides</th>\n",
       "      <th>UsefulCount</th>\n",
       "      <th>name</th>\n",
       "      <th>race</th>\n",
       "    </tr>\n",
       "  </thead>\n",
       "  <tbody>\n",
       "    <tr>\n",
       "      <th>314212</th>\n",
       "      <td></td>\n",
       "      <td>Major Depressive Disorder</td>\n",
       "      <td>2/29/2020</td>\n",
       "      <td>cymbalta</td>\n",
       "      <td>91491</td>\n",
       "      <td>5</td>\n",
       "      <td>5</td>\n",
       "      <td>5</td>\n",
       "      <td></td>\n",
       "      <td>Nausea ,  dry mouth ,  constipation , loss of ...</td>\n",
       "      <td>12</td>\n",
       "      <td>John Garza</td>\n",
       "      <td>Asian</td>\n",
       "    </tr>\n",
       "    <tr>\n",
       "      <th>314216</th>\n",
       "      <td>45-54</td>\n",
       "      <td>Repeated Episodes of Anxiety</td>\n",
       "      <td>1/13/2020</td>\n",
       "      <td>cymbalta</td>\n",
       "      <td>91491</td>\n",
       "      <td>3</td>\n",
       "      <td>1</td>\n",
       "      <td>1</td>\n",
       "      <td>Male</td>\n",
       "      <td>Nausea ,  dry mouth ,  constipation , loss of ...</td>\n",
       "      <td>0</td>\n",
       "      <td>Elizabeth Perez</td>\n",
       "      <td>Caucasian</td>\n",
       "    </tr>\n",
       "    <tr>\n",
       "      <th>314223</th>\n",
       "      <td>45-54</td>\n",
       "      <td>Anxiousness associated with Depression</td>\n",
       "      <td>1/4/2020</td>\n",
       "      <td>cymbalta</td>\n",
       "      <td>91491</td>\n",
       "      <td>5</td>\n",
       "      <td>5</td>\n",
       "      <td>5</td>\n",
       "      <td></td>\n",
       "      <td>Nausea ,  dry mouth ,  constipation , loss of ...</td>\n",
       "      <td>0</td>\n",
       "      <td>Holly Warren</td>\n",
       "      <td>Caucasian</td>\n",
       "    </tr>\n",
       "    <tr>\n",
       "      <th>314235</th>\n",
       "      <td>35-44</td>\n",
       "      <td>Anxiousness associated with Depression</td>\n",
       "      <td>12/6/2019</td>\n",
       "      <td>cymbalta</td>\n",
       "      <td>91491</td>\n",
       "      <td>3</td>\n",
       "      <td>3</td>\n",
       "      <td>2</td>\n",
       "      <td>Female</td>\n",
       "      <td>Nausea ,  dry mouth ,  constipation , loss of ...</td>\n",
       "      <td>0</td>\n",
       "      <td>Diana Griffin</td>\n",
       "      <td>Asian</td>\n",
       "    </tr>\n",
       "    <tr>\n",
       "      <th>314246</th>\n",
       "      <td>55-64</td>\n",
       "      <td>Chronic Muscle or Bone Pain</td>\n",
       "      <td>11/20/2019</td>\n",
       "      <td>cymbalta</td>\n",
       "      <td>91491</td>\n",
       "      <td>2</td>\n",
       "      <td>2</td>\n",
       "      <td>2</td>\n",
       "      <td></td>\n",
       "      <td>Nausea ,  dry mouth ,  constipation , loss of ...</td>\n",
       "      <td>1</td>\n",
       "      <td>Michael Wood</td>\n",
       "      <td>Hispanic</td>\n",
       "    </tr>\n",
       "  </tbody>\n",
       "</table>\n",
       "</div>"
      ],
      "text/plain": [
       "          Age                               Condition        Date      Drug  \\\n",
       "314212                      Major Depressive Disorder   2/29/2020  cymbalta   \n",
       "314216  45-54            Repeated Episodes of Anxiety   1/13/2020  cymbalta   \n",
       "314223  45-54  Anxiousness associated with Depression    1/4/2020  cymbalta   \n",
       "314235  35-44  Anxiousness associated with Depression   12/6/2019  cymbalta   \n",
       "314246  55-64             Chronic Muscle or Bone Pain  11/20/2019  cymbalta   \n",
       "\n",
       "        DrugId  EaseofUse  Effectiveness  Satisfaction     Sex  \\\n",
       "314212   91491          5              5             5           \n",
       "314216   91491          3              1             1    Male   \n",
       "314223   91491          5              5             5           \n",
       "314235   91491          3              3             2  Female   \n",
       "314246   91491          2              2             2           \n",
       "\n",
       "                                                    Sides  UsefulCount  \\\n",
       "314212  Nausea ,  dry mouth ,  constipation , loss of ...           12   \n",
       "314216  Nausea ,  dry mouth ,  constipation , loss of ...            0   \n",
       "314223  Nausea ,  dry mouth ,  constipation , loss of ...            0   \n",
       "314235  Nausea ,  dry mouth ,  constipation , loss of ...            0   \n",
       "314246  Nausea ,  dry mouth ,  constipation , loss of ...            1   \n",
       "\n",
       "                   name       race  \n",
       "314212       John Garza      Asian  \n",
       "314216  Elizabeth Perez  Caucasian  \n",
       "314223     Holly Warren  Caucasian  \n",
       "314235    Diana Griffin      Asian  \n",
       "314246     Michael Wood   Hispanic  "
      ]
     },
     "execution_count": 35,
     "metadata": {},
     "output_type": "execute_result"
    }
   ],
   "source": [
    "drug_cymbalta= data.loc[(data['Drug'] =='cymbalta')]\n",
    "drug_cymbalta.head(5)"
   ]
  },
  {
   "cell_type": "code",
   "execution_count": 36,
   "id": "70669ef4",
   "metadata": {},
   "outputs": [],
   "source": [
    "data_new = drug_cymbalta.copy()"
   ]
  },
  {
   "cell_type": "code",
   "execution_count": 37,
   "id": "0966ae27",
   "metadata": {},
   "outputs": [],
   "source": [
    "data_copy=data.copy()"
   ]
  },
  {
   "cell_type": "code",
   "execution_count": 38,
   "id": "355583da",
   "metadata": {},
   "outputs": [
    {
     "data": {
      "text/plain": [
       "(4648, 13)"
      ]
     },
     "execution_count": 38,
     "metadata": {},
     "output_type": "execute_result"
    }
   ],
   "source": [
    "data_new.shape"
   ]
  },
  {
   "cell_type": "code",
   "execution_count": 39,
   "id": "4433a3a0",
   "metadata": {},
   "outputs": [
    {
     "name": "stdout",
     "output_type": "stream",
     "text": [
      "<class 'pandas.core.frame.DataFrame'>\n",
      "Int64Index: 4648 entries, 314212 to 319085\n",
      "Data columns (total 13 columns):\n",
      " #   Column         Non-Null Count  Dtype \n",
      "---  ------         --------------  ----- \n",
      " 0   Age            4648 non-null   object\n",
      " 1   Condition      4648 non-null   object\n",
      " 2   Date           4648 non-null   object\n",
      " 3   Drug           4648 non-null   object\n",
      " 4   DrugId         4648 non-null   int64 \n",
      " 5   EaseofUse      4648 non-null   int64 \n",
      " 6   Effectiveness  4648 non-null   int64 \n",
      " 7   Satisfaction   4648 non-null   int64 \n",
      " 8   Sex            4648 non-null   object\n",
      " 9   Sides          4648 non-null   object\n",
      " 10  UsefulCount    4648 non-null   int64 \n",
      " 11  name           4648 non-null   object\n",
      " 12  race           4648 non-null   object\n",
      "dtypes: int64(5), object(8)\n",
      "memory usage: 508.4+ KB\n"
     ]
    }
   ],
   "source": [
    "data_new.info()"
   ]
  },
  {
   "cell_type": "code",
   "execution_count": 40,
   "id": "5b8b2387",
   "metadata": {},
   "outputs": [
    {
     "data": {
      "text/plain": [
       "45-54         1291\n",
       "55-64         1008\n",
       "35-44          874\n",
       "25-34          594\n",
       "65-74          400\n",
       "19-24          225\n",
       "               118\n",
       "75 or over     102\n",
       "13-18           34\n",
       "0-2              1\n",
       "7-12             1\n",
       "Name: Age, dtype: int64"
      ]
     },
     "execution_count": 40,
     "metadata": {},
     "output_type": "execute_result"
    }
   ],
   "source": [
    "data_new.Age.value_counts()"
   ]
  },
  {
   "cell_type": "code",
   "execution_count": 41,
   "id": "510b8ea4",
   "metadata": {},
   "outputs": [
    {
     "data": {
      "text/plain": [
       "Major Depressive Disorder                                    1939\n",
       "Neuropathic Pain                                              699\n",
       "Repeated Episodes of Anxiety                                  577\n",
       "Other                                                         514\n",
       "Disorder characterized by Stiff, Tender & Painful Muscles     409\n",
       "Chronic Muscle or Bone Pain                                   405\n",
       "Anxiousness associated with Depression                         55\n",
       "Diabetic Complication causing Injury to some Body Nerves       50\n",
       "Name: Condition, dtype: int64"
      ]
     },
     "execution_count": 41,
     "metadata": {},
     "output_type": "execute_result"
    }
   ],
   "source": [
    "data_new['Condition'].value_counts()"
   ]
  },
  {
   "cell_type": "code",
   "execution_count": 42,
   "id": "a46ea10d",
   "metadata": {},
   "outputs": [
    {
     "data": {
      "text/plain": [
       "['Age', 'Condition', 'Date', 'Drug', 'Sex', 'Sides', 'name', 'race']"
      ]
     },
     "execution_count": 42,
     "metadata": {},
     "output_type": "execute_result"
    }
   ],
   "source": [
    "# Create a list of categorical columns\n",
    "cat_var = []\n",
    "\n",
    "for column in data_new:\n",
    "    if data_new[column].dtype == 'O':\n",
    "        cat_var.append(column)\n",
    "cat_var"
   ]
  },
  {
   "cell_type": "code",
   "execution_count": 43,
   "id": "3a6c1a32",
   "metadata": {},
   "outputs": [
    {
     "name": "stdout",
     "output_type": "stream",
     "text": [
      "\n",
      " Age \n",
      " [' ' '45-54' '35-44' '55-64' '19-24' '75 or over' '65-74' '13-18' '25-34'\n",
      " '0-2' '7-12'] \n",
      " ________________________________________________________________________________\n",
      "\n",
      " Condition \n",
      " ['Major Depressive Disorder' 'Repeated Episodes of Anxiety'\n",
      " 'Anxiousness associated with Depression' 'Chronic Muscle or Bone Pain'\n",
      " 'Neuropathic Pain' 'Other'\n",
      " 'Disorder characterized by Stiff, Tender & Painful Muscles'\n",
      " 'Diabetic Complication causing Injury to some Body Nerves'] \n",
      " ________________________________________________________________________________\n",
      "\n",
      " Date \n",
      " ['2/29/2020' '1/13/2020' '1/4/2020' ... '7/18/2008' '7/17/2008'\n",
      " '7/16/2008'] \n",
      " ________________________________________________________________________________\n",
      "\n",
      " Drug \n",
      " ['cymbalta'] \n",
      " ________________________________________________________________________________\n",
      "\n",
      " Sex \n",
      " [' ' 'Male' 'Female'] \n",
      " ________________________________________________________________________________\n",
      "\n",
      " Sides \n",
      " ['Nausea ,  dry mouth ,  constipation , loss of appetite, tiredness, drowsiness, or increased  sweating  may occur.'] \n",
      " ________________________________________________________________________________\n",
      "\n",
      " name \n",
      " ['John Garza' 'Elizabeth Perez' 'Holly Warren' ... 'Lynn Allen'\n",
      " 'Stephanie Lambert' 'Laura Rogers'] \n",
      " ________________________________________________________________________________\n",
      "\n",
      " race \n",
      " ['Asian' 'Caucasian' 'Hispanic' 'African-American'] \n",
      " ________________________________________________________________________________\n"
     ]
    }
   ],
   "source": [
    "# finding the unique values in each categorical variables\n",
    "for col in cat_var:\n",
    "    print('\\n', col, '\\n', data_new[col].unique(), '\\n', '_' * 80)"
   ]
  },
  {
   "cell_type": "code",
   "execution_count": 44,
   "id": "9d9521b4",
   "metadata": {},
   "outputs": [
    {
     "name": "stdout",
     "output_type": "stream",
     "text": [
      "\n",
      " Age \n",
      " 45-54         1291\n",
      "55-64         1008\n",
      "35-44          874\n",
      "25-34          594\n",
      "65-74          400\n",
      "19-24          225\n",
      "               118\n",
      "75 or over     102\n",
      "13-18           34\n",
      "0-2              1\n",
      "7-12             1\n",
      "Name: Age, dtype: int64 \n",
      " ________________________________________________________________________________\n",
      "\n",
      " Condition \n",
      " Major Depressive Disorder                                    1939\n",
      "Neuropathic Pain                                              699\n",
      "Repeated Episodes of Anxiety                                  577\n",
      "Other                                                         514\n",
      "Disorder characterized by Stiff, Tender & Painful Muscles     409\n",
      "Chronic Muscle or Bone Pain                                   405\n",
      "Anxiousness associated with Depression                         55\n",
      "Diabetic Complication causing Injury to some Body Nerves       50\n",
      "Name: Condition, dtype: int64 \n",
      " ________________________________________________________________________________\n",
      "\n",
      " Date \n",
      " 10/29/2007    32\n",
      "10/28/2007    22\n",
      "10/25/2007    16\n",
      "10/30/2007    15\n",
      "10/26/2007    11\n",
      "              ..\n",
      "4/3/2010       1\n",
      "4/5/2010       1\n",
      "4/7/2010       1\n",
      "4/10/2010      1\n",
      "7/16/2008      1\n",
      "Name: Date, Length: 2189, dtype: int64 \n",
      " ________________________________________________________________________________\n",
      "\n",
      " Drug \n",
      " cymbalta    4648\n",
      "Name: Drug, dtype: int64 \n",
      " ________________________________________________________________________________\n",
      "\n",
      " Sex \n",
      " Female    3621\n",
      "Male       830\n",
      "           197\n",
      "Name: Sex, dtype: int64 \n",
      " ________________________________________________________________________________\n",
      "\n",
      " Sides \n",
      " Nausea ,  dry mouth ,  constipation , loss of appetite, tiredness, drowsiness, or increased  sweating  may occur.    4648\n",
      "Name: Sides, dtype: int64 \n",
      " ________________________________________________________________________________\n",
      "\n",
      " name \n",
      " Michael Gray      4\n",
      "Anthony Smith     4\n",
      "Nicholas Jones    4\n",
      "Michael Hughes    3\n",
      "Lauren Johnson    3\n",
      "                 ..\n",
      "Ashley Moreno     1\n",
      "Crystal Murphy    1\n",
      "Lisa Griffith     1\n",
      "Angela Taylor     1\n",
      "Laura Rogers      1\n",
      "Name: name, Length: 4517, dtype: int64 \n",
      " ________________________________________________________________________________\n",
      "\n",
      " race \n",
      " African-American    1180\n",
      "Hispanic            1175\n",
      "Asian               1170\n",
      "Caucasian           1123\n",
      "Name: race, dtype: int64 \n",
      " ________________________________________________________________________________\n"
     ]
    }
   ],
   "source": [
    "# finding the value counts in each categorical variables\n",
    "for col in cat_var:\n",
    "    print('\\n', col, '\\n', data_new[col].value_counts(), '\\n', '_' * 80)"
   ]
  },
  {
   "cell_type": "code",
   "execution_count": 45,
   "id": "a3b761b8",
   "metadata": {},
   "outputs": [
    {
     "data": {
      "image/png": "[encoded data removed]",
      "text/plain": [
       "<Figure size 432x288 with 1 Axes>"
      ]
     },
     "metadata": {
      "needs_background": "light"
     },
     "output_type": "display_data"
    }
   ],
   "source": [
    "age_counts = data_new['Age'].value_counts().sort_values(ascending=False)\n",
    "#top_15_age = age_counts.head(15)\n",
    "plt.bar(age_counts.index, age_counts.values)\n",
    "plt.xticks(rotation=90)\n",
    "plt.xlabel('Age')\n",
    "plt.ylabel('count')\n",
    "plt.title('Age count')\n",
    "plt.show()"
   ]
  },
  {
   "cell_type": "code",
   "execution_count": 46,
   "id": "a9c8c090",
   "metadata": {},
   "outputs": [
    {
     "data": {
      "image/png": "[encoded data removed]",
      "text/plain": [
       "<Figure size 432x288 with 1 Axes>"
      ]
     },
     "metadata": {
      "needs_background": "light"
     },
     "output_type": "display_data"
    }
   ],
   "source": [
    "Condition_counts = data_new['Condition'].value_counts().sort_values(ascending=False)\n",
    "#top_15_age = age_counts.head(15)\n",
    "plt.bar(Condition_counts.index, Condition_counts.values)\n",
    "plt.xticks(rotation=90)\n",
    "plt.xlabel('Condition')\n",
    "plt.ylabel('count')\n",
    "plt.title('Condition count')\n",
    "plt.show()"
   ]
  },
  {
   "cell_type": "code",
   "execution_count": 47,
   "id": "51b2744b",
   "metadata": {},
   "outputs": [
    {
     "data": {
      "image/png": "[encoded data removed]",
      "text/plain": [
       "<Figure size 432x288 with 1 Axes>"
      ]
     },
     "metadata": {
      "needs_background": "light"
     },
     "output_type": "display_data"
    }
   ],
   "source": [
    "sex_counts = data_new['Sex'].value_counts().sort_values(ascending=False)\n",
    "#top_15_age = age_counts.head(15)\n",
    "plt.bar(sex_counts.index, sex_counts.values)\n",
    "plt.xticks(rotation=90)\n",
    "plt.xlabel('Sex')\n",
    "plt.ylabel('count')\n",
    "plt.title('Sex count')\n",
    "plt.show()"
   ]
  },
  {
   "cell_type": "code",
   "execution_count": 48,
   "id": "9ce6c82a",
   "metadata": {},
   "outputs": [
    {
     "data": {
      "text/plain": [
       "Text(0, 0.5, 'Count')"
      ]
     },
     "execution_count": 48,
     "metadata": {},
     "output_type": "execute_result"
    },
    {
     "data": {
      "image/png": "[encoded data removed]",
      "text/plain": [
       "<Figure size 432x288 with 1 Axes>"
      ]
     },
     "metadata": {
      "needs_background": "light"
     },
     "output_type": "display_data"
    }
   ],
   "source": [
    "data_new['race'].value_counts().plot(kind='bar')\n",
    "plt.title(\"race\", fontsize = 10)\n",
    "plt.xlabel(\"race\", fontsize = 10)\n",
    "plt.ylabel(\"Count\", fontsize = 10)"
   ]
  },
  {
   "cell_type": "code",
   "execution_count": 49,
   "id": "b24be453",
   "metadata": {},
   "outputs": [
    {
     "data": {
      "text/plain": [
       "Text(0.5, 1.0, 'Users by Race and Gender')"
      ]
     },
     "execution_count": 49,
     "metadata": {},
     "output_type": "execute_result"
    },
    {
     "data": {
      "image/png": "[encoded data removed]",
      "text/plain": [
       "<Figure size 432x288 with 1 Axes>"
      ]
     },
     "metadata": {
      "needs_background": "light"
     },
     "output_type": "display_data"
    }
   ],
   "source": [
    "sns.countplot(x='race',hue='Sex',data=data_new)\n",
    "plt.title(\"Users by Race and Gender\", fontsize = 10)"
   ]
  },
  {
   "cell_type": "code",
   "execution_count": 50,
   "id": "90ad04c7",
   "metadata": {},
   "outputs": [
    {
     "data": {
      "text/plain": [
       "Text(0, 0.5, 'Count')"
      ]
     },
     "execution_count": 50,
     "metadata": {},
     "output_type": "execute_result"
    },
    {
     "data": {
      "image/png": "[encoded data removed]",
      "text/plain": [
       "<Figure size 432x288 with 1 Axes>"
      ]
     },
     "metadata": {
      "needs_background": "light"
     },
     "output_type": "display_data"
    }
   ],
   "source": [
    "data_new['Effectiveness'].value_counts().plot(kind='bar')\n",
    "plt.title(\"Effectiveness\", fontsize = 10)\n",
    "plt.xlabel(\"Effectiveness\", fontsize = 10)\n",
    "plt.ylabel(\"Count\", fontsize = 10)"
   ]
  },
  {
   "cell_type": "code",
   "execution_count": 51,
   "id": "7f7031dd",
   "metadata": {},
   "outputs": [
    {
     "data": {
      "text/plain": [
       "Text(0, 0.5, 'Count')"
      ]
     },
     "execution_count": 51,
     "metadata": {},
     "output_type": "execute_result"
    },
    {
     "data": {
      "image/png": "[encoded data removed]",
      "text/plain": [
       "<Figure size 432x288 with 1 Axes>"
      ]
     },
     "metadata": {
      "needs_background": "light"
     },
     "output_type": "display_data"
    }
   ],
   "source": [
    "data_new['EaseofUse'].value_counts().plot(kind='bar')\n",
    "plt.title(\"Ease of use\", fontsize = 10)\n",
    "plt.xlabel(\"EaseofUse\", fontsize = 10)\n",
    "plt.ylabel(\"Count\", fontsize = 10)"
   ]
  },
  {
   "cell_type": "code",
   "execution_count": 52,
   "id": "4fc1aa25",
   "metadata": {},
   "outputs": [],
   "source": [
    "# Convert the date column from object data type to DateTime\n",
    "data_new['Date'] = pd.to_datetime(data_new['Date'])\n"
   ]
  },
  {
   "cell_type": "code",
   "execution_count": 53,
   "id": "71b7127e",
   "metadata": {},
   "outputs": [
    {
     "data": {
      "image/png": "[encoded data removed]",
      "text/plain": [
       "<Figure size 432x288 with 1 Axes>"
      ]
     },
     "metadata": {
      "needs_background": "light"
     },
     "output_type": "display_data"
    }
   ],
   "source": [
    "# Sort the DataFrame by the 'Date' column in descending order\n",
    "data_new.sort_values('Date', inplace=True, ascending=False)\n",
    "plt.plot(data_new['Date'], range(len(data_new)))\n",
    "plt.title('Data over Time')\n",
    "plt.xlabel('Date')\n",
    "plt.ylabel('Count')\n",
    "#plt.xticks(rotation=45)\n",
    "plt.show()"
   ]
  },
  {
   "cell_type": "markdown",
   "id": "9c9d0016",
   "metadata": {},
   "source": [
    "##### Cymbalta is used to treat major depressive disorder in adults. From the above plot it can be infered that the use is decreasing every year"
   ]
  },
  {
   "cell_type": "code",
   "execution_count": 54,
   "id": "3ee5e8af",
   "metadata": {},
   "outputs": [
    {
     "data": {
      "text/plain": [
       "2007-10-29    32\n",
       "2007-10-28    22\n",
       "2007-10-25    16\n",
       "2007-10-30    15\n",
       "2007-10-26    11\n",
       "              ..\n",
       "2012-04-20     1\n",
       "2012-04-23     1\n",
       "2012-04-30     1\n",
       "2012-05-01     1\n",
       "2011-02-16     1\n",
       "Name: Date, Length: 2189, dtype: int64"
      ]
     },
     "execution_count": 54,
     "metadata": {},
     "output_type": "execute_result"
    }
   ],
   "source": [
    "data_new['Date'].value_counts()"
   ]
  },
  {
   "cell_type": "code",
   "execution_count": 55,
   "id": "37640ccc",
   "metadata": {},
   "outputs": [
    {
     "data": {
      "text/plain": [
       "0"
      ]
     },
     "execution_count": 55,
     "metadata": {},
     "output_type": "execute_result"
    }
   ],
   "source": [
    "data_new['Date'].isna().sum()"
   ]
  },
  {
   "cell_type": "code",
   "execution_count": 56,
   "id": "a616074e",
   "metadata": {},
   "outputs": [
    {
     "data": {
      "text/plain": [
       "<Figure size 720x576 with 0 Axes>"
      ]
     },
     "metadata": {},
     "output_type": "display_data"
    },
    {
     "data": {
      "image/png": "[encoded data removed]",
      "text/plain": [
       "<Figure size 1166.4x432 with 3 Axes>"
      ]
     },
     "metadata": {
      "needs_background": "light"
     },
     "output_type": "display_data"
    }
   ],
   "source": [
    "plt.figure(figsize=(10,8))\n",
    "g = sns.catplot(x=\"Effectiveness\",col=\"Sex\",\n",
    "                data=data, kind=\"count\",\n",
    "                height=6,aspect =.9);"
   ]
  },
  {
   "cell_type": "code",
   "execution_count": 57,
   "id": "2130b6b3",
   "metadata": {},
   "outputs": [
    {
     "data": {
      "text/plain": [
       "<AxesSubplot:xlabel='Age', ylabel='count'>"
      ]
     },
     "execution_count": 57,
     "metadata": {},
     "output_type": "execute_result"
    },
    {
     "data": {
      "image/png": "[encoded data removed]",
      "text/plain": [
       "<Figure size 1440x720 with 1 Axes>"
      ]
     },
     "metadata": {
      "needs_background": "light"
     },
     "output_type": "display_data"
    }
   ],
   "source": [
    "plt.figure(figsize=(20, 10))\n",
    "sns.countplot(x='Age',hue='Effectiveness',data=data)"
   ]
  },
  {
   "cell_type": "code",
   "execution_count": 58,
   "id": "8d07b187",
   "metadata": {},
   "outputs": [
    {
     "data": {
      "text/plain": [
       "<Figure size 1440x720 with 0 Axes>"
      ]
     },
     "metadata": {},
     "output_type": "display_data"
    },
    {
     "data": {
      "image/png": "[encoded data removed]",
      "text/plain": [
       "<Figure size 1166.4x432 with 3 Axes>"
      ]
     },
     "metadata": {
      "needs_background": "light"
     },
     "output_type": "display_data"
    }
   ],
   "source": [
    "plt.figure(figsize=(20,10))\n",
    "\n",
    "g = sns.catplot(x=\"Effectiveness\",col=\"Sex\",data=data_copy, kind=\"count\",height=6,aspect =.9);"
   ]
  },
  {
   "cell_type": "markdown",
   "id": "bc8c2fef",
   "metadata": {},
   "source": [
    "# Data Preprocessing"
   ]
  },
  {
   "cell_type": "markdown",
   "id": "83867a47",
   "metadata": {},
   "source": [
    "## 1.Data Cleaning"
   ]
  },
  {
   "cell_type": "markdown",
   "id": "68d00b6f",
   "metadata": {},
   "source": [
    "#### 1.1 Handling Duplicates"
   ]
  },
  {
   "cell_type": "code",
   "execution_count": 59,
   "id": "6a11b199",
   "metadata": {},
   "outputs": [
    {
     "name": "stdout",
     "output_type": "stream",
     "text": [
      "Duplicate Rows:\n",
      "Empty DataFrame\n",
      "Columns: [Age, Condition, Date, Drug, DrugId, EaseofUse, Effectiveness, Satisfaction, Sex, Sides, UsefulCount, name, race]\n",
      "Index: []\n"
     ]
    }
   ],
   "source": [
    "duplicate_rows = data_new[data_new.duplicated()]\n",
    "print(\"Duplicate Rows:\")\n",
    "print(duplicate_rows)"
   ]
  },
  {
   "cell_type": "code",
   "execution_count": 60,
   "id": "05f5cb8e",
   "metadata": {},
   "outputs": [],
   "source": [
    "#There is no duplicate rows"
   ]
  },
  {
   "cell_type": "markdown",
   "id": "7aac2389",
   "metadata": {},
   "source": [
    "#### 1.2 Handling Blanc spaces"
   ]
  },
  {
   "cell_type": "code",
   "execution_count": 61,
   "id": "e3675f09",
   "metadata": {},
   "outputs": [],
   "source": [
    "# Replace blanc spaces with NaN in 'Sex' column\n",
    "data_new['Sex'] = data_new['Sex'].replace(' ', np.nan)\n",
    "# Replace blanc spaces with NaN in 'Age' column\n",
    "data_new['Age'] = data_new['Age'].replace(' ', np.nan)"
   ]
  },
  {
   "cell_type": "code",
   "execution_count": 62,
   "id": "fdfb6591",
   "metadata": {},
   "outputs": [
    {
     "data": {
      "text/plain": [
       "Age              118\n",
       "Condition          0\n",
       "Date               0\n",
       "Drug               0\n",
       "DrugId             0\n",
       "EaseofUse          0\n",
       "Effectiveness      0\n",
       "Satisfaction       0\n",
       "Sex              197\n",
       "Sides              0\n",
       "UsefulCount        0\n",
       "name               0\n",
       "race               0\n",
       "dtype: int64"
      ]
     },
     "execution_count": 62,
     "metadata": {},
     "output_type": "execute_result"
    }
   ],
   "source": [
    "#checking missing values\n",
    "data_new.isnull().sum()"
   ]
  },
  {
   "cell_type": "markdown",
   "id": "5f12f3a1",
   "metadata": {},
   "source": [
    "#### 1.3 Handling Missing Values"
   ]
  },
  {
   "cell_type": "code",
   "execution_count": 63,
   "id": "8f68ded5",
   "metadata": {},
   "outputs": [],
   "source": [
    "# Fill null values in 'Age' column with '3-6'\n",
    "data_new['Age'] = data_new['Age'].fillna('3-6')"
   ]
  },
  {
   "cell_type": "code",
   "execution_count": 64,
   "id": "1f5f32ff",
   "metadata": {},
   "outputs": [
    {
     "data": {
      "text/plain": [
       "45-54         1291\n",
       "55-64         1008\n",
       "35-44          874\n",
       "25-34          594\n",
       "65-74          400\n",
       "19-24          225\n",
       "3-6            118\n",
       "75 or over     102\n",
       "13-18           34\n",
       "0-2              1\n",
       "7-12             1\n",
       "Name: Age, dtype: int64"
      ]
     },
     "execution_count": 64,
     "metadata": {},
     "output_type": "execute_result"
    }
   ],
   "source": [
    "data_new['Age'].value_counts()"
   ]
  },
  {
   "cell_type": "code",
   "execution_count": 65,
   "id": "1cb7d32a",
   "metadata": {},
   "outputs": [
    {
     "data": {
      "text/plain": [
       "Age                0\n",
       "Condition          0\n",
       "Date               0\n",
       "Drug               0\n",
       "DrugId             0\n",
       "EaseofUse          0\n",
       "Effectiveness      0\n",
       "Satisfaction       0\n",
       "Sex              197\n",
       "Sides              0\n",
       "UsefulCount        0\n",
       "name               0\n",
       "race               0\n",
       "dtype: int64"
      ]
     },
     "execution_count": 65,
     "metadata": {},
     "output_type": "execute_result"
    }
   ],
   "source": [
    "data_new.isna().sum()"
   ]
  },
  {
   "cell_type": "code",
   "execution_count": 66,
   "id": "a5ec251c",
   "metadata": {},
   "outputs": [],
   "source": [
    "# Drop the null values in Sex column\n",
    "data_new = data_new.dropna(subset=['Sex'])"
   ]
  },
  {
   "cell_type": "code",
   "execution_count": 67,
   "id": "4f3169ae",
   "metadata": {},
   "outputs": [
    {
     "data": {
      "text/plain": [
       "Age              0\n",
       "Condition        0\n",
       "Date             0\n",
       "Drug             0\n",
       "DrugId           0\n",
       "EaseofUse        0\n",
       "Effectiveness    0\n",
       "Satisfaction     0\n",
       "Sex              0\n",
       "Sides            0\n",
       "UsefulCount      0\n",
       "name             0\n",
       "race             0\n",
       "dtype: int64"
      ]
     },
     "execution_count": 67,
     "metadata": {},
     "output_type": "execute_result"
    }
   ],
   "source": [
    "data_new.isna().sum()"
   ]
  },
  {
   "cell_type": "markdown",
   "id": "655c8ecb",
   "metadata": {},
   "source": [
    "#### 1.4 Handling age column "
   ]
  },
  {
   "cell_type": "code",
   "execution_count": 68,
   "id": "06b0ddbd",
   "metadata": {},
   "outputs": [],
   "source": [
    "# Modify age group 75 or over to 75-100\n",
    "data_new['Age']=data_new['Age'].str.replace('75 or over','75-100')"
   ]
  },
  {
   "cell_type": "code",
   "execution_count": 69,
   "id": "f16b0718",
   "metadata": {},
   "outputs": [
    {
     "data": {
      "text/plain": [
       "45-54     1264\n",
       "55-64      961\n",
       "35-44      860\n",
       "25-34      580\n",
       "65-74      381\n",
       "19-24      222\n",
       "75-100      98\n",
       "3-6         51\n",
       "13-18       32\n",
       "0-2          1\n",
       "7-12         1\n",
       "Name: Age, dtype: int64"
      ]
     },
     "execution_count": 69,
     "metadata": {},
     "output_type": "execute_result"
    }
   ],
   "source": [
    "data_new['Age'].value_counts()"
   ]
  },
  {
   "cell_type": "code",
   "execution_count": 70,
   "id": "b06733f6",
   "metadata": {},
   "outputs": [],
   "source": [
    "data_new_copy=data_new.copy"
   ]
  },
  {
   "cell_type": "markdown",
   "id": "551dfb35",
   "metadata": {},
   "source": [
    "## 2. Outlier Detection"
   ]
  },
  {
   "cell_type": "code",
   "execution_count": 71,
   "id": "76cab7ed",
   "metadata": {},
   "outputs": [
    {
     "data": {
      "image/png": "[encoded data removed]",
      "text/plain": [
       "<Figure size 720x432 with 4 Axes>"
      ]
     },
     "metadata": {
      "needs_background": "light"
     },
     "output_type": "display_data"
    }
   ],
   "source": [
    "plt.figure(figsize=(10,6))\n",
    "\n",
    "plt.subplot(2,2,1)\n",
    "plt.boxplot(data_new[\"EaseofUse\"])\n",
    "plt.title(\" Ease Of Use\")\n",
    "\n",
    "plt.subplot(2,2,2)\n",
    "plt.boxplot(data_new[\"Effectiveness\"])\n",
    "plt.title(\" Effectiveness\")\n",
    "\n",
    "plt.subplot(2,2,3)\n",
    "plt.boxplot(data_new[\"Satisfaction\"])\n",
    "plt.title(\" Satisfaction\")\n",
    "\n",
    "plt.subplot(2,2,4)\n",
    "plt.boxplot(data_new[\"UsefulCount\"])\n",
    "plt.title(\" Useful Count\")\n",
    "plt.show()"
   ]
  },
  {
   "cell_type": "code",
   "execution_count": 72,
   "id": "5660eb2b",
   "metadata": {},
   "outputs": [],
   "source": [
    "#Outliers are present in EaseofUse and UsefulCount columns"
   ]
  },
  {
   "cell_type": "markdown",
   "id": "580edd51",
   "metadata": {},
   "source": [
    "### Removing Outliers"
   ]
  },
  {
   "cell_type": "code",
   "execution_count": 73,
   "id": "c8aae5f4",
   "metadata": {},
   "outputs": [
    {
     "name": "stdout",
     "output_type": "stream",
     "text": [
      "lower limit= -8.5\n",
      "upperlimit =  19.5\n"
     ]
    }
   ],
   "source": [
    "Q1=np.percentile(data_new[\"UsefulCount\"],25,interpolation=\"midpoint\")\n",
    "Q3=np.percentile(data_new[\"UsefulCount\"],75,interpolation=\"midpoint\")\n",
    "IQR=Q3-Q1\n",
    "low=Q1-(1.5*IQR)\n",
    "upper=Q3+(1.5*IQR)\n",
    "print(\"lower limit=\",low)\n",
    "print(\"upperlimit = \",upper)"
   ]
  },
  {
   "cell_type": "code",
   "execution_count": 74,
   "id": "03ba84ac",
   "metadata": {},
   "outputs": [
    {
     "data": {
      "text/plain": [
       "[28,\n",
       " 21,\n",
       " 30,\n",
       " 25,\n",
       " 56,\n",
       " 29,\n",
       " 26,\n",
       " 61,\n",
       " 25,\n",
       " 26,\n",
       " 28,\n",
       " 145,\n",
       " 27,\n",
       " 29,\n",
       " 43,\n",
       " 39,\n",
       " 30,\n",
       " 22,\n",
       " 21,\n",
       " 35,\n",
       " 33,\n",
       " 48,\n",
       " 36,\n",
       " 56,\n",
       " 33,\n",
       " 25,\n",
       " 58,\n",
       " 20,\n",
       " 46,\n",
       " 21,\n",
       " 47,\n",
       " 45,\n",
       " 44,\n",
       " 34,\n",
       " 60,\n",
       " 48,\n",
       " 26,\n",
       " 29,\n",
       " 50,\n",
       " 22,\n",
       " 51,\n",
       " 40,\n",
       " 29,\n",
       " 20,\n",
       " 28,\n",
       " 28,\n",
       " 25,\n",
       " 21,\n",
       " 34,\n",
       " 31,\n",
       " 30,\n",
       " 23,\n",
       " 20,\n",
       " 20,\n",
       " 26,\n",
       " 35,\n",
       " 23,\n",
       " 29,\n",
       " 21,\n",
       " 32,\n",
       " 24,\n",
       " 22,\n",
       " 21,\n",
       " 25,\n",
       " 21,\n",
       " 25,\n",
       " 20,\n",
       " 23,\n",
       " 27,\n",
       " 27,\n",
       " 35,\n",
       " 24,\n",
       " 22,\n",
       " 20,\n",
       " 22,\n",
       " 22,\n",
       " 23,\n",
       " 22,\n",
       " 22,\n",
       " 20,\n",
       " 28,\n",
       " 28,\n",
       " 24,\n",
       " 58,\n",
       " 26,\n",
       " 25,\n",
       " 23,\n",
       " 38,\n",
       " 27,\n",
       " 21,\n",
       " 24,\n",
       " 30,\n",
       " 22,\n",
       " 36,\n",
       " 20,\n",
       " 25,\n",
       " 47,\n",
       " 20,\n",
       " 23,\n",
       " 41,\n",
       " 26,\n",
       " 21,\n",
       " 22,\n",
       " 25,\n",
       " 29,\n",
       " 24,\n",
       " 65,\n",
       " 22,\n",
       " 30,\n",
       " 20,\n",
       " 26,\n",
       " 34,\n",
       " 25,\n",
       " 20,\n",
       " 21,\n",
       " 21,\n",
       " 28,\n",
       " 31,\n",
       " 24,\n",
       " 34,\n",
       " 28,\n",
       " 24,\n",
       " 20,\n",
       " 23,\n",
       " 23,\n",
       " 24,\n",
       " 33,\n",
       " 44,\n",
       " 25,\n",
       " 43,\n",
       " 22,\n",
       " 21,\n",
       " 31,\n",
       " 21,\n",
       " 21,\n",
       " 21,\n",
       " 23,\n",
       " 22,\n",
       " 28,\n",
       " 22,\n",
       " 21,\n",
       " 20,\n",
       " 21,\n",
       " 46,\n",
       " 23,\n",
       " 22,\n",
       " 32,\n",
       " 97,\n",
       " 23,\n",
       " 23,\n",
       " 22,\n",
       " 20,\n",
       " 22,\n",
       " 20,\n",
       " 24,\n",
       " 20,\n",
       " 21,\n",
       " 22,\n",
       " 32,\n",
       " 21,\n",
       " 20,\n",
       " 37,\n",
       " 20,\n",
       " 24,\n",
       " 26,\n",
       " 25,\n",
       " 93,\n",
       " 24,\n",
       " 31,\n",
       " 28,\n",
       " 20,\n",
       " 25,\n",
       " 30,\n",
       " 20,\n",
       " 20,\n",
       " 21,\n",
       " 23,\n",
       " 24,\n",
       " 20,\n",
       " 21,\n",
       " 27,\n",
       " 22,\n",
       " 29,\n",
       " 36,\n",
       " 23,\n",
       " 44,\n",
       " 25,\n",
       " 27,\n",
       " 29,\n",
       " 35,\n",
       " 82,\n",
       " 20,\n",
       " 42,\n",
       " 27,\n",
       " 20,\n",
       " 28,\n",
       " 22,\n",
       " 29,\n",
       " 23,\n",
       " 26,\n",
       " 116,\n",
       " 21,\n",
       " 42,\n",
       " 30,\n",
       " 22,\n",
       " 103,\n",
       " 38,\n",
       " 28,\n",
       " 30,\n",
       " 33,\n",
       " 22,\n",
       " 56,\n",
       " 45,\n",
       " 22,\n",
       " 39,\n",
       " 21,\n",
       " 23,\n",
       " 41,\n",
       " 77,\n",
       " 31,\n",
       " 129,\n",
       " 21,\n",
       " 22,\n",
       " 22,\n",
       " 21,\n",
       " 20,\n",
       " 29,\n",
       " 46,\n",
       " 31,\n",
       " 26,\n",
       " 29,\n",
       " 44,\n",
       " 46,\n",
       " 36,\n",
       " 28,\n",
       " 28,\n",
       " 50,\n",
       " 68,\n",
       " 31,\n",
       " 38,\n",
       " 36,\n",
       " 23,\n",
       " 20,\n",
       " 59]"
      ]
     },
     "execution_count": 74,
     "metadata": {},
     "output_type": "execute_result"
    }
   ],
   "source": [
    "outlier = []\n",
    "for x in data_new['UsefulCount']:\n",
    "    if((x>upper)or(x<low)):\n",
    "        outlier.append(x)\n",
    "outlier"
   ]
  },
  {
   "cell_type": "code",
   "execution_count": 75,
   "id": "cf142cc5",
   "metadata": {},
   "outputs": [],
   "source": [
    "data_new=data_new.drop(data_new.loc[data[\"UsefulCount\"]>upper].index)"
   ]
  },
  {
   "cell_type": "code",
   "execution_count": 76,
   "id": "30b95c09",
   "metadata": {},
   "outputs": [
    {
     "data": {
      "text/plain": [
       "{'whiskers': [<matplotlib.lines.Line2D at 0x2ca828d1cd0>,\n",
       "  <matplotlib.lines.Line2D at 0x2ca828d1fa0>],\n",
       " 'caps': [<matplotlib.lines.Line2D at 0x2ca828e02b0>,\n",
       "  <matplotlib.lines.Line2D at 0x2ca828e05b0>],\n",
       " 'boxes': [<matplotlib.lines.Line2D at 0x2ca828c3850>],\n",
       " 'medians': [<matplotlib.lines.Line2D at 0x2ca828e0880>],\n",
       " 'fliers': [<matplotlib.lines.Line2D at 0x2ca828e0b50>],\n",
       " 'means': []}"
      ]
     },
     "execution_count": 76,
     "metadata": {},
     "output_type": "execute_result"
    },
    {
     "data": {
      "image/png": "[encoded data removed]",
      "text/plain": [
       "<Figure size 432x288 with 1 Axes>"
      ]
     },
     "metadata": {
      "needs_background": "light"
     },
     "output_type": "display_data"
    }
   ],
   "source": [
    "plt.boxplot(data_new[\"UsefulCount\"])"
   ]
  },
  {
   "cell_type": "markdown",
   "id": "98077318",
   "metadata": {},
   "source": [
    "###### No outliers in Useful Count"
   ]
  },
  {
   "cell_type": "code",
   "execution_count": 77,
   "id": "aa97d1bb",
   "metadata": {},
   "outputs": [
    {
     "name": "stdout",
     "output_type": "stream",
     "text": [
      "lower limit= 2.5\n",
      "upperlimit =  6.5\n"
     ]
    }
   ],
   "source": [
    "Q1=np.percentile(data_new[\"EaseofUse\"],25,interpolation=\"midpoint\")\n",
    "Q3=np.percentile(data_new[\"EaseofUse\"],75,interpolation=\"midpoint\")\n",
    "IQR=Q3-Q1\n",
    "low=Q1-(1.5*IQR)\n",
    "upper=Q3+(1.5*IQR)\n",
    "print(\"lower limit=\",low)\n",
    "print(\"upperlimit = \",upper)\n"
   ]
  },
  {
   "cell_type": "code",
   "execution_count": 78,
   "id": "f3274f16",
   "metadata": {},
   "outputs": [
    {
     "data": {
      "text/plain": [
       "[2,\n",
       " 1,\n",
       " 1,\n",
       " 1,\n",
       " 1,\n",
       " 1,\n",
       " 1,\n",
       " 1,\n",
       " 2,\n",
       " 1,\n",
       " 1,\n",
       " 1,\n",
       " 1,\n",
       " 1,\n",
       " 1,\n",
       " 1,\n",
       " 2,\n",
       " 1,\n",
       " 1,\n",
       " 1,\n",
       " 1,\n",
       " 1,\n",
       " 1,\n",
       " 1,\n",
       " 2,\n",
       " 1,\n",
       " 2,\n",
       " 2,\n",
       " 2,\n",
       " 1,\n",
       " 1,\n",
       " 1,\n",
       " 2,\n",
       " 1,\n",
       " 2,\n",
       " 2,\n",
       " 1,\n",
       " 1,\n",
       " 1,\n",
       " 1,\n",
       " 1,\n",
       " 1,\n",
       " 2,\n",
       " 1,\n",
       " 1,\n",
       " 1,\n",
       " 1,\n",
       " 2,\n",
       " 2,\n",
       " 1,\n",
       " 1,\n",
       " 1,\n",
       " 1,\n",
       " 2,\n",
       " 1,\n",
       " 1,\n",
       " 1,\n",
       " 2,\n",
       " 1,\n",
       " 2,\n",
       " 1,\n",
       " 2,\n",
       " 2,\n",
       " 1,\n",
       " 1,\n",
       " 1,\n",
       " 2,\n",
       " 1,\n",
       " 1,\n",
       " 1,\n",
       " 1,\n",
       " 1,\n",
       " 2,\n",
       " 1,\n",
       " 1,\n",
       " 1,\n",
       " 1,\n",
       " 1,\n",
       " 2,\n",
       " 2,\n",
       " 1,\n",
       " 1,\n",
       " 1,\n",
       " 1,\n",
       " 2,\n",
       " 2,\n",
       " 1,\n",
       " 1,\n",
       " 1,\n",
       " 1,\n",
       " 2,\n",
       " 1,\n",
       " 2,\n",
       " 1,\n",
       " 2,\n",
       " 1,\n",
       " 2,\n",
       " 1,\n",
       " 2,\n",
       " 1,\n",
       " 1,\n",
       " 1,\n",
       " 1,\n",
       " 1,\n",
       " 1,\n",
       " 2,\n",
       " 1,\n",
       " 2,\n",
       " 2,\n",
       " 1,\n",
       " 1,\n",
       " 1,\n",
       " 1,\n",
       " 1,\n",
       " 2,\n",
       " 2,\n",
       " 2,\n",
       " 2,\n",
       " 1,\n",
       " 2,\n",
       " 2,\n",
       " 1,\n",
       " 2,\n",
       " 2,\n",
       " 1,\n",
       " 1,\n",
       " 2,\n",
       " 2,\n",
       " 1,\n",
       " 1,\n",
       " 1,\n",
       " 1,\n",
       " 1,\n",
       " 2,\n",
       " 1,\n",
       " 1,\n",
       " 2,\n",
       " 1,\n",
       " 2,\n",
       " 1,\n",
       " 1,\n",
       " 1,\n",
       " 1,\n",
       " 1,\n",
       " 1,\n",
       " 1,\n",
       " 1,\n",
       " 1,\n",
       " 1,\n",
       " 1,\n",
       " 1,\n",
       " 2,\n",
       " 1,\n",
       " 1,\n",
       " 1,\n",
       " 2,\n",
       " 1,\n",
       " 1,\n",
       " 1,\n",
       " 1,\n",
       " 1,\n",
       " 1,\n",
       " 2,\n",
       " 1,\n",
       " 2,\n",
       " 1,\n",
       " 2,\n",
       " 1,\n",
       " 1,\n",
       " 1,\n",
       " 1,\n",
       " 1,\n",
       " 2,\n",
       " 1,\n",
       " 2,\n",
       " 1,\n",
       " 2,\n",
       " 1,\n",
       " 1,\n",
       " 1,\n",
       " 2,\n",
       " 2,\n",
       " 1,\n",
       " 1,\n",
       " 1,\n",
       " 1,\n",
       " 2,\n",
       " 2,\n",
       " 1,\n",
       " 1,\n",
       " 2,\n",
       " 1,\n",
       " 1,\n",
       " 1,\n",
       " 1,\n",
       " 1,\n",
       " 2,\n",
       " 2,\n",
       " 1,\n",
       " 2,\n",
       " 2,\n",
       " 1,\n",
       " 1,\n",
       " 2,\n",
       " 1,\n",
       " 1,\n",
       " 1,\n",
       " 2,\n",
       " 2,\n",
       " 1,\n",
       " 2,\n",
       " 2,\n",
       " 1,\n",
       " 1,\n",
       " 1,\n",
       " 2,\n",
       " 1,\n",
       " 1,\n",
       " 2,\n",
       " 2,\n",
       " 2,\n",
       " 2,\n",
       " 2,\n",
       " 1,\n",
       " 1,\n",
       " 1,\n",
       " 1,\n",
       " 1,\n",
       " 1,\n",
       " 1,\n",
       " 1,\n",
       " 1,\n",
       " 1,\n",
       " 2,\n",
       " 1,\n",
       " 1,\n",
       " 2,\n",
       " 2,\n",
       " 1,\n",
       " 1,\n",
       " 1,\n",
       " 1,\n",
       " 1,\n",
       " 2,\n",
       " 1,\n",
       " 1,\n",
       " 1,\n",
       " 2,\n",
       " 1,\n",
       " 1,\n",
       " 1,\n",
       " 1,\n",
       " 1,\n",
       " 1,\n",
       " 2,\n",
       " 1,\n",
       " 1,\n",
       " 1,\n",
       " 1,\n",
       " 1,\n",
       " 1,\n",
       " 1,\n",
       " 2,\n",
       " 1,\n",
       " 1,\n",
       " 1,\n",
       " 2,\n",
       " 1,\n",
       " 1,\n",
       " 1,\n",
       " 1,\n",
       " 2,\n",
       " 1,\n",
       " 1,\n",
       " 1,\n",
       " 2,\n",
       " 1,\n",
       " 1,\n",
       " 1,\n",
       " 1,\n",
       " 1,\n",
       " 1,\n",
       " 1,\n",
       " 1,\n",
       " 1,\n",
       " 1,\n",
       " 1,\n",
       " 1,\n",
       " 2,\n",
       " 1,\n",
       " 1,\n",
       " 1,\n",
       " 1,\n",
       " 2,\n",
       " 1,\n",
       " 1,\n",
       " 1,\n",
       " 1,\n",
       " 2,\n",
       " 1,\n",
       " 2,\n",
       " 2,\n",
       " 1,\n",
       " 1,\n",
       " 1,\n",
       " 1,\n",
       " 2,\n",
       " 1,\n",
       " 2,\n",
       " 1,\n",
       " 2,\n",
       " 2,\n",
       " 1,\n",
       " 2,\n",
       " 1,\n",
       " 2,\n",
       " 1,\n",
       " 2,\n",
       " 2,\n",
       " 1,\n",
       " 1,\n",
       " 1,\n",
       " 1,\n",
       " 1,\n",
       " 1,\n",
       " 2,\n",
       " 2,\n",
       " 1,\n",
       " 1,\n",
       " 1,\n",
       " 1,\n",
       " 1,\n",
       " 1,\n",
       " 1,\n",
       " 1,\n",
       " 1,\n",
       " 2,\n",
       " 1,\n",
       " 1,\n",
       " 1,\n",
       " 1,\n",
       " 1,\n",
       " 2,\n",
       " 1,\n",
       " 1,\n",
       " 1,\n",
       " 1,\n",
       " 1,\n",
       " 2,\n",
       " 1,\n",
       " 1,\n",
       " 1,\n",
       " 1,\n",
       " 2,\n",
       " 1,\n",
       " 1,\n",
       " 1,\n",
       " 1,\n",
       " 1,\n",
       " 1,\n",
       " 2,\n",
       " 1,\n",
       " 1,\n",
       " 2,\n",
       " 1,\n",
       " 1,\n",
       " 2,\n",
       " 2,\n",
       " 2,\n",
       " 2,\n",
       " 2,\n",
       " 1,\n",
       " 1,\n",
       " 2,\n",
       " 2,\n",
       " 1,\n",
       " 1,\n",
       " 1,\n",
       " 1,\n",
       " 2,\n",
       " 2,\n",
       " 2,\n",
       " 1,\n",
       " 1,\n",
       " 1,\n",
       " 1,\n",
       " 1,\n",
       " 1,\n",
       " 1,\n",
       " 1,\n",
       " 1,\n",
       " 1,\n",
       " 1,\n",
       " 2,\n",
       " 1,\n",
       " 1,\n",
       " 1,\n",
       " 1,\n",
       " 1,\n",
       " 1,\n",
       " 2,\n",
       " 1,\n",
       " 1,\n",
       " 1,\n",
       " 2,\n",
       " 2,\n",
       " 2,\n",
       " 2,\n",
       " 2,\n",
       " 1,\n",
       " 1,\n",
       " 1,\n",
       " 1,\n",
       " 2,\n",
       " 1,\n",
       " 1,\n",
       " 1,\n",
       " 2,\n",
       " 1,\n",
       " 1,\n",
       " 1,\n",
       " 2,\n",
       " 2,\n",
       " 1,\n",
       " 1,\n",
       " 1,\n",
       " 1,\n",
       " 1,\n",
       " 1,\n",
       " 2,\n",
       " 2,\n",
       " 2,\n",
       " 1,\n",
       " 1,\n",
       " 1,\n",
       " 1,\n",
       " 1,\n",
       " 1,\n",
       " 2,\n",
       " 2,\n",
       " 1,\n",
       " 1,\n",
       " 1,\n",
       " 1,\n",
       " 1,\n",
       " 1,\n",
       " 1,\n",
       " 1,\n",
       " 2,\n",
       " 1,\n",
       " 2,\n",
       " 2,\n",
       " 2,\n",
       " 2,\n",
       " 1,\n",
       " 2,\n",
       " 2,\n",
       " 1,\n",
       " 2,\n",
       " 2,\n",
       " 1,\n",
       " 1,\n",
       " 1,\n",
       " 2,\n",
       " 1,\n",
       " 2,\n",
       " 1,\n",
       " 1,\n",
       " 1,\n",
       " 2,\n",
       " 1,\n",
       " 1,\n",
       " 2,\n",
       " 1,\n",
       " 1,\n",
       " 1,\n",
       " 1,\n",
       " 2,\n",
       " 1,\n",
       " 1,\n",
       " 2,\n",
       " 1,\n",
       " 2,\n",
       " 1,\n",
       " 1,\n",
       " 1,\n",
       " 1,\n",
       " 2,\n",
       " 1,\n",
       " 1,\n",
       " 1,\n",
       " 2,\n",
       " 1,\n",
       " 1,\n",
       " 1,\n",
       " 1,\n",
       " 1,\n",
       " 2,\n",
       " 2,\n",
       " 1,\n",
       " 2,\n",
       " 1,\n",
       " 2,\n",
       " 2,\n",
       " 1,\n",
       " 1,\n",
       " 1,\n",
       " 1,\n",
       " 1,\n",
       " 1,\n",
       " 1,\n",
       " 1,\n",
       " 1,\n",
       " 1,\n",
       " 1,\n",
       " 1,\n",
       " 1,\n",
       " 1,\n",
       " 1,\n",
       " 1,\n",
       " 1,\n",
       " 2,\n",
       " 1,\n",
       " 1,\n",
       " 1,\n",
       " 2,\n",
       " 1,\n",
       " 1,\n",
       " 1,\n",
       " 1,\n",
       " 2,\n",
       " 2,\n",
       " 1,\n",
       " 1,\n",
       " 1,\n",
       " 1,\n",
       " 1,\n",
       " 1,\n",
       " 1,\n",
       " 2,\n",
       " 1,\n",
       " 2,\n",
       " 1,\n",
       " 2,\n",
       " 1,\n",
       " 2,\n",
       " 1,\n",
       " 1,\n",
       " 2,\n",
       " 1,\n",
       " 2,\n",
       " 1,\n",
       " 1,\n",
       " 2,\n",
       " 1,\n",
       " 2,\n",
       " 1,\n",
       " 2,\n",
       " 1,\n",
       " 1,\n",
       " 2,\n",
       " 1,\n",
       " 1,\n",
       " 2,\n",
       " 2,\n",
       " 1,\n",
       " 1,\n",
       " 2,\n",
       " 1,\n",
       " 1,\n",
       " 1,\n",
       " 1,\n",
       " 1,\n",
       " 2,\n",
       " 1,\n",
       " 1,\n",
       " 1,\n",
       " 1,\n",
       " 1,\n",
       " 2,\n",
       " 2,\n",
       " 2,\n",
       " 1,\n",
       " 1,\n",
       " 1,\n",
       " 1]"
      ]
     },
     "execution_count": 78,
     "metadata": {},
     "output_type": "execute_result"
    }
   ],
   "source": [
    "outlier = []\n",
    "for x in data_new['EaseofUse']:\n",
    "    if((x>upper)or(x<low)):\n",
    "        outlier.append(x)\n",
    "outlier"
   ]
  },
  {
   "cell_type": "code",
   "execution_count": 79,
   "id": "4984bd8c",
   "metadata": {},
   "outputs": [],
   "source": [
    "data_new=data_new.drop(data_new.loc[data_new[\"EaseofUse\"]>upper].index)\n",
    "data_new=data_new.drop(data_new.loc[data_new[\"EaseofUse\"]<low].index)"
   ]
  },
  {
   "cell_type": "code",
   "execution_count": 80,
   "id": "884e51f4",
   "metadata": {},
   "outputs": [
    {
     "data": {
      "text/plain": [
       "{'whiskers': [<matplotlib.lines.Line2D at 0x2ca8293bb50>,\n",
       "  <matplotlib.lines.Line2D at 0x2ca8293be20>],\n",
       " 'caps': [<matplotlib.lines.Line2D at 0x2ca82949130>,\n",
       "  <matplotlib.lines.Line2D at 0x2ca82949400>],\n",
       " 'boxes': [<matplotlib.lines.Line2D at 0x2ca8293b850>],\n",
       " 'medians': [<matplotlib.lines.Line2D at 0x2ca829496d0>],\n",
       " 'fliers': [<matplotlib.lines.Line2D at 0x2ca82949a00>],\n",
       " 'means': []}"
      ]
     },
     "execution_count": 80,
     "metadata": {},
     "output_type": "execute_result"
    },
    {
     "data": {
      "image/png": "[encoded data removed]",
      "text/plain": [
       "<Figure size 432x288 with 1 Axes>"
      ]
     },
     "metadata": {
      "needs_background": "light"
     },
     "output_type": "display_data"
    }
   ],
   "source": [
    "plt.boxplot(data_new[\"EaseofUse\"])"
   ]
  },
  {
   "cell_type": "markdown",
   "id": "a75e2b16",
   "metadata": {},
   "source": [
    "###### The outliers in EaseofUse also removed"
   ]
  },
  {
   "cell_type": "code",
   "execution_count": 81,
   "id": "3e1dbefe",
   "metadata": {},
   "outputs": [
    {
     "data": {
      "text/plain": [
       "(3621, 13)"
      ]
     },
     "execution_count": 81,
     "metadata": {},
     "output_type": "execute_result"
    }
   ],
   "source": [
    "data_new.shape"
   ]
  },
  {
   "cell_type": "code",
   "execution_count": 85,
   "id": "567983cc",
   "metadata": {},
   "outputs": [
    {
     "data": {
      "text/plain": [
       "(4648, 13)"
      ]
     },
     "execution_count": 85,
     "metadata": {},
     "output_type": "execute_result"
    }
   ],
   "source": [
    "drug_cymbalta.shape"
   ]
  },
  {
   "cell_type": "code",
   "execution_count": null,
   "id": "03156790",
   "metadata": {},
   "outputs": [],
   "source": []
  },
  {
   "cell_type": "markdown",
   "id": "23fd1f8b",
   "metadata": {},
   "source": [
    "## 3.Feature Engineering"
   ]
  },
  {
   "cell_type": "markdown",
   "id": "826e5f42",
   "metadata": {},
   "source": [
    "### Creating SideEffects column from Satisfaction column"
   ]
  },
  {
   "cell_type": "code",
   "execution_count": 86,
   "id": "da0ba24d",
   "metadata": {},
   "outputs": [],
   "source": [
    "data1=np.where(data_new['Satisfaction'] == 5.0, \"Nil\", data_new['Satisfaction'])\n",
    "data1=np.where(data_new['Satisfaction'] == 4.0, \"Mild\",data1)\n",
    "data1=np.where(data_new['Satisfaction'] == 3.0, \"Moderate\", data1)\n",
    "data1=np.where(data_new['Satisfaction'] == 2.0, \"Severe\", data1)\n",
    "data1=np.where(data_new['Satisfaction'] == 1.0, \"Extreme\",data1)"
   ]
  },
  {
   "cell_type": "code",
   "execution_count": 87,
   "id": "ec4c3e72",
   "metadata": {},
   "outputs": [],
   "source": [
    "data_new['SideEffects']=data1"
   ]
  },
  {
   "cell_type": "code",
   "execution_count": 88,
   "id": "22248cfe",
   "metadata": {},
   "outputs": [
    {
     "data": {
      "text/html": [
       "<div>\n",
       "<style scoped>\n",
       "    .dataframe tbody tr th:only-of-type {\n",
       "        vertical-align: middle;\n",
       "    }\n",
       "\n",
       "    .dataframe tbody tr th {\n",
       "        vertical-align: top;\n",
       "    }\n",
       "\n",
       "    .dataframe thead th {\n",
       "        text-align: right;\n",
       "    }\n",
       "</style>\n",
       "<table border=\"1\" class=\"dataframe\">\n",
       "  <thead>\n",
       "    <tr style=\"text-align: right;\">\n",
       "      <th></th>\n",
       "      <th>Age</th>\n",
       "      <th>Condition</th>\n",
       "      <th>Date</th>\n",
       "      <th>Drug</th>\n",
       "      <th>DrugId</th>\n",
       "      <th>EaseofUse</th>\n",
       "      <th>Effectiveness</th>\n",
       "      <th>Satisfaction</th>\n",
       "      <th>Sex</th>\n",
       "      <th>Sides</th>\n",
       "      <th>UsefulCount</th>\n",
       "      <th>name</th>\n",
       "      <th>race</th>\n",
       "      <th>SideEffects</th>\n",
       "    </tr>\n",
       "  </thead>\n",
       "  <tbody>\n",
       "    <tr>\n",
       "      <th>314216</th>\n",
       "      <td>45-54</td>\n",
       "      <td>Repeated Episodes of Anxiety</td>\n",
       "      <td>2020-01-13</td>\n",
       "      <td>cymbalta</td>\n",
       "      <td>91491</td>\n",
       "      <td>3</td>\n",
       "      <td>1</td>\n",
       "      <td>1</td>\n",
       "      <td>Male</td>\n",
       "      <td>Nausea ,  dry mouth ,  constipation , loss of ...</td>\n",
       "      <td>0</td>\n",
       "      <td>Elizabeth Perez</td>\n",
       "      <td>Caucasian</td>\n",
       "      <td>Extreme</td>\n",
       "    </tr>\n",
       "    <tr>\n",
       "      <th>314235</th>\n",
       "      <td>35-44</td>\n",
       "      <td>Anxiousness associated with Depression</td>\n",
       "      <td>2019-12-06</td>\n",
       "      <td>cymbalta</td>\n",
       "      <td>91491</td>\n",
       "      <td>3</td>\n",
       "      <td>3</td>\n",
       "      <td>2</td>\n",
       "      <td>Female</td>\n",
       "      <td>Nausea ,  dry mouth ,  constipation , loss of ...</td>\n",
       "      <td>0</td>\n",
       "      <td>Diana Griffin</td>\n",
       "      <td>Asian</td>\n",
       "      <td>Severe</td>\n",
       "    </tr>\n",
       "    <tr>\n",
       "      <th>314267</th>\n",
       "      <td>45-54</td>\n",
       "      <td>Chronic Muscle or Bone Pain</td>\n",
       "      <td>2019-11-09</td>\n",
       "      <td>cymbalta</td>\n",
       "      <td>91491</td>\n",
       "      <td>5</td>\n",
       "      <td>4</td>\n",
       "      <td>4</td>\n",
       "      <td>Female</td>\n",
       "      <td>Nausea ,  dry mouth ,  constipation , loss of ...</td>\n",
       "      <td>0</td>\n",
       "      <td>Colleen Wilcox</td>\n",
       "      <td>Hispanic</td>\n",
       "      <td>Mild</td>\n",
       "    </tr>\n",
       "    <tr>\n",
       "      <th>314305</th>\n",
       "      <td>55-64</td>\n",
       "      <td>Chronic Muscle or Bone Pain</td>\n",
       "      <td>2019-09-18</td>\n",
       "      <td>cymbalta</td>\n",
       "      <td>91491</td>\n",
       "      <td>5</td>\n",
       "      <td>4</td>\n",
       "      <td>4</td>\n",
       "      <td>Male</td>\n",
       "      <td>Nausea ,  dry mouth ,  constipation , loss of ...</td>\n",
       "      <td>0</td>\n",
       "      <td>Danielle Aguirre</td>\n",
       "      <td>African-American</td>\n",
       "      <td>Mild</td>\n",
       "    </tr>\n",
       "    <tr>\n",
       "      <th>314323</th>\n",
       "      <td>75-100</td>\n",
       "      <td>Chronic Muscle or Bone Pain</td>\n",
       "      <td>2019-08-13</td>\n",
       "      <td>cymbalta</td>\n",
       "      <td>91491</td>\n",
       "      <td>5</td>\n",
       "      <td>5</td>\n",
       "      <td>5</td>\n",
       "      <td>Female</td>\n",
       "      <td>Nausea ,  dry mouth ,  constipation , loss of ...</td>\n",
       "      <td>1</td>\n",
       "      <td>Jonathan Benson</td>\n",
       "      <td>Asian</td>\n",
       "      <td>Nil</td>\n",
       "    </tr>\n",
       "  </tbody>\n",
       "</table>\n",
       "</div>"
      ],
      "text/plain": [
       "           Age                               Condition       Date      Drug  \\\n",
       "314216   45-54            Repeated Episodes of Anxiety 2020-01-13  cymbalta   \n",
       "314235   35-44  Anxiousness associated with Depression 2019-12-06  cymbalta   \n",
       "314267   45-54             Chronic Muscle or Bone Pain 2019-11-09  cymbalta   \n",
       "314305   55-64             Chronic Muscle or Bone Pain 2019-09-18  cymbalta   \n",
       "314323  75-100             Chronic Muscle or Bone Pain 2019-08-13  cymbalta   \n",
       "\n",
       "        DrugId  EaseofUse  Effectiveness  Satisfaction     Sex  \\\n",
       "314216   91491          3              1             1    Male   \n",
       "314235   91491          3              3             2  Female   \n",
       "314267   91491          5              4             4  Female   \n",
       "314305   91491          5              4             4    Male   \n",
       "314323   91491          5              5             5  Female   \n",
       "\n",
       "                                                    Sides  UsefulCount  \\\n",
       "314216  Nausea ,  dry mouth ,  constipation , loss of ...            0   \n",
       "314235  Nausea ,  dry mouth ,  constipation , loss of ...            0   \n",
       "314267  Nausea ,  dry mouth ,  constipation , loss of ...            0   \n",
       "314305  Nausea ,  dry mouth ,  constipation , loss of ...            0   \n",
       "314323  Nausea ,  dry mouth ,  constipation , loss of ...            1   \n",
       "\n",
       "                    name              race SideEffects  \n",
       "314216   Elizabeth Perez         Caucasian     Extreme  \n",
       "314235     Diana Griffin             Asian      Severe  \n",
       "314267    Colleen Wilcox          Hispanic        Mild  \n",
       "314305  Danielle Aguirre  African-American        Mild  \n",
       "314323   Jonathan Benson             Asian         Nil  "
      ]
     },
     "execution_count": 88,
     "metadata": {},
     "output_type": "execute_result"
    }
   ],
   "source": [
    "data_new.head(5)"
   ]
  },
  {
   "cell_type": "markdown",
   "id": "5010b479",
   "metadata": {},
   "source": [
    "### Dropping DrugId,Satisfaction and Drug columns"
   ]
  },
  {
   "cell_type": "code",
   "execution_count": 89,
   "id": "0e9033d5",
   "metadata": {},
   "outputs": [],
   "source": [
    "data_new.drop(['Satisfaction','DrugId','Drug'], inplace=True, axis=1)"
   ]
  },
  {
   "cell_type": "code",
   "execution_count": 90,
   "id": "d935f67e",
   "metadata": {},
   "outputs": [
    {
     "data": {
      "text/html": [
       "<div>\n",
       "<style scoped>\n",
       "    .dataframe tbody tr th:only-of-type {\n",
       "        vertical-align: middle;\n",
       "    }\n",
       "\n",
       "    .dataframe tbody tr th {\n",
       "        vertical-align: top;\n",
       "    }\n",
       "\n",
       "    .dataframe thead th {\n",
       "        text-align: right;\n",
       "    }\n",
       "</style>\n",
       "<table border=\"1\" class=\"dataframe\">\n",
       "  <thead>\n",
       "    <tr style=\"text-align: right;\">\n",
       "      <th></th>\n",
       "      <th>Age</th>\n",
       "      <th>Condition</th>\n",
       "      <th>Date</th>\n",
       "      <th>EaseofUse</th>\n",
       "      <th>Effectiveness</th>\n",
       "      <th>Sex</th>\n",
       "      <th>Sides</th>\n",
       "      <th>UsefulCount</th>\n",
       "      <th>name</th>\n",
       "      <th>race</th>\n",
       "      <th>SideEffects</th>\n",
       "    </tr>\n",
       "  </thead>\n",
       "  <tbody>\n",
       "    <tr>\n",
       "      <th>314216</th>\n",
       "      <td>45-54</td>\n",
       "      <td>Repeated Episodes of Anxiety</td>\n",
       "      <td>2020-01-13</td>\n",
       "      <td>3</td>\n",
       "      <td>1</td>\n",
       "      <td>Male</td>\n",
       "      <td>Nausea ,  dry mouth ,  constipation , loss of ...</td>\n",
       "      <td>0</td>\n",
       "      <td>Elizabeth Perez</td>\n",
       "      <td>Caucasian</td>\n",
       "      <td>Extreme</td>\n",
       "    </tr>\n",
       "    <tr>\n",
       "      <th>314235</th>\n",
       "      <td>35-44</td>\n",
       "      <td>Anxiousness associated with Depression</td>\n",
       "      <td>2019-12-06</td>\n",
       "      <td>3</td>\n",
       "      <td>3</td>\n",
       "      <td>Female</td>\n",
       "      <td>Nausea ,  dry mouth ,  constipation , loss of ...</td>\n",
       "      <td>0</td>\n",
       "      <td>Diana Griffin</td>\n",
       "      <td>Asian</td>\n",
       "      <td>Severe</td>\n",
       "    </tr>\n",
       "    <tr>\n",
       "      <th>314267</th>\n",
       "      <td>45-54</td>\n",
       "      <td>Chronic Muscle or Bone Pain</td>\n",
       "      <td>2019-11-09</td>\n",
       "      <td>5</td>\n",
       "      <td>4</td>\n",
       "      <td>Female</td>\n",
       "      <td>Nausea ,  dry mouth ,  constipation , loss of ...</td>\n",
       "      <td>0</td>\n",
       "      <td>Colleen Wilcox</td>\n",
       "      <td>Hispanic</td>\n",
       "      <td>Mild</td>\n",
       "    </tr>\n",
       "    <tr>\n",
       "      <th>314305</th>\n",
       "      <td>55-64</td>\n",
       "      <td>Chronic Muscle or Bone Pain</td>\n",
       "      <td>2019-09-18</td>\n",
       "      <td>5</td>\n",
       "      <td>4</td>\n",
       "      <td>Male</td>\n",
       "      <td>Nausea ,  dry mouth ,  constipation , loss of ...</td>\n",
       "      <td>0</td>\n",
       "      <td>Danielle Aguirre</td>\n",
       "      <td>African-American</td>\n",
       "      <td>Mild</td>\n",
       "    </tr>\n",
       "    <tr>\n",
       "      <th>314323</th>\n",
       "      <td>75-100</td>\n",
       "      <td>Chronic Muscle or Bone Pain</td>\n",
       "      <td>2019-08-13</td>\n",
       "      <td>5</td>\n",
       "      <td>5</td>\n",
       "      <td>Female</td>\n",
       "      <td>Nausea ,  dry mouth ,  constipation , loss of ...</td>\n",
       "      <td>1</td>\n",
       "      <td>Jonathan Benson</td>\n",
       "      <td>Asian</td>\n",
       "      <td>Nil</td>\n",
       "    </tr>\n",
       "  </tbody>\n",
       "</table>\n",
       "</div>"
      ],
      "text/plain": [
       "           Age                               Condition       Date  EaseofUse  \\\n",
       "314216   45-54            Repeated Episodes of Anxiety 2020-01-13          3   \n",
       "314235   35-44  Anxiousness associated with Depression 2019-12-06          3   \n",
       "314267   45-54             Chronic Muscle or Bone Pain 2019-11-09          5   \n",
       "314305   55-64             Chronic Muscle or Bone Pain 2019-09-18          5   \n",
       "314323  75-100             Chronic Muscle or Bone Pain 2019-08-13          5   \n",
       "\n",
       "        Effectiveness     Sex  \\\n",
       "314216              1    Male   \n",
       "314235              3  Female   \n",
       "314267              4  Female   \n",
       "314305              4    Male   \n",
       "314323              5  Female   \n",
       "\n",
       "                                                    Sides  UsefulCount  \\\n",
       "314216  Nausea ,  dry mouth ,  constipation , loss of ...            0   \n",
       "314235  Nausea ,  dry mouth ,  constipation , loss of ...            0   \n",
       "314267  Nausea ,  dry mouth ,  constipation , loss of ...            0   \n",
       "314305  Nausea ,  dry mouth ,  constipation , loss of ...            0   \n",
       "314323  Nausea ,  dry mouth ,  constipation , loss of ...            1   \n",
       "\n",
       "                    name              race SideEffects  \n",
       "314216   Elizabeth Perez         Caucasian     Extreme  \n",
       "314235     Diana Griffin             Asian      Severe  \n",
       "314267    Colleen Wilcox          Hispanic        Mild  \n",
       "314305  Danielle Aguirre  African-American        Mild  \n",
       "314323   Jonathan Benson             Asian         Nil  "
      ]
     },
     "execution_count": 90,
     "metadata": {},
     "output_type": "execute_result"
    }
   ],
   "source": [
    "data_new.head(5)"
   ]
  },
  {
   "cell_type": "markdown",
   "id": "d5d7cab5",
   "metadata": {},
   "source": [
    "## 4. Feature Reduction"
   ]
  },
  {
   "cell_type": "markdown",
   "id": "27e0f9f1",
   "metadata": {},
   "source": [
    "### Sides column is dropped since it has same value.Columns Date,nameand UsefulCount are also dropped since it does not deal with drug side effects "
   ]
  },
  {
   "cell_type": "code",
   "execution_count": 91,
   "id": "cc68fdc1",
   "metadata": {},
   "outputs": [
    {
     "data": {
      "text/html": [
       "<div>\n",
       "<style scoped>\n",
       "    .dataframe tbody tr th:only-of-type {\n",
       "        vertical-align: middle;\n",
       "    }\n",
       "\n",
       "    .dataframe tbody tr th {\n",
       "        vertical-align: top;\n",
       "    }\n",
       "\n",
       "    .dataframe thead th {\n",
       "        text-align: right;\n",
       "    }\n",
       "</style>\n",
       "<table border=\"1\" class=\"dataframe\">\n",
       "  <thead>\n",
       "    <tr style=\"text-align: right;\">\n",
       "      <th></th>\n",
       "      <th>Age</th>\n",
       "      <th>Condition</th>\n",
       "      <th>EaseofUse</th>\n",
       "      <th>Effectiveness</th>\n",
       "      <th>Sex</th>\n",
       "      <th>race</th>\n",
       "      <th>SideEffects</th>\n",
       "    </tr>\n",
       "  </thead>\n",
       "  <tbody>\n",
       "    <tr>\n",
       "      <th>0</th>\n",
       "      <td>45-54</td>\n",
       "      <td>Repeated Episodes of Anxiety</td>\n",
       "      <td>3</td>\n",
       "      <td>1</td>\n",
       "      <td>Male</td>\n",
       "      <td>Caucasian</td>\n",
       "      <td>Extreme</td>\n",
       "    </tr>\n",
       "    <tr>\n",
       "      <th>1</th>\n",
       "      <td>35-44</td>\n",
       "      <td>Anxiousness associated with Depression</td>\n",
       "      <td>3</td>\n",
       "      <td>3</td>\n",
       "      <td>Female</td>\n",
       "      <td>Asian</td>\n",
       "      <td>Severe</td>\n",
       "    </tr>\n",
       "    <tr>\n",
       "      <th>2</th>\n",
       "      <td>45-54</td>\n",
       "      <td>Chronic Muscle or Bone Pain</td>\n",
       "      <td>5</td>\n",
       "      <td>4</td>\n",
       "      <td>Female</td>\n",
       "      <td>Hispanic</td>\n",
       "      <td>Mild</td>\n",
       "    </tr>\n",
       "    <tr>\n",
       "      <th>3</th>\n",
       "      <td>55-64</td>\n",
       "      <td>Chronic Muscle or Bone Pain</td>\n",
       "      <td>5</td>\n",
       "      <td>4</td>\n",
       "      <td>Male</td>\n",
       "      <td>African-American</td>\n",
       "      <td>Mild</td>\n",
       "    </tr>\n",
       "    <tr>\n",
       "      <th>4</th>\n",
       "      <td>75-100</td>\n",
       "      <td>Chronic Muscle or Bone Pain</td>\n",
       "      <td>5</td>\n",
       "      <td>5</td>\n",
       "      <td>Female</td>\n",
       "      <td>Asian</td>\n",
       "      <td>Nil</td>\n",
       "    </tr>\n",
       "  </tbody>\n",
       "</table>\n",
       "</div>"
      ],
      "text/plain": [
       "      Age                               Condition  EaseofUse  Effectiveness  \\\n",
       "0   45-54            Repeated Episodes of Anxiety          3              1   \n",
       "1   35-44  Anxiousness associated with Depression          3              3   \n",
       "2   45-54             Chronic Muscle or Bone Pain          5              4   \n",
       "3   55-64             Chronic Muscle or Bone Pain          5              4   \n",
       "4  75-100             Chronic Muscle or Bone Pain          5              5   \n",
       "\n",
       "      Sex              race SideEffects  \n",
       "0    Male         Caucasian     Extreme  \n",
       "1  Female             Asian      Severe  \n",
       "2  Female          Hispanic        Mild  \n",
       "3    Male  African-American        Mild  \n",
       "4  Female             Asian         Nil  "
      ]
     },
     "execution_count": 91,
     "metadata": {},
     "output_type": "execute_result"
    }
   ],
   "source": [
    "data_new=data_new.drop(columns = ['name','Date','Sides','UsefulCount'],axis=1)\n",
    "data_new=data_new.reset_index(drop=True)\n",
    "data_new.head()"
   ]
  },
  {
   "cell_type": "markdown",
   "id": "f5007de4",
   "metadata": {},
   "source": [
    "## 5. Encoding"
   ]
  },
  {
   "cell_type": "markdown",
   "id": "0bb23586",
   "metadata": {},
   "source": [
    "### Label Encoding of Categorical Columns"
   ]
  },
  {
   "cell_type": "code",
   "execution_count": 92,
   "id": "975d754f",
   "metadata": {},
   "outputs": [
    {
     "data": {
      "text/html": [
       "<div>\n",
       "<style scoped>\n",
       "    .dataframe tbody tr th:only-of-type {\n",
       "        vertical-align: middle;\n",
       "    }\n",
       "\n",
       "    .dataframe tbody tr th {\n",
       "        vertical-align: top;\n",
       "    }\n",
       "\n",
       "    .dataframe thead th {\n",
       "        text-align: right;\n",
       "    }\n",
       "</style>\n",
       "<table border=\"1\" class=\"dataframe\">\n",
       "  <thead>\n",
       "    <tr style=\"text-align: right;\">\n",
       "      <th></th>\n",
       "      <th>Age</th>\n",
       "      <th>Condition</th>\n",
       "      <th>EaseofUse</th>\n",
       "      <th>Effectiveness</th>\n",
       "      <th>Sex</th>\n",
       "      <th>race</th>\n",
       "      <th>SideEffects</th>\n",
       "    </tr>\n",
       "  </thead>\n",
       "  <tbody>\n",
       "    <tr>\n",
       "      <th>0</th>\n",
       "      <td>6</td>\n",
       "      <td>7</td>\n",
       "      <td>3</td>\n",
       "      <td>1</td>\n",
       "      <td>1</td>\n",
       "      <td>2</td>\n",
       "      <td>Extreme</td>\n",
       "    </tr>\n",
       "    <tr>\n",
       "      <th>1</th>\n",
       "      <td>5</td>\n",
       "      <td>0</td>\n",
       "      <td>3</td>\n",
       "      <td>3</td>\n",
       "      <td>0</td>\n",
       "      <td>1</td>\n",
       "      <td>Severe</td>\n",
       "    </tr>\n",
       "    <tr>\n",
       "      <th>2</th>\n",
       "      <td>6</td>\n",
       "      <td>1</td>\n",
       "      <td>5</td>\n",
       "      <td>4</td>\n",
       "      <td>0</td>\n",
       "      <td>3</td>\n",
       "      <td>Mild</td>\n",
       "    </tr>\n",
       "    <tr>\n",
       "      <th>3</th>\n",
       "      <td>7</td>\n",
       "      <td>1</td>\n",
       "      <td>5</td>\n",
       "      <td>4</td>\n",
       "      <td>1</td>\n",
       "      <td>0</td>\n",
       "      <td>Mild</td>\n",
       "    </tr>\n",
       "    <tr>\n",
       "      <th>4</th>\n",
       "      <td>9</td>\n",
       "      <td>1</td>\n",
       "      <td>5</td>\n",
       "      <td>5</td>\n",
       "      <td>0</td>\n",
       "      <td>1</td>\n",
       "      <td>Nil</td>\n",
       "    </tr>\n",
       "  </tbody>\n",
       "</table>\n",
       "</div>"
      ],
      "text/plain": [
       "   Age  Condition  EaseofUse  Effectiveness  Sex  race SideEffects\n",
       "0    6          7          3              1    1     2     Extreme\n",
       "1    5          0          3              3    0     1      Severe\n",
       "2    6          1          5              4    0     3        Mild\n",
       "3    7          1          5              4    1     0        Mild\n",
       "4    9          1          5              5    0     1         Nil"
      ]
     },
     "execution_count": 92,
     "metadata": {},
     "output_type": "execute_result"
    }
   ],
   "source": [
    "# Here the categorical columns are race,Age,Condition,Sex and SideEffects\n",
    "data_new_cymbalta=data_new\n",
    "from sklearn.preprocessing import LabelEncoder\n",
    "le=LabelEncoder()\n",
    "for col in ['race','Age','Sex','Condition']:   \n",
    "    data_new[col]=le.fit_transform((data_new[col]).astype(str))\n",
    "    \n",
    "data_label=data_new\n",
    "data_new.head()\n",
    "\n"
   ]
  },
  {
   "cell_type": "markdown",
   "id": "69bde9be",
   "metadata": {},
   "source": [
    "### No need for doing Scaling since there is no continuous numeric columns"
   ]
  },
  {
   "cell_type": "markdown",
   "id": "154573ab",
   "metadata": {},
   "source": [
    "# Data Visualization on Cleaned Data"
   ]
  },
  {
   "cell_type": "markdown",
   "id": "a5144fbf",
   "metadata": {},
   "source": [
    "#### Effectiveness-Cymbalta "
   ]
  },
  {
   "cell_type": "code",
   "execution_count": 93,
   "id": "e9eac98d",
   "metadata": {},
   "outputs": [
    {
     "data": {
      "text/plain": [
       "Text(0, 0.5, 'Count')"
      ]
     },
     "execution_count": 93,
     "metadata": {},
     "output_type": "execute_result"
    },
    {
     "data": {
      "image/png": "[encoded data removed]",
      "text/plain": [
       "<Figure size 432x288 with 1 Axes>"
      ]
     },
     "metadata": {
      "needs_background": "light"
     },
     "output_type": "display_data"
    }
   ],
   "source": [
    "data_new_cymbalta['Effectiveness'].value_counts().plot(kind='bar')\n",
    "plt.title(\"Effectiveness\", fontsize = 10)\n",
    "plt.xlabel(\"Effectiveness\", fontsize = 10)\n",
    "plt.ylabel(\"Count\", fontsize = 10)"
   ]
  },
  {
   "cell_type": "markdown",
   "id": "1ba952e9",
   "metadata": {},
   "source": [
    "#### Ease of Use- Cymbalta"
   ]
  },
  {
   "cell_type": "code",
   "execution_count": 94,
   "id": "063dfe17",
   "metadata": {},
   "outputs": [
    {
     "data": {
      "text/plain": [
       "Text(0, 0.5, 'Count')"
      ]
     },
     "execution_count": 94,
     "metadata": {},
     "output_type": "execute_result"
    },
    {
     "data": {
      "image/png": "[encoded data removed]",
      "text/plain": [
       "<Figure size 432x288 with 1 Axes>"
      ]
     },
     "metadata": {
      "needs_background": "light"
     },
     "output_type": "display_data"
    }
   ],
   "source": [
    "data_new_cymbalta['EaseofUse'].value_counts().plot(kind='bar')\n",
    "plt.title(\"Ease of use\", fontsize = 10)\n",
    "plt.xlabel(\"EaseofUse\", fontsize = 10)\n",
    "plt.ylabel(\"Count\", fontsize = 10)"
   ]
  },
  {
   "cell_type": "markdown",
   "id": "3471f7c4",
   "metadata": {},
   "source": [
    "#### Users by Effectiveness and gender- Cymbalta"
   ]
  },
  {
   "cell_type": "code",
   "execution_count": 95,
   "id": "220e36e3",
   "metadata": {},
   "outputs": [
    {
     "data": {
      "text/plain": [
       "<Figure size 720x576 with 0 Axes>"
      ]
     },
     "metadata": {},
     "output_type": "display_data"
    },
    {
     "data": {
      "image/png": "[encoded data removed]",
      "text/plain": [
       "<Figure size 777.6x432 with 2 Axes>"
      ]
     },
     "metadata": {
      "needs_background": "light"
     },
     "output_type": "display_data"
    }
   ],
   "source": [
    "plt.figure(figsize=(10,8))\n",
    "g = sns.catplot(x=\"Effectiveness\",col=\"Sex\",\n",
    "                data=data_new_cymbalta, kind=\"count\",\n",
    "                height=6,aspect =.9);"
   ]
  },
  {
   "cell_type": "markdown",
   "id": "80fce572",
   "metadata": {},
   "source": [
    "#### Side Effects- Cymbalta"
   ]
  },
  {
   "cell_type": "code",
   "execution_count": 96,
   "id": "78c39100",
   "metadata": {},
   "outputs": [
    {
     "data": {
      "image/png": "[encoded data removed]",
      "text/plain": [
       "<Figure size 432x432 with 1 Axes>"
      ]
     },
     "metadata": {},
     "output_type": "display_data"
    }
   ],
   "source": [
    "plt.figure(figsize=(6,6))\n",
    "data_new_cymbalta['SideEffects'].value_counts().plot.pie(autopct='%1.1f%%',shadow=True)\n",
    "plt.show()"
   ]
  },
  {
   "cell_type": "markdown",
   "id": "b659900f",
   "metadata": {},
   "source": [
    "#### Side Effects and Age"
   ]
  },
  {
   "cell_type": "code",
   "execution_count": 97,
   "id": "afddf792",
   "metadata": {},
   "outputs": [
    {
     "data": {
      "text/plain": [
       "<AxesSubplot:xlabel='Age', ylabel='count'>"
      ]
     },
     "execution_count": 97,
     "metadata": {},
     "output_type": "execute_result"
    },
    {
     "data": {
      "image/png": "[encoded data removed]",
      "text/plain": [
       "<Figure size 720x432 with 1 Axes>"
      ]
     },
     "metadata": {
      "needs_background": "light"
     },
     "output_type": "display_data"
    }
   ],
   "source": [
    "plt.figure(figsize=(10, 6))\n",
    "sns.countplot(x='Age',hue='SideEffects',data=data_new_cymbalta)"
   ]
  },
  {
   "cell_type": "markdown",
   "id": "4fa98340",
   "metadata": {},
   "source": [
    "#### Side Effects and Gender- Cymbalta"
   ]
  },
  {
   "cell_type": "code",
   "execution_count": 98,
   "id": "97abd6a8",
   "metadata": {},
   "outputs": [
    {
     "data": {
      "text/plain": [
       "<Figure size 1440x720 with 0 Axes>"
      ]
     },
     "metadata": {},
     "output_type": "display_data"
    },
    {
     "data": {
      "image/png": "[encoded data removed]",
      "text/plain": [
       "<Figure size 777.6x432 with 2 Axes>"
      ]
     },
     "metadata": {
      "needs_background": "light"
     },
     "output_type": "display_data"
    }
   ],
   "source": [
    "plt.figure(figsize=(20,10))\n",
    "\n",
    "g = sns.catplot(x=\"SideEffects\",col=\"Sex\",data=data_new_cymbalta, kind=\"count\",height=6,aspect =.9);"
   ]
  },
  {
   "cell_type": "markdown",
   "id": "fb37eb00",
   "metadata": {},
   "source": [
    "#### Side Effects and Race- Cymbalta"
   ]
  },
  {
   "cell_type": "code",
   "execution_count": 99,
   "id": "4c512c91",
   "metadata": {},
   "outputs": [
    {
     "data": {
      "text/plain": [
       "<AxesSubplot:xlabel='race', ylabel='count'>"
      ]
     },
     "execution_count": 99,
     "metadata": {},
     "output_type": "execute_result"
    },
    {
     "data": {
      "image/png": "[encoded data removed]",
      "text/plain": [
       "<Figure size 720x432 with 1 Axes>"
      ]
     },
     "metadata": {
      "needs_background": "light"
     },
     "output_type": "display_data"
    }
   ],
   "source": [
    "plt.figure(figsize=(10, 6))\n",
    "sns.countplot(x='race',hue='SideEffects',data=data_new_cymbalta)"
   ]
  },
  {
   "cell_type": "markdown",
   "id": "ce1381a9",
   "metadata": {},
   "source": [
    "# Splitting the Data"
   ]
  },
  {
   "cell_type": "code",
   "execution_count": 100,
   "id": "18446ac0",
   "metadata": {},
   "outputs": [
    {
     "data": {
      "text/plain": [
       "(3621,)"
      ]
     },
     "execution_count": 100,
     "metadata": {},
     "output_type": "execute_result"
    }
   ],
   "source": [
    "# target is Sideeffects column\n",
    "y = data_new['SideEffects']\n",
    "y.shape"
   ]
  },
  {
   "cell_type": "code",
   "execution_count": 101,
   "id": "5ade7152",
   "metadata": {},
   "outputs": [],
   "source": [
    "X = data_new.drop(['SideEffects'],axis=1)"
   ]
  },
  {
   "cell_type": "code",
   "execution_count": 102,
   "id": "cb4501fd",
   "metadata": {},
   "outputs": [
    {
     "data": {
      "text/plain": [
       "(3621, 6)"
      ]
     },
     "execution_count": 102,
     "metadata": {},
     "output_type": "execute_result"
    }
   ],
   "source": [
    "X.shape"
   ]
  },
  {
   "cell_type": "markdown",
   "id": "3ef0620a",
   "metadata": {},
   "source": [
    "# Splitting the Data into Test and Train data"
   ]
  },
  {
   "cell_type": "code",
   "execution_count": 103,
   "id": "43463ca0",
   "metadata": {},
   "outputs": [],
   "source": [
    "from sklearn.model_selection import train_test_split\n",
    "X_train,X_test,y_train,y_test = train_test_split(X,y, random_state=42,test_size=0.2)"
   ]
  },
  {
   "cell_type": "markdown",
   "id": "2e7cb89d",
   "metadata": {},
   "source": [
    "# Model Selection"
   ]
  },
  {
   "cell_type": "markdown",
   "id": "3d477316",
   "metadata": {},
   "source": [
    "##  1.Logistic Regression"
   ]
  },
  {
   "cell_type": "code",
   "execution_count": 104,
   "id": "980edad9",
   "metadata": {},
   "outputs": [],
   "source": [
    "from sklearn.linear_model import LogisticRegression\n",
    "logit_model = LogisticRegression(multi_class='multinomial')\n",
    "logit_model.fit(X_train, y_train)\n",
    "y_pred = logit_model.predict(X_test)"
   ]
  },
  {
   "cell_type": "code",
   "execution_count": 105,
   "id": "3ad481b2",
   "metadata": {},
   "outputs": [],
   "source": [
    "from sklearn.metrics import confusion_matrix, accuracy_score, precision_score,recall_score,f1_score,classification_report"
   ]
  },
  {
   "cell_type": "markdown",
   "id": "1907a287",
   "metadata": {},
   "source": [
    "### Perfomance Evaluation"
   ]
  },
  {
   "cell_type": "code",
   "execution_count": 107,
   "id": "05fed4dd",
   "metadata": {},
   "outputs": [
    {
     "name": "stdout",
     "output_type": "stream",
     "text": [
      "Accuracy is :  65.93103448275862\n"
     ]
    }
   ],
   "source": [
    "print(\"Accuracy is : \", accuracy_score(y_test, y_pred)*100)"
   ]
  },
  {
   "cell_type": "markdown",
   "id": "f6de5549",
   "metadata": {},
   "source": [
    "## 2. K-Nearest Neighbours Model"
   ]
  },
  {
   "cell_type": "code",
   "execution_count": 108,
   "id": "e0b356ce",
   "metadata": {},
   "outputs": [],
   "source": [
    "from sklearn.neighbors import KNeighborsClassifier"
   ]
  },
  {
   "cell_type": "code",
   "execution_count": 109,
   "id": "668ec753",
   "metadata": {},
   "outputs": [],
   "source": [
    "acc_values = []\n",
    "neighbors = np.arange(3,15)\n",
    "\n",
    "# creating a loop to create KNN model for each K value\n",
    "for k in neighbors:\n",
    "#taking the instance of KNN to a variable.the variable name is classifier.\n",
    "    classifier = KNeighborsClassifier(n_neighbors= k, metric = 'minkowski')    #no: of neighbors n the methode to measure the distance .instance is created\n",
    "#we have to create the model.\n",
    "    classifier = KNeighborsClassifier(n_neighbors= k)\n",
    "    classifier.fit(X_train,y_train)\n",
    "#have to predict output using this model.\n",
    "    y_pred = classifier.predict(X_test)#KNN is created\n",
    "#append the accurcy values to empty list in order to fing out maximum accuracy.\n",
    "    acc = accuracy_score(y_test, y_pred)#taking accuracy values to variable acc \n",
    "#append these accuracy values to our list\n",
    "    acc_values.append(acc)"
   ]
  },
  {
   "cell_type": "markdown",
   "id": "1bb16d98",
   "metadata": {},
   "source": [
    "### Graph between neighbor values (i.e. k values) and accuracy values"
   ]
  },
  {
   "cell_type": "code",
   "execution_count": 110,
   "id": "64acb256",
   "metadata": {},
   "outputs": [
    {
     "data": {
      "text/plain": [
       "Text(0, 0.5, 'accuracy')"
      ]
     },
     "execution_count": 110,
     "metadata": {},
     "output_type": "execute_result"
    },
    {
     "data": {
      "image/png": "[encoded data removed]",
      "text/plain": [
       "<Figure size 432x288 with 1 Axes>"
      ]
     },
     "metadata": {
      "needs_background": "light"
     },
     "output_type": "display_data"
    }
   ],
   "source": [
    "plt.plot(neighbors,acc_values,'o-')\n",
    "plt.xlabel('k value')\n",
    "plt.ylabel('accuracy')"
   ]
  },
  {
   "cell_type": "code",
   "execution_count": 111,
   "id": "ff80b266",
   "metadata": {},
   "outputs": [],
   "source": [
    "# Here k=14 has high accuracy\n",
    "classifier = KNeighborsClassifier(n_neighbors= 14, metric = 'minkowski')\n",
    "classifier.fit(X_train,y_train)\n",
    "y_pred = classifier.predict(X_test)"
   ]
  },
  {
   "cell_type": "markdown",
   "id": "963411ea",
   "metadata": {},
   "source": [
    "### Perfomance Evaluation"
   ]
  },
  {
   "cell_type": "code",
   "execution_count": 112,
   "id": "b0bf9ffc",
   "metadata": {},
   "outputs": [
    {
     "name": "stdout",
     "output_type": "stream",
     "text": [
      "Accuracy is :  64.6896551724138\n"
     ]
    }
   ],
   "source": [
    "print(\"Accuracy is : \", accuracy_score(y_test, y_pred)*100)"
   ]
  },
  {
   "cell_type": "markdown",
   "id": "0e1316fd",
   "metadata": {},
   "source": [
    "## 3.Decision Tree "
   ]
  },
  {
   "cell_type": "code",
   "execution_count": 113,
   "id": "21fdf06a",
   "metadata": {},
   "outputs": [],
   "source": [
    "from sklearn.tree import DecisionTreeClassifier\n",
    "dt = DecisionTreeClassifier()\n",
    "dt.fit(X_train,y_train)\n",
    "y_pred = dt.predict(X_test)"
   ]
  },
  {
   "cell_type": "code",
   "execution_count": 114,
   "id": "cf1d06d2",
   "metadata": {},
   "outputs": [
    {
     "name": "stdout",
     "output_type": "stream",
     "text": [
      "Accuracy is :  55.86206896551724\n"
     ]
    }
   ],
   "source": [
    "print(\"Accuracy is : \", accuracy_score(y_test, y_pred)*100)"
   ]
  },
  {
   "cell_type": "markdown",
   "id": "6bd94854",
   "metadata": {},
   "source": [
    "## 4.Random Forest"
   ]
  },
  {
   "cell_type": "code",
   "execution_count": 115,
   "id": "4c6fb92b",
   "metadata": {},
   "outputs": [],
   "source": [
    "from sklearn.ensemble import RandomForestClassifier\n",
    "rf=RandomForestClassifier()\n",
    "rf.fit(X_train,y_train)\n",
    "y_pred=rf.predict(X_test)"
   ]
  },
  {
   "cell_type": "code",
   "execution_count": 116,
   "id": "b78e2062",
   "metadata": {},
   "outputs": [
    {
     "name": "stdout",
     "output_type": "stream",
     "text": [
      "Accuracy is :  59.03448275862069\n"
     ]
    }
   ],
   "source": [
    "print(\"Accuracy is : \", accuracy_score(y_test, y_pred)*100)"
   ]
  },
  {
   "cell_type": "markdown",
   "id": "dc0393f8",
   "metadata": {},
   "source": [
    "## 5.Support Vector Machine"
   ]
  },
  {
   "cell_type": "markdown",
   "id": "55f334ce",
   "metadata": {},
   "source": [
    "### (i)Linear SVM"
   ]
  },
  {
   "cell_type": "code",
   "execution_count": 117,
   "id": "18090b32",
   "metadata": {},
   "outputs": [],
   "source": [
    "from sklearn.svm import SVC\n",
    "svm_linear = SVC(kernel = 'linear')\n",
    "svm_linear.fit(X_train,y_train)\n",
    "y_pred = svm_linear.predict(X_test)"
   ]
  },
  {
   "cell_type": "code",
   "execution_count": 118,
   "id": "d1184a16",
   "metadata": {},
   "outputs": [
    {
     "name": "stdout",
     "output_type": "stream",
     "text": [
      "Accuracy is :  67.72413793103448\n"
     ]
    }
   ],
   "source": [
    "print(\"Accuracy is : \", accuracy_score(y_test, y_pred)*100)"
   ]
  },
  {
   "cell_type": "markdown",
   "id": "9f1de1ec",
   "metadata": {},
   "source": [
    "### (ii)Polynomial SVM"
   ]
  },
  {
   "cell_type": "code",
   "execution_count": 119,
   "id": "8099742b",
   "metadata": {},
   "outputs": [],
   "source": [
    "svm_polynomial = SVC(kernel = 'poly', degree=3)\n",
    "svm_polynomial.fit(X_train,y_train)\n",
    "y_pred = svm_polynomial.predict(X_test)"
   ]
  },
  {
   "cell_type": "code",
   "execution_count": 120,
   "id": "345bc39d",
   "metadata": {},
   "outputs": [
    {
     "name": "stdout",
     "output_type": "stream",
     "text": [
      "Accuracy is :  67.17241379310344\n"
     ]
    }
   ],
   "source": [
    "print(\"Accuracy is : \", accuracy_score(y_test, y_pred)*100)"
   ]
  },
  {
   "cell_type": "markdown",
   "id": "25221cd0",
   "metadata": {},
   "source": [
    "### (iii)Radial SVM"
   ]
  },
  {
   "cell_type": "code",
   "execution_count": 121,
   "id": "17d00f4c",
   "metadata": {},
   "outputs": [],
   "source": [
    "svm_radial = SVC(kernel='rbf')\n",
    "svm_radial.fit(X_train,y_train)\n",
    "y_pred=svm_radial.predict(X_test)"
   ]
  },
  {
   "cell_type": "code",
   "execution_count": 122,
   "id": "fea1a46e",
   "metadata": {},
   "outputs": [
    {
     "name": "stdout",
     "output_type": "stream",
     "text": [
      "Accuracy is :  67.0344827586207\n"
     ]
    }
   ],
   "source": [
    "print(\"Accuracy is : \", accuracy_score(y_test, y_pred)*100)"
   ]
  },
  {
   "cell_type": "markdown",
   "id": "a32e0517",
   "metadata": {},
   "source": [
    "## 6.Bernoulli Naive Bayes"
   ]
  },
  {
   "cell_type": "code",
   "execution_count": 124,
   "id": "933e55f0",
   "metadata": {},
   "outputs": [],
   "source": [
    "from sklearn.naive_bayes import BernoulliNB\n",
    "BNB=BernoulliNB()\n",
    "BNB.fit(X_train,y_train)\n",
    "y_bnb=BNB.predict(X_test)"
   ]
  },
  {
   "cell_type": "code",
   "execution_count": 125,
   "id": "3f6f6f94",
   "metadata": {},
   "outputs": [
    {
     "name": "stdout",
     "output_type": "stream",
     "text": [
      "accuracy is 0.3296551724137931\n"
     ]
    }
   ],
   "source": [
    "print(\"accuracy is\",accuracy_score(y_test,y_bnb))\n"
   ]
  },
  {
   "cell_type": "markdown",
   "id": "71d82752",
   "metadata": {},
   "source": [
    "## 7.CatBoost Classifier"
   ]
  },
  {
   "cell_type": "code",
   "execution_count": 134,
   "id": "7960e5be",
   "metadata": {},
   "outputs": [
    {
     "name": "stdout",
     "output_type": "stream",
     "text": [
      "Learning rate set to 0.083536\n",
      "0:\tlearn: 1.4963592\ttotal: 3.28ms\tremaining: 3.28s\n",
      "1:\tlearn: 1.4045475\ttotal: 6.46ms\tremaining: 3.22s\n",
      "2:\tlearn: 1.3387469\ttotal: 9.45ms\tremaining: 3.14s\n",
      "3:\tlearn: 1.2831756\ttotal: 11.9ms\tremaining: 2.95s\n",
      "4:\tlearn: 1.2381996\ttotal: 15.1ms\tremaining: 3.01s\n",
      "5:\tlearn: 1.1976950\ttotal: 18.8ms\tremaining: 3.11s\n",
      "6:\tlearn: 1.1637278\ttotal: 22.2ms\tremaining: 3.15s\n",
      "7:\tlearn: 1.1365083\ttotal: 25.4ms\tremaining: 3.15s\n",
      "8:\tlearn: 1.1091857\ttotal: 28.6ms\tremaining: 3.15s\n",
      "9:\tlearn: 1.0879971\ttotal: 31.8ms\tremaining: 3.15s\n",
      "10:\tlearn: 1.0685494\ttotal: 34.9ms\tremaining: 3.13s\n",
      "11:\tlearn: 1.0547901\ttotal: 38.2ms\tremaining: 3.15s\n",
      "12:\tlearn: 1.0423342\ttotal: 41.3ms\tremaining: 3.13s\n",
      "13:\tlearn: 1.0306438\ttotal: 44.1ms\tremaining: 3.11s\n",
      "14:\tlearn: 1.0167084\ttotal: 47.1ms\tremaining: 3.09s\n",
      "15:\tlearn: 1.0054301\ttotal: 50.2ms\tremaining: 3.09s\n",
      "16:\tlearn: 0.9967064\ttotal: 53.6ms\tremaining: 3.1s\n",
      "17:\tlearn: 0.9874848\ttotal: 56.8ms\tremaining: 3.1s\n",
      "18:\tlearn: 0.9791983\ttotal: 62.4ms\tremaining: 3.22s\n",
      "19:\tlearn: 0.9731044\ttotal: 65.9ms\tremaining: 3.23s\n",
      "20:\tlearn: 0.9672102\ttotal: 69.8ms\tremaining: 3.25s\n",
      "21:\tlearn: 0.9603610\ttotal: 72.3ms\tremaining: 3.21s\n",
      "22:\tlearn: 0.9548471\ttotal: 74.7ms\tremaining: 3.17s\n",
      "23:\tlearn: 0.9503044\ttotal: 76.6ms\tremaining: 3.11s\n",
      "24:\tlearn: 0.9463113\ttotal: 79.3ms\tremaining: 3.09s\n",
      "25:\tlearn: 0.9414202\ttotal: 83.5ms\tremaining: 3.13s\n",
      "26:\tlearn: 0.9372470\ttotal: 86.2ms\tremaining: 3.1s\n",
      "27:\tlearn: 0.9337361\ttotal: 88.7ms\tremaining: 3.08s\n",
      "28:\tlearn: 0.9301663\ttotal: 91.4ms\tremaining: 3.06s\n",
      "29:\tlearn: 0.9264378\ttotal: 94.2ms\tremaining: 3.05s\n",
      "30:\tlearn: 0.9234760\ttotal: 97.2ms\tremaining: 3.04s\n",
      "31:\tlearn: 0.9212779\ttotal: 100ms\tremaining: 3.03s\n",
      "32:\tlearn: 0.9197439\ttotal: 102ms\tremaining: 3s\n",
      "33:\tlearn: 0.9177463\ttotal: 105ms\tremaining: 2.98s\n",
      "34:\tlearn: 0.9149158\ttotal: 108ms\tremaining: 2.96s\n",
      "35:\tlearn: 0.9123314\ttotal: 112ms\tremaining: 3s\n",
      "36:\tlearn: 0.9104475\ttotal: 115ms\tremaining: 2.98s\n",
      "37:\tlearn: 0.9080094\ttotal: 118ms\tremaining: 2.98s\n",
      "38:\tlearn: 0.9063025\ttotal: 120ms\tremaining: 2.96s\n",
      "39:\tlearn: 0.9048770\ttotal: 123ms\tremaining: 2.94s\n",
      "40:\tlearn: 0.9022203\ttotal: 125ms\tremaining: 2.93s\n",
      "41:\tlearn: 0.9005289\ttotal: 128ms\tremaining: 2.91s\n",
      "42:\tlearn: 0.8983072\ttotal: 130ms\tremaining: 2.9s\n",
      "43:\tlearn: 0.8961652\ttotal: 133ms\tremaining: 2.89s\n",
      "44:\tlearn: 0.8942864\ttotal: 135ms\tremaining: 2.87s\n",
      "45:\tlearn: 0.8922119\ttotal: 138ms\tremaining: 2.86s\n",
      "46:\tlearn: 0.8911101\ttotal: 140ms\tremaining: 2.85s\n",
      "47:\tlearn: 0.8895646\ttotal: 143ms\tremaining: 2.84s\n",
      "48:\tlearn: 0.8888355\ttotal: 145ms\tremaining: 2.81s\n",
      "49:\tlearn: 0.8880513\ttotal: 148ms\tremaining: 2.8s\n",
      "50:\tlearn: 0.8857880\ttotal: 150ms\tremaining: 2.8s\n",
      "51:\tlearn: 0.8843336\ttotal: 153ms\tremaining: 2.79s\n",
      "52:\tlearn: 0.8820038\ttotal: 155ms\tremaining: 2.78s\n",
      "53:\tlearn: 0.8806433\ttotal: 158ms\tremaining: 2.77s\n",
      "54:\tlearn: 0.8790344\ttotal: 161ms\tremaining: 2.76s\n",
      "55:\tlearn: 0.8774227\ttotal: 163ms\tremaining: 2.75s\n",
      "56:\tlearn: 0.8754775\ttotal: 166ms\tremaining: 2.75s\n",
      "57:\tlearn: 0.8737906\ttotal: 171ms\tremaining: 2.78s\n",
      "58:\tlearn: 0.8736007\ttotal: 174ms\tremaining: 2.77s\n",
      "59:\tlearn: 0.8727387\ttotal: 177ms\tremaining: 2.77s\n",
      "60:\tlearn: 0.8709516\ttotal: 180ms\tremaining: 2.77s\n",
      "61:\tlearn: 0.8707797\ttotal: 183ms\tremaining: 2.76s\n",
      "62:\tlearn: 0.8691594\ttotal: 186ms\tremaining: 2.77s\n",
      "63:\tlearn: 0.8679332\ttotal: 190ms\tremaining: 2.78s\n",
      "64:\tlearn: 0.8668666\ttotal: 193ms\tremaining: 2.77s\n",
      "65:\tlearn: 0.8653811\ttotal: 195ms\tremaining: 2.76s\n",
      "66:\tlearn: 0.8646581\ttotal: 198ms\tremaining: 2.75s\n",
      "67:\tlearn: 0.8632223\ttotal: 200ms\tremaining: 2.75s\n",
      "68:\tlearn: 0.8626486\ttotal: 203ms\tremaining: 2.73s\n",
      "69:\tlearn: 0.8612699\ttotal: 205ms\tremaining: 2.73s\n",
      "70:\tlearn: 0.8604295\ttotal: 208ms\tremaining: 2.72s\n",
      "71:\tlearn: 0.8601291\ttotal: 210ms\tremaining: 2.71s\n",
      "72:\tlearn: 0.8590218\ttotal: 213ms\tremaining: 2.7s\n",
      "73:\tlearn: 0.8580541\ttotal: 215ms\tremaining: 2.69s\n",
      "74:\tlearn: 0.8572490\ttotal: 218ms\tremaining: 2.68s\n",
      "75:\tlearn: 0.8555090\ttotal: 220ms\tremaining: 2.68s\n",
      "76:\tlearn: 0.8547260\ttotal: 223ms\tremaining: 2.67s\n",
      "77:\tlearn: 0.8541681\ttotal: 227ms\tremaining: 2.68s\n",
      "78:\tlearn: 0.8533800\ttotal: 229ms\tremaining: 2.67s\n",
      "79:\tlearn: 0.8526583\ttotal: 232ms\tremaining: 2.67s\n",
      "80:\tlearn: 0.8518470\ttotal: 235ms\tremaining: 2.66s\n",
      "81:\tlearn: 0.8509250\ttotal: 237ms\tremaining: 2.66s\n",
      "82:\tlearn: 0.8502178\ttotal: 240ms\tremaining: 2.65s\n",
      "83:\tlearn: 0.8492926\ttotal: 243ms\tremaining: 2.65s\n",
      "84:\tlearn: 0.8484765\ttotal: 245ms\tremaining: 2.64s\n",
      "85:\tlearn: 0.8477422\ttotal: 248ms\tremaining: 2.63s\n",
      "86:\tlearn: 0.8471721\ttotal: 250ms\tremaining: 2.63s\n",
      "87:\tlearn: 0.8465306\ttotal: 253ms\tremaining: 2.62s\n",
      "88:\tlearn: 0.8454702\ttotal: 256ms\tremaining: 2.62s\n",
      "89:\tlearn: 0.8451290\ttotal: 258ms\tremaining: 2.61s\n",
      "90:\tlearn: 0.8438569\ttotal: 261ms\tremaining: 2.6s\n",
      "91:\tlearn: 0.8430866\ttotal: 263ms\tremaining: 2.6s\n",
      "92:\tlearn: 0.8423661\ttotal: 266ms\tremaining: 2.59s\n",
      "93:\tlearn: 0.8415183\ttotal: 269ms\tremaining: 2.59s\n",
      "94:\tlearn: 0.8407142\ttotal: 271ms\tremaining: 2.58s\n",
      "95:\tlearn: 0.8394953\ttotal: 274ms\tremaining: 2.58s\n",
      "96:\tlearn: 0.8383224\ttotal: 277ms\tremaining: 2.58s\n",
      "97:\tlearn: 0.8371431\ttotal: 279ms\tremaining: 2.57s\n",
      "98:\tlearn: 0.8363042\ttotal: 282ms\tremaining: 2.56s\n",
      "99:\tlearn: 0.8356774\ttotal: 284ms\tremaining: 2.56s\n",
      "100:\tlearn: 0.8342119\ttotal: 287ms\tremaining: 2.55s\n",
      "101:\tlearn: 0.8331179\ttotal: 290ms\tremaining: 2.55s\n",
      "102:\tlearn: 0.8325232\ttotal: 292ms\tremaining: 2.54s\n",
      "103:\tlearn: 0.8319562\ttotal: 295ms\tremaining: 2.54s\n",
      "104:\tlearn: 0.8310427\ttotal: 297ms\tremaining: 2.54s\n",
      "105:\tlearn: 0.8303248\ttotal: 300ms\tremaining: 2.53s\n",
      "106:\tlearn: 0.8286697\ttotal: 303ms\tremaining: 2.53s\n",
      "107:\tlearn: 0.8277118\ttotal: 305ms\tremaining: 2.52s\n",
      "108:\tlearn: 0.8265159\ttotal: 308ms\tremaining: 2.52s\n",
      "109:\tlearn: 0.8260977\ttotal: 312ms\tremaining: 2.52s\n",
      "110:\tlearn: 0.8250288\ttotal: 314ms\tremaining: 2.52s\n",
      "111:\tlearn: 0.8243204\ttotal: 317ms\tremaining: 2.51s\n",
      "112:\tlearn: 0.8237755\ttotal: 320ms\tremaining: 2.51s\n",
      "113:\tlearn: 0.8231330\ttotal: 322ms\tremaining: 2.5s\n",
      "114:\tlearn: 0.8217097\ttotal: 325ms\tremaining: 2.5s\n",
      "115:\tlearn: 0.8202415\ttotal: 328ms\tremaining: 2.5s\n",
      "116:\tlearn: 0.8191857\ttotal: 330ms\tremaining: 2.49s\n",
      "117:\tlearn: 0.8187461\ttotal: 333ms\tremaining: 2.49s\n",
      "118:\tlearn: 0.8175490\ttotal: 335ms\tremaining: 2.48s\n",
      "119:\tlearn: 0.8162844\ttotal: 340ms\tremaining: 2.49s\n",
      "120:\tlearn: 0.8155291\ttotal: 343ms\tremaining: 2.49s\n",
      "121:\tlearn: 0.8149329\ttotal: 346ms\tremaining: 2.49s\n",
      "122:\tlearn: 0.8136519\ttotal: 349ms\tremaining: 2.49s\n",
      "123:\tlearn: 0.8127854\ttotal: 354ms\tremaining: 2.5s\n",
      "124:\tlearn: 0.8119153\ttotal: 359ms\tremaining: 2.51s\n",
      "125:\tlearn: 0.8110873\ttotal: 363ms\tremaining: 2.52s\n",
      "126:\tlearn: 0.8103912\ttotal: 369ms\tremaining: 2.54s\n",
      "127:\tlearn: 0.8095720\ttotal: 374ms\tremaining: 2.55s\n",
      "128:\tlearn: 0.8088011\ttotal: 377ms\tremaining: 2.54s\n",
      "129:\tlearn: 0.8074439\ttotal: 381ms\tremaining: 2.55s\n",
      "130:\tlearn: 0.8063795\ttotal: 385ms\tremaining: 2.56s\n",
      "131:\tlearn: 0.8050236\ttotal: 390ms\tremaining: 2.56s\n",
      "132:\tlearn: 0.8043022\ttotal: 393ms\tremaining: 2.56s\n",
      "133:\tlearn: 0.8036447\ttotal: 396ms\tremaining: 2.56s\n",
      "134:\tlearn: 0.8027990\ttotal: 399ms\tremaining: 2.56s\n",
      "135:\tlearn: 0.8024207\ttotal: 402ms\tremaining: 2.56s\n",
      "136:\tlearn: 0.8014708\ttotal: 406ms\tremaining: 2.56s\n",
      "137:\tlearn: 0.8004295\ttotal: 409ms\tremaining: 2.56s\n",
      "138:\tlearn: 0.7998393\ttotal: 412ms\tremaining: 2.55s\n",
      "139:\tlearn: 0.7994814\ttotal: 416ms\tremaining: 2.56s\n",
      "140:\tlearn: 0.7988613\ttotal: 419ms\tremaining: 2.55s\n",
      "141:\tlearn: 0.7981701\ttotal: 422ms\tremaining: 2.55s\n",
      "142:\tlearn: 0.7974275\ttotal: 424ms\tremaining: 2.54s\n",
      "143:\tlearn: 0.7967714\ttotal: 427ms\tremaining: 2.54s\n",
      "144:\tlearn: 0.7960175\ttotal: 430ms\tremaining: 2.54s\n",
      "145:\tlearn: 0.7950775\ttotal: 433ms\tremaining: 2.53s\n",
      "146:\tlearn: 0.7946989\ttotal: 435ms\tremaining: 2.53s\n",
      "147:\tlearn: 0.7940446\ttotal: 438ms\tremaining: 2.52s\n",
      "148:\tlearn: 0.7935869\ttotal: 441ms\tremaining: 2.52s\n",
      "149:\tlearn: 0.7931824\ttotal: 443ms\tremaining: 2.51s\n",
      "150:\tlearn: 0.7920516\ttotal: 446ms\tremaining: 2.51s\n",
      "151:\tlearn: 0.7916785\ttotal: 448ms\tremaining: 2.5s\n",
      "152:\tlearn: 0.7911472\ttotal: 451ms\tremaining: 2.5s\n",
      "153:\tlearn: 0.7905228\ttotal: 454ms\tremaining: 2.49s\n",
      "154:\tlearn: 0.7897349\ttotal: 457ms\tremaining: 2.49s\n",
      "155:\tlearn: 0.7890093\ttotal: 460ms\tremaining: 2.49s\n",
      "156:\tlearn: 0.7880817\ttotal: 463ms\tremaining: 2.48s\n",
      "157:\tlearn: 0.7873466\ttotal: 465ms\tremaining: 2.48s\n",
      "158:\tlearn: 0.7865390\ttotal: 468ms\tremaining: 2.47s\n",
      "159:\tlearn: 0.7857980\ttotal: 470ms\tremaining: 2.47s\n",
      "160:\tlearn: 0.7849810\ttotal: 473ms\tremaining: 2.46s\n",
      "161:\tlearn: 0.7844790\ttotal: 475ms\tremaining: 2.46s\n",
      "162:\tlearn: 0.7834212\ttotal: 478ms\tremaining: 2.46s\n",
      "163:\tlearn: 0.7827787\ttotal: 481ms\tremaining: 2.45s\n",
      "164:\tlearn: 0.7821676\ttotal: 484ms\tremaining: 2.45s\n",
      "165:\tlearn: 0.7813274\ttotal: 486ms\tremaining: 2.44s\n",
      "166:\tlearn: 0.7806970\ttotal: 489ms\tremaining: 2.44s\n",
      "167:\tlearn: 0.7798985\ttotal: 492ms\tremaining: 2.44s\n",
      "168:\tlearn: 0.7794948\ttotal: 495ms\tremaining: 2.43s\n",
      "169:\tlearn: 0.7785996\ttotal: 497ms\tremaining: 2.43s\n",
      "170:\tlearn: 0.7781369\ttotal: 500ms\tremaining: 2.42s\n",
      "171:\tlearn: 0.7771192\ttotal: 503ms\tremaining: 2.42s\n",
      "172:\tlearn: 0.7759002\ttotal: 506ms\tremaining: 2.42s\n",
      "173:\tlearn: 0.7751019\ttotal: 509ms\tremaining: 2.41s\n",
      "174:\tlearn: 0.7748099\ttotal: 513ms\tremaining: 2.42s\n",
      "175:\tlearn: 0.7741438\ttotal: 516ms\tremaining: 2.42s\n",
      "176:\tlearn: 0.7734435\ttotal: 520ms\tremaining: 2.42s\n",
      "177:\tlearn: 0.7728543\ttotal: 523ms\tremaining: 2.42s\n",
      "178:\tlearn: 0.7726301\ttotal: 527ms\tremaining: 2.42s\n",
      "179:\tlearn: 0.7721816\ttotal: 532ms\tremaining: 2.42s\n",
      "180:\tlearn: 0.7710704\ttotal: 536ms\tremaining: 2.42s\n",
      "181:\tlearn: 0.7705125\ttotal: 539ms\tremaining: 2.42s\n",
      "182:\tlearn: 0.7695362\ttotal: 543ms\tremaining: 2.42s\n",
      "183:\tlearn: 0.7689180\ttotal: 545ms\tremaining: 2.42s\n",
      "184:\tlearn: 0.7681810\ttotal: 548ms\tremaining: 2.41s\n",
      "185:\tlearn: 0.7675220\ttotal: 551ms\tremaining: 2.41s\n",
      "186:\tlearn: 0.7667075\ttotal: 553ms\tremaining: 2.4s\n",
      "187:\tlearn: 0.7657999\ttotal: 556ms\tremaining: 2.4s\n",
      "188:\tlearn: 0.7653811\ttotal: 559ms\tremaining: 2.4s\n",
      "189:\tlearn: 0.7646392\ttotal: 562ms\tremaining: 2.39s\n",
      "190:\tlearn: 0.7642024\ttotal: 564ms\tremaining: 2.39s\n",
      "191:\tlearn: 0.7637389\ttotal: 567ms\tremaining: 2.38s\n",
      "192:\tlearn: 0.7633127\ttotal: 570ms\tremaining: 2.38s\n",
      "193:\tlearn: 0.7627991\ttotal: 572ms\tremaining: 2.38s\n",
      "194:\tlearn: 0.7620794\ttotal: 575ms\tremaining: 2.37s\n",
      "195:\tlearn: 0.7615245\ttotal: 578ms\tremaining: 2.37s\n",
      "196:\tlearn: 0.7605315\ttotal: 581ms\tremaining: 2.37s\n",
      "197:\tlearn: 0.7599301\ttotal: 583ms\tremaining: 2.36s\n",
      "198:\tlearn: 0.7592957\ttotal: 586ms\tremaining: 2.36s\n",
      "199:\tlearn: 0.7587430\ttotal: 589ms\tremaining: 2.36s\n",
      "200:\tlearn: 0.7578374\ttotal: 592ms\tremaining: 2.35s\n",
      "201:\tlearn: 0.7574711\ttotal: 594ms\tremaining: 2.35s\n",
      "202:\tlearn: 0.7569932\ttotal: 597ms\tremaining: 2.34s\n",
      "203:\tlearn: 0.7564337\ttotal: 600ms\tremaining: 2.34s\n",
      "204:\tlearn: 0.7556527\ttotal: 603ms\tremaining: 2.34s\n",
      "205:\tlearn: 0.7550532\ttotal: 605ms\tremaining: 2.33s\n",
      "206:\tlearn: 0.7546226\ttotal: 607ms\tremaining: 2.33s\n",
      "207:\tlearn: 0.7539462\ttotal: 610ms\tremaining: 2.32s\n",
      "208:\tlearn: 0.7532700\ttotal: 613ms\tremaining: 2.32s\n",
      "209:\tlearn: 0.7529760\ttotal: 615ms\tremaining: 2.31s\n",
      "210:\tlearn: 0.7524042\ttotal: 618ms\tremaining: 2.31s\n",
      "211:\tlearn: 0.7520791\ttotal: 620ms\tremaining: 2.31s\n",
      "212:\tlearn: 0.7513799\ttotal: 623ms\tremaining: 2.3s\n",
      "213:\tlearn: 0.7506714\ttotal: 626ms\tremaining: 2.3s\n",
      "214:\tlearn: 0.7500204\ttotal: 628ms\tremaining: 2.29s\n",
      "215:\tlearn: 0.7494243\ttotal: 631ms\tremaining: 2.29s\n",
      "216:\tlearn: 0.7490606\ttotal: 634ms\tremaining: 2.29s\n",
      "217:\tlearn: 0.7485683\ttotal: 636ms\tremaining: 2.28s\n",
      "218:\tlearn: 0.7479798\ttotal: 639ms\tremaining: 2.28s\n",
      "219:\tlearn: 0.7477573\ttotal: 642ms\tremaining: 2.27s\n",
      "220:\tlearn: 0.7470546\ttotal: 644ms\tremaining: 2.27s\n",
      "221:\tlearn: 0.7465053\ttotal: 647ms\tremaining: 2.27s\n",
      "222:\tlearn: 0.7458984\ttotal: 649ms\tremaining: 2.26s\n",
      "223:\tlearn: 0.7455918\ttotal: 652ms\tremaining: 2.26s\n",
      "224:\tlearn: 0.7450899\ttotal: 655ms\tremaining: 2.25s\n",
      "225:\tlearn: 0.7445517\ttotal: 658ms\tremaining: 2.25s\n",
      "226:\tlearn: 0.7440461\ttotal: 660ms\tremaining: 2.25s\n",
      "227:\tlearn: 0.7436659\ttotal: 663ms\tremaining: 2.25s\n",
      "228:\tlearn: 0.7433192\ttotal: 666ms\tremaining: 2.24s\n",
      "229:\tlearn: 0.7427982\ttotal: 668ms\tremaining: 2.24s\n",
      "230:\tlearn: 0.7424064\ttotal: 671ms\tremaining: 2.23s\n",
      "231:\tlearn: 0.7417598\ttotal: 673ms\tremaining: 2.23s\n",
      "232:\tlearn: 0.7411041\ttotal: 676ms\tremaining: 2.23s\n",
      "233:\tlearn: 0.7404741\ttotal: 679ms\tremaining: 2.22s\n",
      "234:\tlearn: 0.7402352\ttotal: 682ms\tremaining: 2.22s\n",
      "235:\tlearn: 0.7397004\ttotal: 686ms\tremaining: 2.22s\n",
      "236:\tlearn: 0.7393468\ttotal: 689ms\tremaining: 2.22s\n",
      "237:\tlearn: 0.7388713\ttotal: 693ms\tremaining: 2.22s\n",
      "238:\tlearn: 0.7384239\ttotal: 696ms\tremaining: 2.22s\n",
      "239:\tlearn: 0.7378872\ttotal: 699ms\tremaining: 2.21s\n",
      "240:\tlearn: 0.7374444\ttotal: 702ms\tremaining: 2.21s\n",
      "241:\tlearn: 0.7371395\ttotal: 705ms\tremaining: 2.21s\n",
      "242:\tlearn: 0.7365445\ttotal: 708ms\tremaining: 2.21s\n",
      "243:\tlearn: 0.7358973\ttotal: 711ms\tremaining: 2.2s\n",
      "244:\tlearn: 0.7355324\ttotal: 714ms\tremaining: 2.2s\n",
      "245:\tlearn: 0.7348633\ttotal: 716ms\tremaining: 2.19s\n",
      "246:\tlearn: 0.7340728\ttotal: 719ms\tremaining: 2.19s\n",
      "247:\tlearn: 0.7335674\ttotal: 721ms\tremaining: 2.19s\n",
      "248:\tlearn: 0.7330541\ttotal: 724ms\tremaining: 2.19s\n",
      "249:\tlearn: 0.7325775\ttotal: 727ms\tremaining: 2.18s\n",
      "250:\tlearn: 0.7321697\ttotal: 730ms\tremaining: 2.18s\n",
      "251:\tlearn: 0.7316217\ttotal: 733ms\tremaining: 2.17s\n",
      "252:\tlearn: 0.7312207\ttotal: 735ms\tremaining: 2.17s\n",
      "253:\tlearn: 0.7309834\ttotal: 738ms\tremaining: 2.17s\n",
      "254:\tlearn: 0.7305371\ttotal: 740ms\tremaining: 2.16s\n",
      "255:\tlearn: 0.7301287\ttotal: 743ms\tremaining: 2.16s\n",
      "256:\tlearn: 0.7296525\ttotal: 746ms\tremaining: 2.15s\n",
      "257:\tlearn: 0.7293447\ttotal: 748ms\tremaining: 2.15s\n",
      "258:\tlearn: 0.7287096\ttotal: 751ms\tremaining: 2.15s\n",
      "259:\tlearn: 0.7284818\ttotal: 754ms\tremaining: 2.15s\n",
      "260:\tlearn: 0.7280148\ttotal: 757ms\tremaining: 2.14s\n",
      "261:\tlearn: 0.7273865\ttotal: 759ms\tremaining: 2.14s\n",
      "262:\tlearn: 0.7267797\ttotal: 762ms\tremaining: 2.14s\n",
      "263:\tlearn: 0.7263359\ttotal: 765ms\tremaining: 2.13s\n",
      "264:\tlearn: 0.7260596\ttotal: 768ms\tremaining: 2.13s\n",
      "265:\tlearn: 0.7253737\ttotal: 771ms\tremaining: 2.13s\n",
      "266:\tlearn: 0.7251436\ttotal: 775ms\tremaining: 2.13s\n",
      "267:\tlearn: 0.7246203\ttotal: 778ms\tremaining: 2.13s\n",
      "268:\tlearn: 0.7240790\ttotal: 782ms\tremaining: 2.12s\n",
      "269:\tlearn: 0.7237868\ttotal: 785ms\tremaining: 2.12s\n",
      "270:\tlearn: 0.7232178\ttotal: 788ms\tremaining: 2.12s\n",
      "271:\tlearn: 0.7228055\ttotal: 791ms\tremaining: 2.12s\n",
      "272:\tlearn: 0.7224667\ttotal: 795ms\tremaining: 2.12s\n",
      "273:\tlearn: 0.7215993\ttotal: 798ms\tremaining: 2.11s\n",
      "274:\tlearn: 0.7211263\ttotal: 801ms\tremaining: 2.11s\n",
      "275:\tlearn: 0.7205822\ttotal: 805ms\tremaining: 2.11s\n",
      "276:\tlearn: 0.7198304\ttotal: 808ms\tremaining: 2.11s\n",
      "277:\tlearn: 0.7194239\ttotal: 811ms\tremaining: 2.11s\n",
      "278:\tlearn: 0.7188342\ttotal: 815ms\tremaining: 2.1s\n",
      "279:\tlearn: 0.7185475\ttotal: 818ms\tremaining: 2.1s\n",
      "280:\tlearn: 0.7180418\ttotal: 821ms\tremaining: 2.1s\n",
      "281:\tlearn: 0.7175994\ttotal: 825ms\tremaining: 2.1s\n",
      "282:\tlearn: 0.7171510\ttotal: 828ms\tremaining: 2.1s\n",
      "283:\tlearn: 0.7167001\ttotal: 831ms\tremaining: 2.1s\n",
      "284:\tlearn: 0.7163470\ttotal: 834ms\tremaining: 2.09s\n",
      "285:\tlearn: 0.7159335\ttotal: 838ms\tremaining: 2.09s\n",
      "286:\tlearn: 0.7153860\ttotal: 841ms\tremaining: 2.09s\n",
      "287:\tlearn: 0.7148389\ttotal: 844ms\tremaining: 2.09s\n",
      "288:\tlearn: 0.7144252\ttotal: 848ms\tremaining: 2.08s\n",
      "289:\tlearn: 0.7140192\ttotal: 851ms\tremaining: 2.08s\n",
      "290:\tlearn: 0.7136905\ttotal: 854ms\tremaining: 2.08s\n",
      "291:\tlearn: 0.7133705\ttotal: 859ms\tremaining: 2.08s\n",
      "292:\tlearn: 0.7130845\ttotal: 863ms\tremaining: 2.08s\n",
      "293:\tlearn: 0.7125184\ttotal: 867ms\tremaining: 2.08s\n",
      "294:\tlearn: 0.7122337\ttotal: 871ms\tremaining: 2.08s\n",
      "295:\tlearn: 0.7117483\ttotal: 876ms\tremaining: 2.08s\n",
      "296:\tlearn: 0.7113777\ttotal: 880ms\tremaining: 2.08s\n",
      "297:\tlearn: 0.7109931\ttotal: 884ms\tremaining: 2.08s\n",
      "298:\tlearn: 0.7106175\ttotal: 887ms\tremaining: 2.08s\n",
      "299:\tlearn: 0.7103911\ttotal: 890ms\tremaining: 2.08s\n",
      "300:\tlearn: 0.7099083\ttotal: 894ms\tremaining: 2.08s\n",
      "301:\tlearn: 0.7094649\ttotal: 897ms\tremaining: 2.07s\n",
      "302:\tlearn: 0.7092399\ttotal: 901ms\tremaining: 2.07s\n",
      "303:\tlearn: 0.7085032\ttotal: 904ms\tremaining: 2.07s\n",
      "304:\tlearn: 0.7082032\ttotal: 908ms\tremaining: 2.07s\n",
      "305:\tlearn: 0.7079987\ttotal: 911ms\tremaining: 2.06s\n",
      "306:\tlearn: 0.7074536\ttotal: 914ms\tremaining: 2.06s\n",
      "307:\tlearn: 0.7070713\ttotal: 917ms\tremaining: 2.06s\n",
      "308:\tlearn: 0.7067645\ttotal: 920ms\tremaining: 2.06s\n",
      "309:\tlearn: 0.7062294\ttotal: 923ms\tremaining: 2.05s\n",
      "310:\tlearn: 0.7058520\ttotal: 926ms\tremaining: 2.05s\n",
      "311:\tlearn: 0.7055809\ttotal: 929ms\tremaining: 2.05s\n",
      "312:\tlearn: 0.7051865\ttotal: 932ms\tremaining: 2.05s\n",
      "313:\tlearn: 0.7047619\ttotal: 936ms\tremaining: 2.04s\n",
      "314:\tlearn: 0.7045058\ttotal: 939ms\tremaining: 2.04s\n",
      "315:\tlearn: 0.7042334\ttotal: 942ms\tremaining: 2.04s\n",
      "316:\tlearn: 0.7036472\ttotal: 945ms\tremaining: 2.04s\n",
      "317:\tlearn: 0.7030833\ttotal: 948ms\tremaining: 2.03s\n",
      "318:\tlearn: 0.7027346\ttotal: 952ms\tremaining: 2.03s\n",
      "319:\tlearn: 0.7024244\ttotal: 955ms\tremaining: 2.03s\n",
      "320:\tlearn: 0.7018803\ttotal: 958ms\tremaining: 2.03s\n",
      "321:\tlearn: 0.7015934\ttotal: 961ms\tremaining: 2.02s\n",
      "322:\tlearn: 0.7013754\ttotal: 965ms\tremaining: 2.02s\n",
      "323:\tlearn: 0.7010367\ttotal: 968ms\tremaining: 2.02s\n",
      "324:\tlearn: 0.7004977\ttotal: 972ms\tremaining: 2.02s\n",
      "325:\tlearn: 0.6999422\ttotal: 975ms\tremaining: 2.02s\n",
      "326:\tlearn: 0.6993344\ttotal: 978ms\tremaining: 2.01s\n",
      "327:\tlearn: 0.6990186\ttotal: 984ms\tremaining: 2.02s\n",
      "328:\tlearn: 0.6983197\ttotal: 988ms\tremaining: 2.01s\n",
      "329:\tlearn: 0.6979011\ttotal: 991ms\tremaining: 2.01s\n",
      "330:\tlearn: 0.6973788\ttotal: 995ms\tremaining: 2.01s\n",
      "331:\tlearn: 0.6971677\ttotal: 998ms\tremaining: 2.01s\n",
      "332:\tlearn: 0.6969418\ttotal: 1s\tremaining: 2s\n",
      "333:\tlearn: 0.6965033\ttotal: 1s\tremaining: 2s\n",
      "334:\tlearn: 0.6961535\ttotal: 1.01s\tremaining: 2s\n",
      "335:\tlearn: 0.6957258\ttotal: 1.01s\tremaining: 2s\n",
      "336:\tlearn: 0.6953669\ttotal: 1.01s\tremaining: 2s\n",
      "337:\tlearn: 0.6950504\ttotal: 1.02s\tremaining: 1.99s\n",
      "338:\tlearn: 0.6947586\ttotal: 1.02s\tremaining: 1.99s\n",
      "339:\tlearn: 0.6943941\ttotal: 1.02s\tremaining: 1.99s\n",
      "340:\tlearn: 0.6941285\ttotal: 1.03s\tremaining: 1.99s\n",
      "341:\tlearn: 0.6938900\ttotal: 1.03s\tremaining: 1.99s\n",
      "342:\tlearn: 0.6935185\ttotal: 1.04s\tremaining: 1.99s\n",
      "343:\tlearn: 0.6931961\ttotal: 1.04s\tremaining: 1.98s\n",
      "344:\tlearn: 0.6929995\ttotal: 1.04s\tremaining: 1.98s\n",
      "345:\tlearn: 0.6925212\ttotal: 1.05s\tremaining: 1.98s\n",
      "346:\tlearn: 0.6922256\ttotal: 1.05s\tremaining: 1.98s\n",
      "347:\tlearn: 0.6917487\ttotal: 1.06s\tremaining: 1.98s\n",
      "348:\tlearn: 0.6913170\ttotal: 1.06s\tremaining: 1.98s\n",
      "349:\tlearn: 0.6909252\ttotal: 1.06s\tremaining: 1.98s\n",
      "350:\tlearn: 0.6905528\ttotal: 1.07s\tremaining: 1.98s\n",
      "351:\tlearn: 0.6903275\ttotal: 1.07s\tremaining: 1.97s\n",
      "352:\tlearn: 0.6900374\ttotal: 1.07s\tremaining: 1.97s\n",
      "353:\tlearn: 0.6895517\ttotal: 1.08s\tremaining: 1.97s\n",
      "354:\tlearn: 0.6891884\ttotal: 1.08s\tremaining: 1.97s\n",
      "355:\tlearn: 0.6888611\ttotal: 1.08s\tremaining: 1.96s\n",
      "356:\tlearn: 0.6885598\ttotal: 1.09s\tremaining: 1.96s\n",
      "357:\tlearn: 0.6881047\ttotal: 1.09s\tremaining: 1.96s\n",
      "358:\tlearn: 0.6878761\ttotal: 1.09s\tremaining: 1.96s\n",
      "359:\tlearn: 0.6873221\ttotal: 1.1s\tremaining: 1.95s\n",
      "360:\tlearn: 0.6870311\ttotal: 1.1s\tremaining: 1.95s\n",
      "361:\tlearn: 0.6866931\ttotal: 1.1s\tremaining: 1.95s\n",
      "362:\tlearn: 0.6861965\ttotal: 1.11s\tremaining: 1.95s\n",
      "363:\tlearn: 0.6857742\ttotal: 1.11s\tremaining: 1.94s\n",
      "364:\tlearn: 0.6854050\ttotal: 1.11s\tremaining: 1.94s\n",
      "365:\tlearn: 0.6851482\ttotal: 1.12s\tremaining: 1.94s\n",
      "366:\tlearn: 0.6846344\ttotal: 1.12s\tremaining: 1.94s\n",
      "367:\tlearn: 0.6843068\ttotal: 1.13s\tremaining: 1.93s\n",
      "368:\tlearn: 0.6838481\ttotal: 1.13s\tremaining: 1.93s\n",
      "369:\tlearn: 0.6833157\ttotal: 1.13s\tremaining: 1.93s\n",
      "370:\tlearn: 0.6830163\ttotal: 1.14s\tremaining: 1.93s\n",
      "371:\tlearn: 0.6828634\ttotal: 1.14s\tremaining: 1.93s\n",
      "372:\tlearn: 0.6826195\ttotal: 1.15s\tremaining: 1.93s\n",
      "373:\tlearn: 0.6822615\ttotal: 1.15s\tremaining: 1.92s\n",
      "374:\tlearn: 0.6819262\ttotal: 1.15s\tremaining: 1.92s\n",
      "375:\tlearn: 0.6816046\ttotal: 1.16s\tremaining: 1.92s\n",
      "376:\tlearn: 0.6811935\ttotal: 1.16s\tremaining: 1.92s\n",
      "377:\tlearn: 0.6808069\ttotal: 1.17s\tremaining: 1.92s\n",
      "378:\tlearn: 0.6806197\ttotal: 1.17s\tremaining: 1.92s\n",
      "379:\tlearn: 0.6803246\ttotal: 1.18s\tremaining: 1.92s\n",
      "380:\tlearn: 0.6798817\ttotal: 1.18s\tremaining: 1.92s\n",
      "381:\tlearn: 0.6796796\ttotal: 1.18s\tremaining: 1.91s\n",
      "382:\tlearn: 0.6794307\ttotal: 1.19s\tremaining: 1.91s\n",
      "383:\tlearn: 0.6792101\ttotal: 1.19s\tremaining: 1.91s\n",
      "384:\tlearn: 0.6788478\ttotal: 1.19s\tremaining: 1.91s\n",
      "385:\tlearn: 0.6785957\ttotal: 1.2s\tremaining: 1.9s\n",
      "386:\tlearn: 0.6783052\ttotal: 1.2s\tremaining: 1.9s\n",
      "387:\tlearn: 0.6780764\ttotal: 1.21s\tremaining: 1.9s\n",
      "388:\tlearn: 0.6777184\ttotal: 1.21s\tremaining: 1.9s\n",
      "389:\tlearn: 0.6771929\ttotal: 1.21s\tremaining: 1.9s\n",
      "390:\tlearn: 0.6770476\ttotal: 1.22s\tremaining: 1.9s\n",
      "391:\tlearn: 0.6769042\ttotal: 1.22s\tremaining: 1.89s\n",
      "392:\tlearn: 0.6764423\ttotal: 1.23s\tremaining: 1.89s\n",
      "393:\tlearn: 0.6761288\ttotal: 1.23s\tremaining: 1.9s\n",
      "394:\tlearn: 0.6757634\ttotal: 1.24s\tremaining: 1.89s\n",
      "395:\tlearn: 0.6754136\ttotal: 1.24s\tremaining: 1.89s\n",
      "396:\tlearn: 0.6750315\ttotal: 1.24s\tremaining: 1.89s\n",
      "397:\tlearn: 0.6745694\ttotal: 1.25s\tremaining: 1.89s\n",
      "398:\tlearn: 0.6743276\ttotal: 1.25s\tremaining: 1.89s\n",
      "399:\tlearn: 0.6739521\ttotal: 1.25s\tremaining: 1.88s\n",
      "400:\tlearn: 0.6737101\ttotal: 1.26s\tremaining: 1.88s\n",
      "401:\tlearn: 0.6734212\ttotal: 1.26s\tremaining: 1.88s\n",
      "402:\tlearn: 0.6731422\ttotal: 1.27s\tremaining: 1.88s\n",
      "403:\tlearn: 0.6729340\ttotal: 1.27s\tremaining: 1.88s\n",
      "404:\tlearn: 0.6727680\ttotal: 1.27s\tremaining: 1.87s\n",
      "405:\tlearn: 0.6722690\ttotal: 1.28s\tremaining: 1.87s\n",
      "406:\tlearn: 0.6720935\ttotal: 1.28s\tremaining: 1.87s\n",
      "407:\tlearn: 0.6717181\ttotal: 1.29s\tremaining: 1.87s\n",
      "408:\tlearn: 0.6713488\ttotal: 1.29s\tremaining: 1.86s\n",
      "409:\tlearn: 0.6711133\ttotal: 1.29s\tremaining: 1.86s\n",
      "410:\tlearn: 0.6708082\ttotal: 1.3s\tremaining: 1.86s\n",
      "411:\tlearn: 0.6704355\ttotal: 1.3s\tremaining: 1.86s\n",
      "412:\tlearn: 0.6701292\ttotal: 1.3s\tremaining: 1.85s\n",
      "413:\tlearn: 0.6697654\ttotal: 1.31s\tremaining: 1.85s\n",
      "414:\tlearn: 0.6695171\ttotal: 1.31s\tremaining: 1.85s\n",
      "415:\tlearn: 0.6692087\ttotal: 1.32s\tremaining: 1.85s\n",
      "416:\tlearn: 0.6689091\ttotal: 1.32s\tremaining: 1.85s\n",
      "417:\tlearn: 0.6686140\ttotal: 1.33s\tremaining: 1.85s\n",
      "418:\tlearn: 0.6683164\ttotal: 1.33s\tremaining: 1.85s\n",
      "419:\tlearn: 0.6680364\ttotal: 1.33s\tremaining: 1.84s\n",
      "420:\tlearn: 0.6677396\ttotal: 1.34s\tremaining: 1.84s\n",
      "421:\tlearn: 0.6673238\ttotal: 1.34s\tremaining: 1.84s\n",
      "422:\tlearn: 0.6671013\ttotal: 1.35s\tremaining: 1.84s\n",
      "423:\tlearn: 0.6668251\ttotal: 1.35s\tremaining: 1.83s\n",
      "424:\tlearn: 0.6666217\ttotal: 1.35s\tremaining: 1.83s\n",
      "425:\tlearn: 0.6663750\ttotal: 1.36s\tremaining: 1.83s\n",
      "426:\tlearn: 0.6660739\ttotal: 1.36s\tremaining: 1.83s\n",
      "427:\tlearn: 0.6657261\ttotal: 1.37s\tremaining: 1.83s\n",
      "428:\tlearn: 0.6654251\ttotal: 1.37s\tremaining: 1.83s\n",
      "429:\tlearn: 0.6651403\ttotal: 1.38s\tremaining: 1.82s\n",
      "430:\tlearn: 0.6647964\ttotal: 1.38s\tremaining: 1.82s\n",
      "431:\tlearn: 0.6645176\ttotal: 1.38s\tremaining: 1.82s\n",
      "432:\tlearn: 0.6641732\ttotal: 1.39s\tremaining: 1.82s\n",
      "433:\tlearn: 0.6637262\ttotal: 1.39s\tremaining: 1.82s\n",
      "434:\tlearn: 0.6634546\ttotal: 1.4s\tremaining: 1.82s\n",
      "435:\tlearn: 0.6631391\ttotal: 1.43s\tremaining: 1.85s\n",
      "436:\tlearn: 0.6628241\ttotal: 1.44s\tremaining: 1.85s\n",
      "437:\tlearn: 0.6625867\ttotal: 1.45s\tremaining: 1.86s\n",
      "438:\tlearn: 0.6622752\ttotal: 1.45s\tremaining: 1.85s\n",
      "439:\tlearn: 0.6620442\ttotal: 1.46s\tremaining: 1.85s\n",
      "440:\tlearn: 0.6615763\ttotal: 1.46s\tremaining: 1.85s\n",
      "441:\tlearn: 0.6613586\ttotal: 1.46s\tremaining: 1.85s\n",
      "442:\tlearn: 0.6611397\ttotal: 1.47s\tremaining: 1.85s\n",
      "443:\tlearn: 0.6606769\ttotal: 1.47s\tremaining: 1.84s\n",
      "444:\tlearn: 0.6604411\ttotal: 1.48s\tremaining: 1.84s\n",
      "445:\tlearn: 0.6599967\ttotal: 1.48s\tremaining: 1.84s\n",
      "446:\tlearn: 0.6596220\ttotal: 1.49s\tremaining: 1.84s\n",
      "447:\tlearn: 0.6592601\ttotal: 1.49s\tremaining: 1.83s\n",
      "448:\tlearn: 0.6588809\ttotal: 1.49s\tremaining: 1.83s\n",
      "449:\tlearn: 0.6586350\ttotal: 1.5s\tremaining: 1.83s\n",
      "450:\tlearn: 0.6584090\ttotal: 1.5s\tremaining: 1.83s\n",
      "451:\tlearn: 0.6581493\ttotal: 1.5s\tremaining: 1.82s\n",
      "452:\tlearn: 0.6579158\ttotal: 1.51s\tremaining: 1.82s\n",
      "453:\tlearn: 0.6577154\ttotal: 1.51s\tremaining: 1.82s\n",
      "454:\tlearn: 0.6574609\ttotal: 1.51s\tremaining: 1.81s\n",
      "455:\tlearn: 0.6572604\ttotal: 1.52s\tremaining: 1.81s\n",
      "456:\tlearn: 0.6570735\ttotal: 1.52s\tremaining: 1.81s\n",
      "457:\tlearn: 0.6568132\ttotal: 1.52s\tremaining: 1.8s\n",
      "458:\tlearn: 0.6565001\ttotal: 1.53s\tremaining: 1.8s\n",
      "459:\tlearn: 0.6561763\ttotal: 1.53s\tremaining: 1.8s\n",
      "460:\tlearn: 0.6559570\ttotal: 1.53s\tremaining: 1.79s\n",
      "461:\tlearn: 0.6555941\ttotal: 1.54s\tremaining: 1.79s\n",
      "462:\tlearn: 0.6553762\ttotal: 1.54s\tremaining: 1.79s\n",
      "463:\tlearn: 0.6550820\ttotal: 1.54s\tremaining: 1.78s\n",
      "464:\tlearn: 0.6548434\ttotal: 1.55s\tremaining: 1.78s\n",
      "465:\tlearn: 0.6545842\ttotal: 1.55s\tremaining: 1.78s\n",
      "466:\tlearn: 0.6542440\ttotal: 1.56s\tremaining: 1.78s\n",
      "467:\tlearn: 0.6539470\ttotal: 1.56s\tremaining: 1.78s\n",
      "468:\tlearn: 0.6537474\ttotal: 1.57s\tremaining: 1.77s\n",
      "469:\tlearn: 0.6534624\ttotal: 1.57s\tremaining: 1.77s\n",
      "470:\tlearn: 0.6532546\ttotal: 1.57s\tremaining: 1.77s\n",
      "471:\tlearn: 0.6529889\ttotal: 1.58s\tremaining: 1.77s\n",
      "472:\tlearn: 0.6526722\ttotal: 1.58s\tremaining: 1.76s\n",
      "473:\tlearn: 0.6523905\ttotal: 1.59s\tremaining: 1.76s\n",
      "474:\tlearn: 0.6521501\ttotal: 1.59s\tremaining: 1.76s\n",
      "475:\tlearn: 0.6518904\ttotal: 1.6s\tremaining: 1.76s\n",
      "476:\tlearn: 0.6514914\ttotal: 1.6s\tremaining: 1.75s\n",
      "477:\tlearn: 0.6510997\ttotal: 1.6s\tremaining: 1.75s\n",
      "478:\tlearn: 0.6507704\ttotal: 1.61s\tremaining: 1.75s\n",
      "479:\tlearn: 0.6503526\ttotal: 1.61s\tremaining: 1.75s\n",
      "480:\tlearn: 0.6499290\ttotal: 1.62s\tremaining: 1.74s\n",
      "481:\tlearn: 0.6496091\ttotal: 1.62s\tremaining: 1.74s\n",
      "482:\tlearn: 0.6493501\ttotal: 1.62s\tremaining: 1.74s\n",
      "483:\tlearn: 0.6490350\ttotal: 1.63s\tremaining: 1.73s\n",
      "484:\tlearn: 0.6488043\ttotal: 1.63s\tremaining: 1.73s\n",
      "485:\tlearn: 0.6485776\ttotal: 1.63s\tremaining: 1.73s\n",
      "486:\tlearn: 0.6483384\ttotal: 1.64s\tremaining: 1.73s\n",
      "487:\tlearn: 0.6481277\ttotal: 1.64s\tremaining: 1.72s\n",
      "488:\tlearn: 0.6477397\ttotal: 1.65s\tremaining: 1.72s\n",
      "489:\tlearn: 0.6475636\ttotal: 1.65s\tremaining: 1.72s\n",
      "490:\tlearn: 0.6471867\ttotal: 1.65s\tremaining: 1.71s\n",
      "491:\tlearn: 0.6468445\ttotal: 1.66s\tremaining: 1.71s\n",
      "492:\tlearn: 0.6466119\ttotal: 1.66s\tremaining: 1.71s\n",
      "493:\tlearn: 0.6463941\ttotal: 1.66s\tremaining: 1.7s\n",
      "494:\tlearn: 0.6461680\ttotal: 1.67s\tremaining: 1.7s\n",
      "495:\tlearn: 0.6458857\ttotal: 1.67s\tremaining: 1.7s\n",
      "496:\tlearn: 0.6456189\ttotal: 1.67s\tremaining: 1.69s\n",
      "497:\tlearn: 0.6454080\ttotal: 1.68s\tremaining: 1.69s\n",
      "498:\tlearn: 0.6451201\ttotal: 1.68s\tremaining: 1.69s\n",
      "499:\tlearn: 0.6449802\ttotal: 1.69s\tremaining: 1.69s\n",
      "500:\tlearn: 0.6447169\ttotal: 1.69s\tremaining: 1.68s\n",
      "501:\tlearn: 0.6444412\ttotal: 1.69s\tremaining: 1.68s\n",
      "502:\tlearn: 0.6442255\ttotal: 1.7s\tremaining: 1.68s\n",
      "503:\tlearn: 0.6439998\ttotal: 1.7s\tremaining: 1.67s\n",
      "504:\tlearn: 0.6437005\ttotal: 1.7s\tremaining: 1.67s\n",
      "505:\tlearn: 0.6435237\ttotal: 1.71s\tremaining: 1.67s\n",
      "506:\tlearn: 0.6432943\ttotal: 1.71s\tremaining: 1.67s\n",
      "507:\tlearn: 0.6430363\ttotal: 1.72s\tremaining: 1.66s\n",
      "508:\tlearn: 0.6429061\ttotal: 1.72s\tremaining: 1.66s\n",
      "509:\tlearn: 0.6427122\ttotal: 1.73s\tremaining: 1.66s\n",
      "510:\tlearn: 0.6423404\ttotal: 1.73s\tremaining: 1.66s\n",
      "511:\tlearn: 0.6421411\ttotal: 1.73s\tremaining: 1.65s\n",
      "512:\tlearn: 0.6418574\ttotal: 1.74s\tremaining: 1.65s\n",
      "513:\tlearn: 0.6416152\ttotal: 1.74s\tremaining: 1.65s\n",
      "514:\tlearn: 0.6414083\ttotal: 1.75s\tremaining: 1.64s\n",
      "515:\tlearn: 0.6411674\ttotal: 1.75s\tremaining: 1.64s\n",
      "516:\tlearn: 0.6410185\ttotal: 1.75s\tremaining: 1.64s\n",
      "517:\tlearn: 0.6407422\ttotal: 1.76s\tremaining: 1.64s\n",
      "518:\tlearn: 0.6405508\ttotal: 1.76s\tremaining: 1.63s\n",
      "519:\tlearn: 0.6403355\ttotal: 1.76s\tremaining: 1.63s\n",
      "520:\tlearn: 0.6400967\ttotal: 1.77s\tremaining: 1.63s\n",
      "521:\tlearn: 0.6397974\ttotal: 1.77s\tremaining: 1.62s\n",
      "522:\tlearn: 0.6395735\ttotal: 1.77s\tremaining: 1.62s\n",
      "523:\tlearn: 0.6393011\ttotal: 1.78s\tremaining: 1.62s\n",
      "524:\tlearn: 0.6389135\ttotal: 1.78s\tremaining: 1.61s\n",
      "525:\tlearn: 0.6386166\ttotal: 1.79s\tremaining: 1.61s\n",
      "526:\tlearn: 0.6384552\ttotal: 1.79s\tremaining: 1.61s\n",
      "527:\tlearn: 0.6382334\ttotal: 1.79s\tremaining: 1.6s\n",
      "528:\tlearn: 0.6379180\ttotal: 1.8s\tremaining: 1.6s\n",
      "529:\tlearn: 0.6377028\ttotal: 1.8s\tremaining: 1.59s\n",
      "530:\tlearn: 0.6374740\ttotal: 1.8s\tremaining: 1.59s\n",
      "531:\tlearn: 0.6372238\ttotal: 1.8s\tremaining: 1.59s\n",
      "532:\tlearn: 0.6369547\ttotal: 1.81s\tremaining: 1.58s\n",
      "533:\tlearn: 0.6366319\ttotal: 1.81s\tremaining: 1.58s\n",
      "534:\tlearn: 0.6363617\ttotal: 1.82s\tremaining: 1.58s\n",
      "535:\tlearn: 0.6361899\ttotal: 1.82s\tremaining: 1.57s\n",
      "536:\tlearn: 0.6359017\ttotal: 1.82s\tremaining: 1.57s\n",
      "537:\tlearn: 0.6356510\ttotal: 1.82s\tremaining: 1.57s\n",
      "538:\tlearn: 0.6354495\ttotal: 1.83s\tremaining: 1.56s\n",
      "539:\tlearn: 0.6351523\ttotal: 1.83s\tremaining: 1.56s\n",
      "540:\tlearn: 0.6349490\ttotal: 1.83s\tremaining: 1.56s\n",
      "541:\tlearn: 0.6347103\ttotal: 1.84s\tremaining: 1.55s\n",
      "542:\tlearn: 0.6344801\ttotal: 1.84s\tremaining: 1.55s\n",
      "543:\tlearn: 0.6342474\ttotal: 1.84s\tremaining: 1.55s\n",
      "544:\tlearn: 0.6338508\ttotal: 1.85s\tremaining: 1.54s\n",
      "545:\tlearn: 0.6336905\ttotal: 1.85s\tremaining: 1.54s\n",
      "546:\tlearn: 0.6334149\ttotal: 1.85s\tremaining: 1.54s\n",
      "547:\tlearn: 0.6332196\ttotal: 1.86s\tremaining: 1.53s\n",
      "548:\tlearn: 0.6329977\ttotal: 1.86s\tremaining: 1.53s\n",
      "549:\tlearn: 0.6327430\ttotal: 1.87s\tremaining: 1.53s\n",
      "550:\tlearn: 0.6325158\ttotal: 1.87s\tremaining: 1.52s\n",
      "551:\tlearn: 0.6321894\ttotal: 1.88s\tremaining: 1.52s\n",
      "552:\tlearn: 0.6319505\ttotal: 1.88s\tremaining: 1.52s\n",
      "553:\tlearn: 0.6316795\ttotal: 1.88s\tremaining: 1.51s\n",
      "554:\tlearn: 0.6314806\ttotal: 1.89s\tremaining: 1.51s\n",
      "555:\tlearn: 0.6312792\ttotal: 1.89s\tremaining: 1.51s\n",
      "556:\tlearn: 0.6310643\ttotal: 1.89s\tremaining: 1.5s\n",
      "557:\tlearn: 0.6307599\ttotal: 1.9s\tremaining: 1.5s\n",
      "558:\tlearn: 0.6304186\ttotal: 1.9s\tremaining: 1.5s\n",
      "559:\tlearn: 0.6302560\ttotal: 1.91s\tremaining: 1.5s\n",
      "560:\tlearn: 0.6299359\ttotal: 1.91s\tremaining: 1.5s\n",
      "561:\tlearn: 0.6296874\ttotal: 1.91s\tremaining: 1.49s\n",
      "562:\tlearn: 0.6294516\ttotal: 1.92s\tremaining: 1.49s\n",
      "563:\tlearn: 0.6292122\ttotal: 1.92s\tremaining: 1.49s\n",
      "564:\tlearn: 0.6290115\ttotal: 1.93s\tremaining: 1.48s\n",
      "565:\tlearn: 0.6287553\ttotal: 1.93s\tremaining: 1.48s\n",
      "566:\tlearn: 0.6284432\ttotal: 1.93s\tremaining: 1.48s\n",
      "567:\tlearn: 0.6282730\ttotal: 1.94s\tremaining: 1.47s\n",
      "568:\tlearn: 0.6281411\ttotal: 1.94s\tremaining: 1.47s\n",
      "569:\tlearn: 0.6279424\ttotal: 1.94s\tremaining: 1.47s\n",
      "570:\tlearn: 0.6277368\ttotal: 1.95s\tremaining: 1.46s\n",
      "571:\tlearn: 0.6275518\ttotal: 1.95s\tremaining: 1.46s\n",
      "572:\tlearn: 0.6273634\ttotal: 1.95s\tremaining: 1.46s\n",
      "573:\tlearn: 0.6271646\ttotal: 1.96s\tremaining: 1.45s\n",
      "574:\tlearn: 0.6269849\ttotal: 1.96s\tremaining: 1.45s\n",
      "575:\tlearn: 0.6268322\ttotal: 1.96s\tremaining: 1.44s\n",
      "576:\tlearn: 0.6266530\ttotal: 1.97s\tremaining: 1.44s\n",
      "577:\tlearn: 0.6264769\ttotal: 1.97s\tremaining: 1.44s\n",
      "578:\tlearn: 0.6262684\ttotal: 1.97s\tremaining: 1.43s\n",
      "579:\tlearn: 0.6261474\ttotal: 1.98s\tremaining: 1.43s\n",
      "580:\tlearn: 0.6258749\ttotal: 1.98s\tremaining: 1.43s\n",
      "581:\tlearn: 0.6256831\ttotal: 1.98s\tremaining: 1.42s\n",
      "582:\tlearn: 0.6254119\ttotal: 1.99s\tremaining: 1.42s\n",
      "583:\tlearn: 0.6250965\ttotal: 1.99s\tremaining: 1.42s\n",
      "584:\tlearn: 0.6248728\ttotal: 1.99s\tremaining: 1.41s\n",
      "585:\tlearn: 0.6246735\ttotal: 2s\tremaining: 1.41s\n",
      "586:\tlearn: 0.6244211\ttotal: 2s\tremaining: 1.41s\n",
      "587:\tlearn: 0.6241913\ttotal: 2s\tremaining: 1.4s\n",
      "588:\tlearn: 0.6239480\ttotal: 2s\tremaining: 1.4s\n",
      "589:\tlearn: 0.6237608\ttotal: 2.01s\tremaining: 1.4s\n",
      "590:\tlearn: 0.6235842\ttotal: 2.01s\tremaining: 1.39s\n",
      "591:\tlearn: 0.6233546\ttotal: 2.02s\tremaining: 1.39s\n",
      "592:\tlearn: 0.6231466\ttotal: 2.02s\tremaining: 1.39s\n",
      "593:\tlearn: 0.6229808\ttotal: 2.02s\tremaining: 1.38s\n",
      "594:\tlearn: 0.6227946\ttotal: 2.02s\tremaining: 1.38s\n",
      "595:\tlearn: 0.6225206\ttotal: 2.03s\tremaining: 1.38s\n",
      "596:\tlearn: 0.6222771\ttotal: 2.03s\tremaining: 1.37s\n",
      "597:\tlearn: 0.6219543\ttotal: 2.04s\tremaining: 1.37s\n",
      "598:\tlearn: 0.6217728\ttotal: 2.04s\tremaining: 1.36s\n",
      "599:\tlearn: 0.6215438\ttotal: 2.04s\tremaining: 1.36s\n",
      "600:\tlearn: 0.6213452\ttotal: 2.05s\tremaining: 1.36s\n",
      "601:\tlearn: 0.6211087\ttotal: 2.05s\tremaining: 1.35s\n",
      "602:\tlearn: 0.6209059\ttotal: 2.05s\tremaining: 1.35s\n",
      "603:\tlearn: 0.6207134\ttotal: 2.06s\tremaining: 1.35s\n",
      "604:\tlearn: 0.6205043\ttotal: 2.06s\tremaining: 1.34s\n",
      "605:\tlearn: 0.6203106\ttotal: 2.06s\tremaining: 1.34s\n",
      "606:\tlearn: 0.6200825\ttotal: 2.07s\tremaining: 1.34s\n",
      "607:\tlearn: 0.6199295\ttotal: 2.07s\tremaining: 1.34s\n",
      "608:\tlearn: 0.6197465\ttotal: 2.08s\tremaining: 1.33s\n",
      "609:\tlearn: 0.6195896\ttotal: 2.08s\tremaining: 1.33s\n",
      "610:\tlearn: 0.6194086\ttotal: 2.09s\tremaining: 1.33s\n",
      "611:\tlearn: 0.6192104\ttotal: 2.09s\tremaining: 1.32s\n",
      "612:\tlearn: 0.6190562\ttotal: 2.09s\tremaining: 1.32s\n",
      "613:\tlearn: 0.6187933\ttotal: 2.1s\tremaining: 1.32s\n",
      "614:\tlearn: 0.6186156\ttotal: 2.1s\tremaining: 1.31s\n",
      "615:\tlearn: 0.6183542\ttotal: 2.1s\tremaining: 1.31s\n",
      "616:\tlearn: 0.6181542\ttotal: 2.11s\tremaining: 1.31s\n",
      "617:\tlearn: 0.6179984\ttotal: 2.11s\tremaining: 1.3s\n",
      "618:\tlearn: 0.6178433\ttotal: 2.12s\tremaining: 1.3s\n",
      "619:\tlearn: 0.6176379\ttotal: 2.12s\tremaining: 1.3s\n",
      "620:\tlearn: 0.6174825\ttotal: 2.12s\tremaining: 1.29s\n",
      "621:\tlearn: 0.6173198\ttotal: 2.13s\tremaining: 1.29s\n",
      "622:\tlearn: 0.6170465\ttotal: 2.13s\tremaining: 1.29s\n",
      "623:\tlearn: 0.6167893\ttotal: 2.13s\tremaining: 1.28s\n",
      "624:\tlearn: 0.6165470\ttotal: 2.13s\tremaining: 1.28s\n",
      "625:\tlearn: 0.6162531\ttotal: 2.14s\tremaining: 1.28s\n",
      "626:\tlearn: 0.6161398\ttotal: 2.14s\tremaining: 1.27s\n",
      "627:\tlearn: 0.6159592\ttotal: 2.15s\tremaining: 1.27s\n",
      "628:\tlearn: 0.6157994\ttotal: 2.15s\tremaining: 1.27s\n",
      "629:\tlearn: 0.6156717\ttotal: 2.15s\tremaining: 1.26s\n",
      "630:\tlearn: 0.6153647\ttotal: 2.16s\tremaining: 1.26s\n",
      "631:\tlearn: 0.6151946\ttotal: 2.16s\tremaining: 1.26s\n",
      "632:\tlearn: 0.6149977\ttotal: 2.16s\tremaining: 1.25s\n",
      "633:\tlearn: 0.6148076\ttotal: 2.17s\tremaining: 1.25s\n",
      "634:\tlearn: 0.6146381\ttotal: 2.17s\tremaining: 1.25s\n",
      "635:\tlearn: 0.6143764\ttotal: 2.17s\tremaining: 1.24s\n",
      "636:\tlearn: 0.6141508\ttotal: 2.18s\tremaining: 1.24s\n",
      "637:\tlearn: 0.6139866\ttotal: 2.18s\tremaining: 1.24s\n",
      "638:\tlearn: 0.6137452\ttotal: 2.18s\tremaining: 1.23s\n",
      "639:\tlearn: 0.6135702\ttotal: 2.19s\tremaining: 1.23s\n",
      "640:\tlearn: 0.6134062\ttotal: 2.19s\tremaining: 1.23s\n",
      "641:\tlearn: 0.6132519\ttotal: 2.19s\tremaining: 1.22s\n",
      "642:\tlearn: 0.6131121\ttotal: 2.2s\tremaining: 1.22s\n",
      "643:\tlearn: 0.6129005\ttotal: 2.2s\tremaining: 1.22s\n",
      "644:\tlearn: 0.6127514\ttotal: 2.2s\tremaining: 1.21s\n",
      "645:\tlearn: 0.6125326\ttotal: 2.21s\tremaining: 1.21s\n",
      "646:\tlearn: 0.6123414\ttotal: 2.21s\tremaining: 1.21s\n",
      "647:\tlearn: 0.6121495\ttotal: 2.21s\tremaining: 1.2s\n",
      "648:\tlearn: 0.6119850\ttotal: 2.22s\tremaining: 1.2s\n",
      "649:\tlearn: 0.6118003\ttotal: 2.22s\tremaining: 1.2s\n",
      "650:\tlearn: 0.6116869\ttotal: 2.22s\tremaining: 1.19s\n",
      "651:\tlearn: 0.6114171\ttotal: 2.23s\tremaining: 1.19s\n",
      "652:\tlearn: 0.6111978\ttotal: 2.23s\tremaining: 1.19s\n",
      "653:\tlearn: 0.6110186\ttotal: 2.23s\tremaining: 1.18s\n",
      "654:\tlearn: 0.6109147\ttotal: 2.24s\tremaining: 1.18s\n",
      "655:\tlearn: 0.6107855\ttotal: 2.24s\tremaining: 1.17s\n",
      "656:\tlearn: 0.6105852\ttotal: 2.25s\tremaining: 1.17s\n",
      "657:\tlearn: 0.6103488\ttotal: 2.25s\tremaining: 1.17s\n",
      "658:\tlearn: 0.6101703\ttotal: 2.25s\tremaining: 1.17s\n",
      "659:\tlearn: 0.6099340\ttotal: 2.26s\tremaining: 1.16s\n",
      "660:\tlearn: 0.6096712\ttotal: 2.26s\tremaining: 1.16s\n",
      "661:\tlearn: 0.6093469\ttotal: 2.27s\tremaining: 1.16s\n",
      "662:\tlearn: 0.6092009\ttotal: 2.27s\tremaining: 1.15s\n",
      "663:\tlearn: 0.6090378\ttotal: 2.27s\tremaining: 1.15s\n",
      "664:\tlearn: 0.6089053\ttotal: 2.28s\tremaining: 1.15s\n",
      "665:\tlearn: 0.6086454\ttotal: 2.28s\tremaining: 1.14s\n",
      "666:\tlearn: 0.6084543\ttotal: 2.29s\tremaining: 1.14s\n",
      "667:\tlearn: 0.6082990\ttotal: 2.29s\tremaining: 1.14s\n",
      "668:\tlearn: 0.6080501\ttotal: 2.29s\tremaining: 1.13s\n",
      "669:\tlearn: 0.6078655\ttotal: 2.29s\tremaining: 1.13s\n",
      "670:\tlearn: 0.6076781\ttotal: 2.3s\tremaining: 1.13s\n",
      "671:\tlearn: 0.6074794\ttotal: 2.3s\tremaining: 1.12s\n",
      "672:\tlearn: 0.6072184\ttotal: 2.3s\tremaining: 1.12s\n",
      "673:\tlearn: 0.6070002\ttotal: 2.31s\tremaining: 1.12s\n",
      "674:\tlearn: 0.6068285\ttotal: 2.31s\tremaining: 1.11s\n",
      "675:\tlearn: 0.6066335\ttotal: 2.31s\tremaining: 1.11s\n",
      "676:\tlearn: 0.6063969\ttotal: 2.32s\tremaining: 1.1s\n",
      "677:\tlearn: 0.6062013\ttotal: 2.32s\tremaining: 1.1s\n",
      "678:\tlearn: 0.6059778\ttotal: 2.32s\tremaining: 1.1s\n",
      "679:\tlearn: 0.6057724\ttotal: 2.33s\tremaining: 1.09s\n",
      "680:\tlearn: 0.6056724\ttotal: 2.33s\tremaining: 1.09s\n",
      "681:\tlearn: 0.6055351\ttotal: 2.33s\tremaining: 1.09s\n",
      "682:\tlearn: 0.6053853\ttotal: 2.34s\tremaining: 1.08s\n",
      "683:\tlearn: 0.6051927\ttotal: 2.34s\tremaining: 1.08s\n",
      "684:\tlearn: 0.6050038\ttotal: 2.34s\tremaining: 1.08s\n",
      "685:\tlearn: 0.6048481\ttotal: 2.35s\tremaining: 1.07s\n",
      "686:\tlearn: 0.6046743\ttotal: 2.35s\tremaining: 1.07s\n",
      "687:\tlearn: 0.6045167\ttotal: 2.35s\tremaining: 1.07s\n",
      "688:\tlearn: 0.6042890\ttotal: 2.36s\tremaining: 1.06s\n",
      "689:\tlearn: 0.6040976\ttotal: 2.36s\tremaining: 1.06s\n",
      "690:\tlearn: 0.6039296\ttotal: 2.36s\tremaining: 1.06s\n",
      "691:\tlearn: 0.6037753\ttotal: 2.37s\tremaining: 1.05s\n",
      "692:\tlearn: 0.6035956\ttotal: 2.37s\tremaining: 1.05s\n",
      "693:\tlearn: 0.6034704\ttotal: 2.37s\tremaining: 1.05s\n",
      "694:\tlearn: 0.6033060\ttotal: 2.38s\tremaining: 1.04s\n",
      "695:\tlearn: 0.6031546\ttotal: 2.38s\tremaining: 1.04s\n",
      "696:\tlearn: 0.6030112\ttotal: 2.38s\tremaining: 1.04s\n",
      "697:\tlearn: 0.6028675\ttotal: 2.39s\tremaining: 1.03s\n",
      "698:\tlearn: 0.6026857\ttotal: 2.39s\tremaining: 1.03s\n",
      "699:\tlearn: 0.6025677\ttotal: 2.39s\tremaining: 1.02s\n",
      "700:\tlearn: 0.6023778\ttotal: 2.4s\tremaining: 1.02s\n",
      "701:\tlearn: 0.6022049\ttotal: 2.4s\tremaining: 1.02s\n",
      "702:\tlearn: 0.6020526\ttotal: 2.4s\tremaining: 1.01s\n",
      "703:\tlearn: 0.6017811\ttotal: 2.4s\tremaining: 1.01s\n",
      "704:\tlearn: 0.6016421\ttotal: 2.41s\tremaining: 1.01s\n",
      "705:\tlearn: 0.6015427\ttotal: 2.41s\tremaining: 1s\n",
      "706:\tlearn: 0.6013028\ttotal: 2.42s\tremaining: 1s\n",
      "707:\tlearn: 0.6011240\ttotal: 2.42s\tremaining: 999ms\n",
      "708:\tlearn: 0.6009138\ttotal: 2.43s\tremaining: 997ms\n",
      "709:\tlearn: 0.6007528\ttotal: 2.43s\tremaining: 994ms\n",
      "710:\tlearn: 0.6005802\ttotal: 2.44s\tremaining: 992ms\n",
      "711:\tlearn: 0.6004115\ttotal: 2.44s\tremaining: 989ms\n",
      "712:\tlearn: 0.6002126\ttotal: 2.45s\tremaining: 986ms\n",
      "713:\tlearn: 0.6000193\ttotal: 2.46s\tremaining: 983ms\n",
      "714:\tlearn: 0.5998409\ttotal: 2.46s\tremaining: 980ms\n",
      "715:\tlearn: 0.5997215\ttotal: 2.46s\tremaining: 977ms\n",
      "716:\tlearn: 0.5995251\ttotal: 2.47s\tremaining: 973ms\n",
      "717:\tlearn: 0.5993715\ttotal: 2.47s\tremaining: 970ms\n",
      "718:\tlearn: 0.5991952\ttotal: 2.47s\tremaining: 966ms\n",
      "719:\tlearn: 0.5989977\ttotal: 2.48s\tremaining: 963ms\n",
      "720:\tlearn: 0.5988034\ttotal: 2.48s\tremaining: 960ms\n",
      "721:\tlearn: 0.5986812\ttotal: 2.48s\tremaining: 957ms\n",
      "722:\tlearn: 0.5985866\ttotal: 2.49s\tremaining: 953ms\n",
      "723:\tlearn: 0.5984270\ttotal: 2.49s\tremaining: 950ms\n",
      "724:\tlearn: 0.5982327\ttotal: 2.49s\tremaining: 946ms\n",
      "725:\tlearn: 0.5980163\ttotal: 2.5s\tremaining: 943ms\n",
      "726:\tlearn: 0.5978679\ttotal: 2.5s\tremaining: 939ms\n",
      "727:\tlearn: 0.5976652\ttotal: 2.5s\tremaining: 936ms\n",
      "728:\tlearn: 0.5974692\ttotal: 2.51s\tremaining: 932ms\n",
      "729:\tlearn: 0.5973081\ttotal: 2.51s\tremaining: 929ms\n",
      "730:\tlearn: 0.5971134\ttotal: 2.52s\tremaining: 926ms\n",
      "731:\tlearn: 0.5968570\ttotal: 2.52s\tremaining: 923ms\n",
      "732:\tlearn: 0.5967692\ttotal: 2.52s\tremaining: 919ms\n",
      "733:\tlearn: 0.5966209\ttotal: 2.53s\tremaining: 916ms\n",
      "734:\tlearn: 0.5964097\ttotal: 2.53s\tremaining: 912ms\n",
      "735:\tlearn: 0.5961913\ttotal: 2.53s\tremaining: 909ms\n",
      "736:\tlearn: 0.5959497\ttotal: 2.54s\tremaining: 906ms\n",
      "737:\tlearn: 0.5958038\ttotal: 2.54s\tremaining: 903ms\n",
      "738:\tlearn: 0.5956497\ttotal: 2.55s\tremaining: 899ms\n",
      "739:\tlearn: 0.5954881\ttotal: 2.55s\tremaining: 896ms\n",
      "740:\tlearn: 0.5952709\ttotal: 2.55s\tremaining: 893ms\n",
      "741:\tlearn: 0.5950614\ttotal: 2.56s\tremaining: 890ms\n",
      "742:\tlearn: 0.5949079\ttotal: 2.56s\tremaining: 886ms\n",
      "743:\tlearn: 0.5946333\ttotal: 2.56s\tremaining: 883ms\n",
      "744:\tlearn: 0.5945066\ttotal: 2.57s\tremaining: 879ms\n",
      "745:\tlearn: 0.5943751\ttotal: 2.57s\tremaining: 875ms\n",
      "746:\tlearn: 0.5941551\ttotal: 2.57s\tremaining: 872ms\n",
      "747:\tlearn: 0.5939058\ttotal: 2.58s\tremaining: 868ms\n",
      "748:\tlearn: 0.5937809\ttotal: 2.58s\tremaining: 865ms\n",
      "749:\tlearn: 0.5936238\ttotal: 2.58s\tremaining: 861ms\n",
      "750:\tlearn: 0.5934686\ttotal: 2.59s\tremaining: 858ms\n",
      "751:\tlearn: 0.5933251\ttotal: 2.59s\tremaining: 855ms\n",
      "752:\tlearn: 0.5931833\ttotal: 2.6s\tremaining: 852ms\n",
      "753:\tlearn: 0.5929804\ttotal: 2.6s\tremaining: 849ms\n",
      "754:\tlearn: 0.5928227\ttotal: 2.61s\tremaining: 846ms\n",
      "755:\tlearn: 0.5926721\ttotal: 2.61s\tremaining: 842ms\n",
      "756:\tlearn: 0.5925275\ttotal: 2.61s\tremaining: 839ms\n",
      "757:\tlearn: 0.5923457\ttotal: 2.62s\tremaining: 835ms\n",
      "758:\tlearn: 0.5921272\ttotal: 2.62s\tremaining: 832ms\n",
      "759:\tlearn: 0.5920660\ttotal: 2.63s\tremaining: 829ms\n",
      "760:\tlearn: 0.5919167\ttotal: 2.63s\tremaining: 825ms\n",
      "761:\tlearn: 0.5917174\ttotal: 2.63s\tremaining: 822ms\n",
      "762:\tlearn: 0.5915727\ttotal: 2.63s\tremaining: 819ms\n",
      "763:\tlearn: 0.5914583\ttotal: 2.64s\tremaining: 815ms\n",
      "764:\tlearn: 0.5913301\ttotal: 2.64s\tremaining: 812ms\n",
      "765:\tlearn: 0.5911843\ttotal: 2.65s\tremaining: 808ms\n",
      "766:\tlearn: 0.5909869\ttotal: 2.65s\tremaining: 805ms\n",
      "767:\tlearn: 0.5907639\ttotal: 2.65s\tremaining: 801ms\n",
      "768:\tlearn: 0.5906240\ttotal: 2.65s\tremaining: 798ms\n",
      "769:\tlearn: 0.5904844\ttotal: 2.66s\tremaining: 794ms\n",
      "770:\tlearn: 0.5902533\ttotal: 2.66s\tremaining: 791ms\n",
      "771:\tlearn: 0.5900598\ttotal: 2.67s\tremaining: 787ms\n",
      "772:\tlearn: 0.5898746\ttotal: 2.67s\tremaining: 784ms\n",
      "773:\tlearn: 0.5897354\ttotal: 2.67s\tremaining: 780ms\n",
      "774:\tlearn: 0.5896157\ttotal: 2.67s\tremaining: 777ms\n",
      "775:\tlearn: 0.5894256\ttotal: 2.68s\tremaining: 773ms\n",
      "776:\tlearn: 0.5892748\ttotal: 2.68s\tremaining: 770ms\n",
      "777:\tlearn: 0.5891382\ttotal: 2.69s\tremaining: 766ms\n",
      "778:\tlearn: 0.5889523\ttotal: 2.69s\tremaining: 763ms\n",
      "779:\tlearn: 0.5888177\ttotal: 2.69s\tremaining: 759ms\n",
      "780:\tlearn: 0.5886953\ttotal: 2.69s\tremaining: 756ms\n",
      "781:\tlearn: 0.5885781\ttotal: 2.7s\tremaining: 752ms\n",
      "782:\tlearn: 0.5884344\ttotal: 2.7s\tremaining: 748ms\n",
      "783:\tlearn: 0.5882894\ttotal: 2.7s\tremaining: 745ms\n",
      "784:\tlearn: 0.5881405\ttotal: 2.71s\tremaining: 742ms\n",
      "785:\tlearn: 0.5879842\ttotal: 2.71s\tremaining: 738ms\n",
      "786:\tlearn: 0.5877939\ttotal: 2.71s\tremaining: 735ms\n",
      "787:\tlearn: 0.5876165\ttotal: 2.72s\tremaining: 731ms\n",
      "788:\tlearn: 0.5874741\ttotal: 2.72s\tremaining: 728ms\n",
      "789:\tlearn: 0.5873233\ttotal: 2.72s\tremaining: 724ms\n",
      "790:\tlearn: 0.5872130\ttotal: 2.73s\tremaining: 721ms\n",
      "791:\tlearn: 0.5870398\ttotal: 2.73s\tremaining: 717ms\n",
      "792:\tlearn: 0.5868775\ttotal: 2.73s\tremaining: 713ms\n",
      "793:\tlearn: 0.5867905\ttotal: 2.74s\tremaining: 710ms\n",
      "794:\tlearn: 0.5866532\ttotal: 2.74s\tremaining: 706ms\n",
      "795:\tlearn: 0.5865523\ttotal: 2.74s\tremaining: 703ms\n",
      "796:\tlearn: 0.5863860\ttotal: 2.75s\tremaining: 699ms\n",
      "797:\tlearn: 0.5861671\ttotal: 2.75s\tremaining: 696ms\n",
      "798:\tlearn: 0.5860422\ttotal: 2.75s\tremaining: 692ms\n",
      "799:\tlearn: 0.5859330\ttotal: 2.75s\tremaining: 689ms\n",
      "800:\tlearn: 0.5858300\ttotal: 2.76s\tremaining: 686ms\n",
      "801:\tlearn: 0.5856125\ttotal: 2.76s\tremaining: 682ms\n",
      "802:\tlearn: 0.5854583\ttotal: 2.77s\tremaining: 679ms\n",
      "803:\tlearn: 0.5853326\ttotal: 2.77s\tremaining: 676ms\n",
      "804:\tlearn: 0.5852225\ttotal: 2.78s\tremaining: 673ms\n",
      "805:\tlearn: 0.5851037\ttotal: 2.78s\tremaining: 669ms\n",
      "806:\tlearn: 0.5849165\ttotal: 2.78s\tremaining: 666ms\n",
      "807:\tlearn: 0.5847684\ttotal: 2.79s\tremaining: 663ms\n",
      "808:\tlearn: 0.5846301\ttotal: 2.79s\tremaining: 659ms\n",
      "809:\tlearn: 0.5845440\ttotal: 2.79s\tremaining: 656ms\n",
      "810:\tlearn: 0.5844045\ttotal: 2.8s\tremaining: 652ms\n",
      "811:\tlearn: 0.5842046\ttotal: 2.8s\tremaining: 649ms\n",
      "812:\tlearn: 0.5840232\ttotal: 2.8s\tremaining: 645ms\n",
      "813:\tlearn: 0.5838939\ttotal: 2.81s\tremaining: 642ms\n",
      "814:\tlearn: 0.5837618\ttotal: 2.81s\tremaining: 638ms\n",
      "815:\tlearn: 0.5836802\ttotal: 2.81s\tremaining: 635ms\n",
      "816:\tlearn: 0.5835463\ttotal: 2.82s\tremaining: 631ms\n",
      "817:\tlearn: 0.5834148\ttotal: 2.82s\tremaining: 628ms\n",
      "818:\tlearn: 0.5832745\ttotal: 2.82s\tremaining: 624ms\n",
      "819:\tlearn: 0.5831577\ttotal: 2.83s\tremaining: 621ms\n",
      "820:\tlearn: 0.5830148\ttotal: 2.83s\tremaining: 617ms\n",
      "821:\tlearn: 0.5828712\ttotal: 2.83s\tremaining: 613ms\n",
      "822:\tlearn: 0.5827247\ttotal: 2.84s\tremaining: 610ms\n",
      "823:\tlearn: 0.5826148\ttotal: 2.84s\tremaining: 607ms\n",
      "824:\tlearn: 0.5824492\ttotal: 2.84s\tremaining: 603ms\n",
      "825:\tlearn: 0.5823039\ttotal: 2.85s\tremaining: 600ms\n",
      "826:\tlearn: 0.5821483\ttotal: 2.85s\tremaining: 597ms\n",
      "827:\tlearn: 0.5820343\ttotal: 2.85s\tremaining: 593ms\n",
      "828:\tlearn: 0.5818747\ttotal: 2.86s\tremaining: 590ms\n",
      "829:\tlearn: 0.5817483\ttotal: 2.86s\tremaining: 586ms\n",
      "830:\tlearn: 0.5816211\ttotal: 2.87s\tremaining: 583ms\n",
      "831:\tlearn: 0.5814116\ttotal: 2.87s\tremaining: 580ms\n",
      "832:\tlearn: 0.5812607\ttotal: 2.87s\tremaining: 576ms\n",
      "833:\tlearn: 0.5811197\ttotal: 2.88s\tremaining: 573ms\n",
      "834:\tlearn: 0.5809995\ttotal: 2.88s\tremaining: 569ms\n",
      "835:\tlearn: 0.5808881\ttotal: 2.88s\tremaining: 566ms\n",
      "836:\tlearn: 0.5806960\ttotal: 2.89s\tremaining: 562ms\n",
      "837:\tlearn: 0.5805606\ttotal: 2.89s\tremaining: 559ms\n",
      "838:\tlearn: 0.5803819\ttotal: 2.89s\tremaining: 555ms\n",
      "839:\tlearn: 0.5801974\ttotal: 2.9s\tremaining: 552ms\n",
      "840:\tlearn: 0.5800610\ttotal: 2.9s\tremaining: 548ms\n",
      "841:\tlearn: 0.5799849\ttotal: 2.9s\tremaining: 545ms\n",
      "842:\tlearn: 0.5797693\ttotal: 2.91s\tremaining: 541ms\n",
      "843:\tlearn: 0.5796354\ttotal: 2.91s\tremaining: 538ms\n",
      "844:\tlearn: 0.5794299\ttotal: 2.91s\tremaining: 534ms\n",
      "845:\tlearn: 0.5792721\ttotal: 2.92s\tremaining: 531ms\n",
      "846:\tlearn: 0.5791591\ttotal: 2.92s\tremaining: 527ms\n",
      "847:\tlearn: 0.5790440\ttotal: 2.92s\tremaining: 524ms\n",
      "848:\tlearn: 0.5788598\ttotal: 2.93s\tremaining: 520ms\n",
      "849:\tlearn: 0.5786791\ttotal: 2.93s\tremaining: 517ms\n",
      "850:\tlearn: 0.5784962\ttotal: 2.93s\tremaining: 514ms\n",
      "851:\tlearn: 0.5783748\ttotal: 2.94s\tremaining: 511ms\n",
      "852:\tlearn: 0.5782114\ttotal: 2.94s\tremaining: 507ms\n",
      "853:\tlearn: 0.5780990\ttotal: 2.95s\tremaining: 504ms\n",
      "854:\tlearn: 0.5779675\ttotal: 2.95s\tremaining: 500ms\n",
      "855:\tlearn: 0.5777589\ttotal: 2.96s\tremaining: 497ms\n",
      "856:\tlearn: 0.5775978\ttotal: 2.96s\tremaining: 494ms\n",
      "857:\tlearn: 0.5774449\ttotal: 2.96s\tremaining: 490ms\n",
      "858:\tlearn: 0.5773095\ttotal: 2.96s\tremaining: 487ms\n",
      "859:\tlearn: 0.5771964\ttotal: 2.97s\tremaining: 483ms\n",
      "860:\tlearn: 0.5770178\ttotal: 2.97s\tremaining: 480ms\n",
      "861:\tlearn: 0.5769000\ttotal: 2.98s\tremaining: 477ms\n",
      "862:\tlearn: 0.5767677\ttotal: 2.98s\tremaining: 473ms\n",
      "863:\tlearn: 0.5765894\ttotal: 2.98s\tremaining: 470ms\n",
      "864:\tlearn: 0.5765120\ttotal: 2.99s\tremaining: 466ms\n",
      "865:\tlearn: 0.5764106\ttotal: 2.99s\tremaining: 463ms\n",
      "866:\tlearn: 0.5762913\ttotal: 2.99s\tremaining: 459ms\n",
      "867:\tlearn: 0.5761580\ttotal: 3s\tremaining: 456ms\n",
      "868:\tlearn: 0.5760543\ttotal: 3s\tremaining: 452ms\n",
      "869:\tlearn: 0.5759418\ttotal: 3s\tremaining: 449ms\n",
      "870:\tlearn: 0.5758356\ttotal: 3.01s\tremaining: 445ms\n",
      "871:\tlearn: 0.5756896\ttotal: 3.01s\tremaining: 442ms\n",
      "872:\tlearn: 0.5755751\ttotal: 3.01s\tremaining: 438ms\n",
      "873:\tlearn: 0.5754768\ttotal: 3.02s\tremaining: 435ms\n",
      "874:\tlearn: 0.5753681\ttotal: 3.02s\tremaining: 431ms\n",
      "875:\tlearn: 0.5752681\ttotal: 3.02s\tremaining: 428ms\n",
      "876:\tlearn: 0.5751420\ttotal: 3.03s\tremaining: 425ms\n",
      "877:\tlearn: 0.5750059\ttotal: 3.03s\tremaining: 421ms\n",
      "878:\tlearn: 0.5748567\ttotal: 3.04s\tremaining: 418ms\n",
      "879:\tlearn: 0.5746943\ttotal: 3.04s\tremaining: 414ms\n",
      "880:\tlearn: 0.5745838\ttotal: 3.04s\tremaining: 411ms\n",
      "881:\tlearn: 0.5744224\ttotal: 3.04s\tremaining: 407ms\n",
      "882:\tlearn: 0.5743140\ttotal: 3.05s\tremaining: 404ms\n",
      "883:\tlearn: 0.5742021\ttotal: 3.05s\tremaining: 401ms\n",
      "884:\tlearn: 0.5740631\ttotal: 3.06s\tremaining: 397ms\n",
      "885:\tlearn: 0.5739578\ttotal: 3.06s\tremaining: 394ms\n",
      "886:\tlearn: 0.5738282\ttotal: 3.06s\tremaining: 390ms\n",
      "887:\tlearn: 0.5736900\ttotal: 3.06s\tremaining: 387ms\n",
      "888:\tlearn: 0.5735648\ttotal: 3.07s\tremaining: 383ms\n",
      "889:\tlearn: 0.5733927\ttotal: 3.07s\tremaining: 380ms\n",
      "890:\tlearn: 0.5732184\ttotal: 3.08s\tremaining: 376ms\n",
      "891:\tlearn: 0.5730454\ttotal: 3.08s\tremaining: 373ms\n",
      "892:\tlearn: 0.5728657\ttotal: 3.08s\tremaining: 369ms\n",
      "893:\tlearn: 0.5727222\ttotal: 3.09s\tremaining: 366ms\n",
      "894:\tlearn: 0.5726187\ttotal: 3.09s\tremaining: 363ms\n",
      "895:\tlearn: 0.5725056\ttotal: 3.09s\tremaining: 359ms\n",
      "896:\tlearn: 0.5724061\ttotal: 3.1s\tremaining: 356ms\n",
      "897:\tlearn: 0.5722441\ttotal: 3.1s\tremaining: 352ms\n",
      "898:\tlearn: 0.5720684\ttotal: 3.1s\tremaining: 349ms\n",
      "899:\tlearn: 0.5719809\ttotal: 3.11s\tremaining: 345ms\n",
      "900:\tlearn: 0.5718489\ttotal: 3.11s\tremaining: 342ms\n",
      "901:\tlearn: 0.5717577\ttotal: 3.12s\tremaining: 339ms\n",
      "902:\tlearn: 0.5716565\ttotal: 3.12s\tremaining: 335ms\n",
      "903:\tlearn: 0.5714822\ttotal: 3.12s\tremaining: 332ms\n",
      "904:\tlearn: 0.5712728\ttotal: 3.13s\tremaining: 328ms\n",
      "905:\tlearn: 0.5711035\ttotal: 3.13s\tremaining: 325ms\n",
      "906:\tlearn: 0.5709423\ttotal: 3.14s\tremaining: 322ms\n",
      "907:\tlearn: 0.5708334\ttotal: 3.14s\tremaining: 318ms\n",
      "908:\tlearn: 0.5707081\ttotal: 3.15s\tremaining: 315ms\n",
      "909:\tlearn: 0.5705780\ttotal: 3.15s\tremaining: 311ms\n",
      "910:\tlearn: 0.5704477\ttotal: 3.15s\tremaining: 308ms\n",
      "911:\tlearn: 0.5703449\ttotal: 3.15s\tremaining: 304ms\n",
      "912:\tlearn: 0.5702355\ttotal: 3.16s\tremaining: 301ms\n",
      "913:\tlearn: 0.5701216\ttotal: 3.16s\tremaining: 298ms\n",
      "914:\tlearn: 0.5700343\ttotal: 3.17s\tremaining: 294ms\n",
      "915:\tlearn: 0.5699093\ttotal: 3.17s\tremaining: 291ms\n",
      "916:\tlearn: 0.5697978\ttotal: 3.17s\tremaining: 287ms\n",
      "917:\tlearn: 0.5696593\ttotal: 3.18s\tremaining: 284ms\n",
      "918:\tlearn: 0.5695829\ttotal: 3.18s\tremaining: 280ms\n",
      "919:\tlearn: 0.5694914\ttotal: 3.18s\tremaining: 277ms\n",
      "920:\tlearn: 0.5693068\ttotal: 3.19s\tremaining: 273ms\n",
      "921:\tlearn: 0.5692099\ttotal: 3.19s\tremaining: 270ms\n",
      "922:\tlearn: 0.5690596\ttotal: 3.19s\tremaining: 266ms\n",
      "923:\tlearn: 0.5688924\ttotal: 3.2s\tremaining: 263ms\n",
      "924:\tlearn: 0.5687069\ttotal: 3.2s\tremaining: 260ms\n",
      "925:\tlearn: 0.5685952\ttotal: 3.2s\tremaining: 256ms\n",
      "926:\tlearn: 0.5684501\ttotal: 3.21s\tremaining: 253ms\n",
      "927:\tlearn: 0.5683356\ttotal: 3.21s\tremaining: 249ms\n",
      "928:\tlearn: 0.5681916\ttotal: 3.21s\tremaining: 246ms\n",
      "929:\tlearn: 0.5680585\ttotal: 3.22s\tremaining: 242ms\n",
      "930:\tlearn: 0.5679393\ttotal: 3.22s\tremaining: 239ms\n",
      "931:\tlearn: 0.5678528\ttotal: 3.22s\tremaining: 235ms\n",
      "932:\tlearn: 0.5677535\ttotal: 3.23s\tremaining: 232ms\n",
      "933:\tlearn: 0.5676364\ttotal: 3.23s\tremaining: 228ms\n",
      "934:\tlearn: 0.5675492\ttotal: 3.23s\tremaining: 225ms\n",
      "935:\tlearn: 0.5674666\ttotal: 3.24s\tremaining: 221ms\n",
      "936:\tlearn: 0.5673384\ttotal: 3.24s\tremaining: 218ms\n",
      "937:\tlearn: 0.5672287\ttotal: 3.24s\tremaining: 214ms\n",
      "938:\tlearn: 0.5671527\ttotal: 3.25s\tremaining: 211ms\n",
      "939:\tlearn: 0.5670543\ttotal: 3.25s\tremaining: 208ms\n",
      "940:\tlearn: 0.5669286\ttotal: 3.25s\tremaining: 204ms\n",
      "941:\tlearn: 0.5668119\ttotal: 3.26s\tremaining: 201ms\n",
      "942:\tlearn: 0.5666696\ttotal: 3.26s\tremaining: 197ms\n",
      "943:\tlearn: 0.5665092\ttotal: 3.27s\tremaining: 194ms\n",
      "944:\tlearn: 0.5664117\ttotal: 3.27s\tremaining: 190ms\n",
      "945:\tlearn: 0.5662955\ttotal: 3.27s\tremaining: 187ms\n",
      "946:\tlearn: 0.5661464\ttotal: 3.28s\tremaining: 183ms\n",
      "947:\tlearn: 0.5659626\ttotal: 3.28s\tremaining: 180ms\n",
      "948:\tlearn: 0.5658297\ttotal: 3.29s\tremaining: 177ms\n",
      "949:\tlearn: 0.5657098\ttotal: 3.29s\tremaining: 173ms\n",
      "950:\tlearn: 0.5655949\ttotal: 3.29s\tremaining: 170ms\n",
      "951:\tlearn: 0.5654187\ttotal: 3.3s\tremaining: 166ms\n",
      "952:\tlearn: 0.5653270\ttotal: 3.3s\tremaining: 163ms\n",
      "953:\tlearn: 0.5651989\ttotal: 3.31s\tremaining: 160ms\n",
      "954:\tlearn: 0.5650840\ttotal: 3.31s\tremaining: 156ms\n",
      "955:\tlearn: 0.5649541\ttotal: 3.32s\tremaining: 153ms\n",
      "956:\tlearn: 0.5648027\ttotal: 3.32s\tremaining: 149ms\n",
      "957:\tlearn: 0.5646900\ttotal: 3.33s\tremaining: 146ms\n",
      "958:\tlearn: 0.5645681\ttotal: 3.33s\tremaining: 142ms\n",
      "959:\tlearn: 0.5644826\ttotal: 3.33s\tremaining: 139ms\n",
      "960:\tlearn: 0.5643557\ttotal: 3.34s\tremaining: 135ms\n",
      "961:\tlearn: 0.5642259\ttotal: 3.34s\tremaining: 132ms\n",
      "962:\tlearn: 0.5641294\ttotal: 3.34s\tremaining: 128ms\n",
      "963:\tlearn: 0.5640124\ttotal: 3.35s\tremaining: 125ms\n",
      "964:\tlearn: 0.5639116\ttotal: 3.35s\tremaining: 121ms\n",
      "965:\tlearn: 0.5637965\ttotal: 3.35s\tremaining: 118ms\n",
      "966:\tlearn: 0.5636878\ttotal: 3.35s\tremaining: 115ms\n",
      "967:\tlearn: 0.5634994\ttotal: 3.36s\tremaining: 111ms\n",
      "968:\tlearn: 0.5633766\ttotal: 3.36s\tremaining: 108ms\n",
      "969:\tlearn: 0.5632286\ttotal: 3.37s\tremaining: 104ms\n",
      "970:\tlearn: 0.5631027\ttotal: 3.37s\tremaining: 101ms\n",
      "971:\tlearn: 0.5630134\ttotal: 3.37s\tremaining: 97.1ms\n",
      "972:\tlearn: 0.5629093\ttotal: 3.38s\tremaining: 93.7ms\n",
      "973:\tlearn: 0.5627949\ttotal: 3.38s\tremaining: 90.2ms\n",
      "974:\tlearn: 0.5626778\ttotal: 3.38s\tremaining: 86.7ms\n",
      "975:\tlearn: 0.5625573\ttotal: 3.38s\tremaining: 83.2ms\n",
      "976:\tlearn: 0.5624148\ttotal: 3.39s\tremaining: 79.8ms\n",
      "977:\tlearn: 0.5622801\ttotal: 3.39s\tremaining: 76.3ms\n",
      "978:\tlearn: 0.5621666\ttotal: 3.4s\tremaining: 72.8ms\n",
      "979:\tlearn: 0.5620368\ttotal: 3.4s\tremaining: 69.4ms\n",
      "980:\tlearn: 0.5619062\ttotal: 3.4s\tremaining: 65.9ms\n",
      "981:\tlearn: 0.5617799\ttotal: 3.4s\tremaining: 62.4ms\n",
      "982:\tlearn: 0.5616527\ttotal: 3.41s\tremaining: 58.9ms\n",
      "983:\tlearn: 0.5614828\ttotal: 3.41s\tremaining: 55.5ms\n",
      "984:\tlearn: 0.5613690\ttotal: 3.42s\tremaining: 52ms\n",
      "985:\tlearn: 0.5612675\ttotal: 3.42s\tremaining: 48.6ms\n",
      "986:\tlearn: 0.5611687\ttotal: 3.42s\tremaining: 45.1ms\n",
      "987:\tlearn: 0.5609538\ttotal: 3.43s\tremaining: 41.6ms\n",
      "988:\tlearn: 0.5608205\ttotal: 3.43s\tremaining: 38.1ms\n",
      "989:\tlearn: 0.5606822\ttotal: 3.43s\tremaining: 34.7ms\n",
      "990:\tlearn: 0.5605749\ttotal: 3.44s\tremaining: 31.2ms\n",
      "991:\tlearn: 0.5604536\ttotal: 3.44s\tremaining: 27.7ms\n",
      "992:\tlearn: 0.5603259\ttotal: 3.44s\tremaining: 24.3ms\n",
      "993:\tlearn: 0.5602095\ttotal: 3.45s\tremaining: 20.8ms\n",
      "994:\tlearn: 0.5601270\ttotal: 3.45s\tremaining: 17.3ms\n",
      "995:\tlearn: 0.5599843\ttotal: 3.46s\tremaining: 13.9ms\n",
      "996:\tlearn: 0.5598484\ttotal: 3.46s\tremaining: 10.4ms\n",
      "997:\tlearn: 0.5597779\ttotal: 3.46s\tremaining: 6.94ms\n",
      "998:\tlearn: 0.5596872\ttotal: 3.47s\tremaining: 3.47ms\n",
      "999:\tlearn: 0.5596016\ttotal: 3.47s\tremaining: 0us\n"
     ]
    }
   ],
   "source": [
    "from catboost import CatBoostClassifier\n",
    "cb = CatBoostClassifier()\n",
    "cb.fit(X_train,y_train)\n",
    "y_pred=cb.predict(X_test)\n"
   ]
  },
  {
   "cell_type": "code",
   "execution_count": 135,
   "id": "b44e2f42",
   "metadata": {},
   "outputs": [
    {
     "name": "stdout",
     "output_type": "stream",
     "text": [
      "Accuracy is:  62.89655172413793\n"
     ]
    }
   ],
   "source": [
    "print('Accuracy is: ',accuracy_score(y_test,y_pred)*100)"
   ]
  },
  {
   "cell_type": "markdown",
   "id": "2dfed4ff",
   "metadata": {},
   "source": [
    "## 8.Gradient Boosting"
   ]
  },
  {
   "cell_type": "code",
   "execution_count": 129,
   "id": "6ac44e50",
   "metadata": {},
   "outputs": [],
   "source": [
    "from sklearn.ensemble import GradientBoostingClassifier\n",
    "gb = GradientBoostingClassifier()\n",
    "gb.fit(X_train,y_train)\n",
    "y_pred = gb.predict(X_test)"
   ]
  },
  {
   "cell_type": "code",
   "execution_count": 130,
   "id": "689ee4e2",
   "metadata": {},
   "outputs": [
    {
     "name": "stdout",
     "output_type": "stream",
     "text": [
      "Accuracy is:  67.3103448275862\n"
     ]
    }
   ],
   "source": [
    "print('Accuracy is: ',accuracy_score(y_test,y_pred)*100)"
   ]
  },
  {
   "cell_type": "markdown",
   "id": "9db6c96a",
   "metadata": {},
   "source": [
    "## 9.AdaBoost Classifier"
   ]
  },
  {
   "cell_type": "code",
   "execution_count": 132,
   "id": "453a0ee3",
   "metadata": {},
   "outputs": [],
   "source": [
    "from sklearn.ensemble import AdaBoostClassifier\n",
    "adaboost = AdaBoostClassifier()\n",
    "adaboost.fit(X_train, y_train)\n",
    "y_pred = adaboost.predict(X_test)\n"
   ]
  },
  {
   "cell_type": "code",
   "execution_count": 133,
   "id": "fe8a90e8",
   "metadata": {},
   "outputs": [
    {
     "name": "stdout",
     "output_type": "stream",
     "text": [
      "Accuracy is:  66.20689655172414\n"
     ]
    }
   ],
   "source": [
    "print('Accuracy is: ',accuracy_score(y_test,y_pred)*100)"
   ]
  },
  {
   "cell_type": "markdown",
   "id": "400ab895",
   "metadata": {},
   "source": [
    "## 10.XGBoost Classifier"
   ]
  },
  {
   "cell_type": "code",
   "execution_count": 138,
   "id": "e90199f4",
   "metadata": {},
   "outputs": [],
   "source": [
    "label_encoder2 = LabelEncoder()\n",
    "\n",
    "y_encoded = label_encoder2.fit_transform(y)\n",
    "X_train, X_test, y_train, y_test = train_test_split(X, y_encoded, test_size=0.2, random_state=42)\n",
    "import xgboost as xgb\n",
    "xgb_classifier = xgb.XGBClassifier()\n",
    "xgb_classifier.fit(X_train, y_train)\n",
    "y_pred = xgb_classifier.predict(X_test)\n"
   ]
  },
  {
   "cell_type": "code",
   "execution_count": 139,
   "id": "aae6b8ce",
   "metadata": {},
   "outputs": [
    {
     "name": "stdout",
     "output_type": "stream",
     "text": [
      "Accuracy is:  62.3448275862069\n"
     ]
    }
   ],
   "source": [
    "print('Accuracy is: ',accuracy_score(y_test,y_pred)*100)"
   ]
  },
  {
   "cell_type": "markdown",
   "id": "1c36f7a5",
   "metadata": {},
   "source": [
    "## Inference"
   ]
  },
  {
   "cell_type": "markdown",
   "id": "ba7ea102",
   "metadata": {},
   "source": [
    "Logistic Regression - 65.93\n",
    "K-Nearest Neighbours - 64.68\n",
    "Decision Tree - 55.86\n",
    "Random Forest - 59.03\n",
    "SVM - Linear Kernel - 67.72\n",
    "SVM - Polynomial Kernel - 67.17\n",
    "SVM - Radial Kernel - 67.03\n",
    "Naive Bayes Classifier - 32.96\n",
    "CatBoost Classifier - 62.89\n",
    "Gradient Boosting - 67.31\n",
    "AdaBoost classifier - 66.20\n",
    "XGBoost classifier - 62.34\n"
   ]
  },
  {
   "cell_type": "markdown",
   "id": "a7d192e2",
   "metadata": {},
   "source": [
    "# CONCLUSION"
   ]
  },
  {
   "cell_type": "markdown",
   "id": "8cecc56f",
   "metadata": {},
   "source": [
    "After conducting extensive experimentation and evaluation of different algorithms, it was found that SVM with a linear kernel yielded the highest accuracy for drug side effect classification. This result indicates that the model can reliably predict side effects based on the available features."
   ]
  }
 ],
 "metadata": {
  "kernelspec": {
   "display_name": "Python 3 (ipykernel)",
   "language": "python",
   "name": "python3"
  },
  "language_info": {
   "codemirror_mode": {
    "name": "ipython",
    "version": 3
   },
   "file_extension": ".py",
   "mimetype": "text/x-python",
   "name": "python",
   "nbconvert_exporter": "python",
   "pygments_lexer": "ipython3",
   "version": "3.9.13"
  }
 },
 "nbformat": 4,
 "nbformat_minor": 5
}
